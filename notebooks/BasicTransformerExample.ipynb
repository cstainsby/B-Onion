{
 "cells": [
  {
   "cell_type": "code",
   "execution_count": 1,
   "metadata": {},
   "outputs": [],
   "source": [
    "import sys\n",
    "from collections import Counter\n",
    "import torch\n",
    "import torch.nn as nn\n",
    "from torch.utils.data import Dataset, DataLoader\n",
    "import torchtext\n",
    "from torchtext.data.utils import get_tokenizer\n",
    "from torchtext.vocab import Vocab, vocab, GloVe\n",
    "import random"
   ]
  },
  {
   "attachments": {},
   "cell_type": "markdown",
   "metadata": {},
   "source": [
    "### Pull in my modules"
   ]
  },
  {
   "cell_type": "code",
   "execution_count": 2,
   "metadata": {},
   "outputs": [],
   "source": [
    "# import my modules \n",
    "from path import get_model_folder_path\n",
    "sys.path.append(get_model_folder_path())\n",
    "\n",
    "from model import TransformerModel\n",
    "from datasets import GloVeDataset\n"
   ]
  },
  {
   "cell_type": "code",
   "execution_count": 3,
   "metadata": {},
   "outputs": [],
   "source": [
    "device = torch.device('cuda' if torch.cuda.is_available() else 'cpu')"
   ]
  },
  {
   "cell_type": "code",
   "execution_count": 4,
   "metadata": {},
   "outputs": [],
   "source": [
    "tokenizer = get_tokenizer('basic_english')"
   ]
  },
  {
   "attachments": {},
   "cell_type": "markdown",
   "metadata": {},
   "source": [
    "### Create Dataset\n",
    "\n",
    "Create the dataset from the torch Glove embeddings"
   ]
  },
  {
   "cell_type": "code",
   "execution_count": 5,
   "metadata": {},
   "outputs": [],
   "source": [
    "glove_vectors = GloVe(name='6B', dim=300)\n",
    "embeddings = nn.Embedding.from_pretrained(glove_vectors.vectors)"
   ]
  },
  {
   "cell_type": "code",
   "execution_count": 6,
   "metadata": {},
   "outputs": [
    {
     "name": "stdout",
     "output_type": "stream",
     "text": [
      "Vocab Size: 400000\n",
      "Embedded Dimensions: 300\n"
     ]
    }
   ],
   "source": [
    "print(\"Vocab Size:\",glove_vectors.vectors.shape[0])\n",
    "print(\"Embedded Dimensions:\", glove_vectors.vectors.shape[1])"
   ]
  },
  {
   "attachments": {},
   "cell_type": "markdown",
   "metadata": {},
   "source": [
    "### Define vocab from vectors"
   ]
  },
  {
   "cell_type": "code",
   "execution_count": 7,
   "metadata": {},
   "outputs": [],
   "source": [
    "def build_vocab(in_data, tokenizer):\n",
    "  counter = Counter()\n",
    "  for string in in_data:\n",
    "    counter.update(tokenizer(string))\n",
    "\n",
    "  return vocab(counter, specials=['<unk>', '<pad>', '<bos>', '<eos>'])\n",
    "\n",
    "def data_process(in_data, tokenizer, vocab: Vocab):\n",
    "  raw_iter = iter(in_data)\n",
    "  data = []\n",
    "  for raw in raw_iter:\n",
    "    tensor = torch.tensor([vocab[token] for token in tokenizer(raw)], dtype=torch.long)\n",
    "    data.append(tensor)\n",
    "    \n",
    "  return torch.cat(tuple(filter(lambda t: t.numel() > 0, data)))"
   ]
  },
  {
   "cell_type": "code",
   "execution_count": 8,
   "metadata": {},
   "outputs": [
    {
     "ename": "NameError",
     "evalue": "name 'glo' is not defined",
     "output_type": "error",
     "traceback": [
      "\u001b[0;31m---------------------------------------------------------------------------\u001b[0m",
      "\u001b[0;31mNameError\u001b[0m                                 Traceback (most recent call last)",
      "Cell \u001b[0;32mIn[8], line 1\u001b[0m\n\u001b[0;32m----> 1\u001b[0m build_vocab(glo)\n",
      "\u001b[0;31mNameError\u001b[0m: name 'glo' is not defined"
     ]
    }
   ],
   "source": [
    "vocab = build_vocab(\n",
    "  in_data=glove_vectors.itos,\n",
    "  tokenizer=tokenizer)\n",
    "\n",
    "processed_data = \n",
    "\n"
   ]
  },
  {
   "attachments": {},
   "cell_type": "markdown",
   "metadata": {},
   "source": [
    "### Instantiate Model\n",
    "Using the glove vocab, make the model"
   ]
  },
  {
   "cell_type": "code",
   "execution_count": null,
   "metadata": {},
   "outputs": [],
   "source": [
    "model = TransformerModel(\n",
    "  vocab_size=glove_vectors.vectors.shape[0], \n",
    "  embed_dim=glove_vectors.vectors.shape[1], \n",
    "  num_heads=6, \n",
    "  hidden_dim=512, \n",
    "  num_layers=6,\n",
    "  dropout=0.2, \n",
    "  pretrained_embedding=embeddings\n",
    ").to(device)"
   ]
  },
  {
   "cell_type": "code",
   "execution_count": null,
   "metadata": {},
   "outputs": [],
   "source": [
    "\n",
    "def generate_text(model, tokenizer, vocab, starting_text, max_len=50):\n",
    "    # Tokenize the starting text\n",
    "    tokens = tokenizer(starting_text.lower())\n",
    "    print(\"tokens:\", tokens)\n",
    "    # Convert tokens to tensor and add batch dimension\n",
    "    tokens_tensor = torch.tensor([vocab[token] for token in tokens]).unsqueeze(0)\n",
    "    print(\"tokens tensor:\", tokens_tensor)\n",
    "    # Set model to evaluation mode\n",
    "    model.eval()\n",
    "    with torch.no_grad():\n",
    "        for i in range(max_len):\n",
    "            # Generate output sequence\n",
    "            outputs = model(tokens_tensor)\n",
    "            # Get last predicted token (ignoring the batch dimension)\n",
    "            predicted_token = outputs.argmax(dim=-1)[:,-1].item()\n",
    "            # Check for end-of-sequence token\n",
    "            if predicted_token == vocab['<eos>']:\n",
    "                break\n",
    "            # Append predicted token to input sequence\n",
    "            tokens.append(tokenizer.vocab.itos[predicted_token])\n",
    "            tokens_tensor = torch.tensor([vocab[token] for token in tokens]).unsqueeze(0)\n",
    "\n",
    "    # Convert output tokens back to text\n",
    "    generated_text = tokenizer.decode(tokens)\n",
    "    # Return generated text\n",
    "    return generated_text\n"
   ]
  },
  {
   "cell_type": "code",
   "execution_count": null,
   "metadata": {},
   "outputs": [
    {
     "name": "stdout",
     "output_type": "stream",
     "text": [
      "tokens: ['the', 'quick', 'brown', 'fox']\n"
     ]
    },
    {
     "ename": "RuntimeError",
     "evalue": "Token the not found and default index is not set",
     "output_type": "error",
     "traceback": [
      "\u001b[0;31m---------------------------------------------------------------------------\u001b[0m",
      "\u001b[0;31mRuntimeError\u001b[0m                              Traceback (most recent call last)",
      "Cell \u001b[0;32mIn[33], line 2\u001b[0m\n\u001b[1;32m      1\u001b[0m starting_text \u001b[39m=\u001b[39m \u001b[39m\"\u001b[39m\u001b[39mThe quick brown fox\u001b[39m\u001b[39m\"\u001b[39m\n\u001b[0;32m----> 2\u001b[0m generated_text \u001b[39m=\u001b[39m generate_text(model, tokenizer, vocab, starting_text)\n\u001b[1;32m      3\u001b[0m \u001b[39mprint\u001b[39m(\u001b[39m\"\u001b[39m\u001b[39mGenerated Text:\u001b[39m\u001b[39m\"\u001b[39m, generated_text)\n",
      "Cell \u001b[0;32mIn[21], line 6\u001b[0m, in \u001b[0;36mgenerate_text\u001b[0;34m(model, tokenizer, vocab, starting_text, max_len)\u001b[0m\n\u001b[1;32m      4\u001b[0m \u001b[39mprint\u001b[39m(\u001b[39m\"\u001b[39m\u001b[39mtokens:\u001b[39m\u001b[39m\"\u001b[39m, tokens)\n\u001b[1;32m      5\u001b[0m \u001b[39m# Convert tokens to tensor and add batch dimension\u001b[39;00m\n\u001b[0;32m----> 6\u001b[0m tokens_tensor \u001b[39m=\u001b[39m torch\u001b[39m.\u001b[39mtensor([vocab[token] \u001b[39mfor\u001b[39;00m token \u001b[39min\u001b[39;00m tokens])\u001b[39m.\u001b[39munsqueeze(\u001b[39m0\u001b[39m)\n\u001b[1;32m      7\u001b[0m \u001b[39mprint\u001b[39m(\u001b[39m\"\u001b[39m\u001b[39mtokens tensor:\u001b[39m\u001b[39m\"\u001b[39m, tokens_tensor)\n\u001b[1;32m      8\u001b[0m \u001b[39m# Set model to evaluation mode\u001b[39;00m\n",
      "Cell \u001b[0;32mIn[21], line 6\u001b[0m, in \u001b[0;36m<listcomp>\u001b[0;34m(.0)\u001b[0m\n\u001b[1;32m      4\u001b[0m \u001b[39mprint\u001b[39m(\u001b[39m\"\u001b[39m\u001b[39mtokens:\u001b[39m\u001b[39m\"\u001b[39m, tokens)\n\u001b[1;32m      5\u001b[0m \u001b[39m# Convert tokens to tensor and add batch dimension\u001b[39;00m\n\u001b[0;32m----> 6\u001b[0m tokens_tensor \u001b[39m=\u001b[39m torch\u001b[39m.\u001b[39mtensor([vocab[token] \u001b[39mfor\u001b[39;00m token \u001b[39min\u001b[39;00m tokens])\u001b[39m.\u001b[39munsqueeze(\u001b[39m0\u001b[39m)\n\u001b[1;32m      7\u001b[0m \u001b[39mprint\u001b[39m(\u001b[39m\"\u001b[39m\u001b[39mtokens tensor:\u001b[39m\u001b[39m\"\u001b[39m, tokens_tensor)\n\u001b[1;32m      8\u001b[0m \u001b[39m# Set model to evaluation mode\u001b[39;00m\n",
      "File \u001b[0;32m~/.local/lib/python3.8/site-packages/torchtext/vocab/vocab.py:65\u001b[0m, in \u001b[0;36mVocab.__getitem__\u001b[0;34m(self, token)\u001b[0m\n\u001b[1;32m     56\u001b[0m \u001b[39m@torch\u001b[39m\u001b[39m.\u001b[39mjit\u001b[39m.\u001b[39mexport\n\u001b[1;32m     57\u001b[0m \u001b[39mdef\u001b[39;00m \u001b[39m__getitem__\u001b[39m(\u001b[39mself\u001b[39m, token: \u001b[39mstr\u001b[39m) \u001b[39m-\u001b[39m\u001b[39m>\u001b[39m \u001b[39mint\u001b[39m:\n\u001b[1;32m     58\u001b[0m     \u001b[39mr\u001b[39m\u001b[39m\"\"\"\u001b[39;00m\n\u001b[1;32m     59\u001b[0m \u001b[39m    Args:\u001b[39;00m\n\u001b[1;32m     60\u001b[0m \u001b[39m        token: The token used to lookup the corresponding index.\u001b[39;00m\n\u001b[0;32m   (...)\u001b[0m\n\u001b[1;32m     63\u001b[0m \u001b[39m        The index corresponding to the associated token.\u001b[39;00m\n\u001b[1;32m     64\u001b[0m \u001b[39m    \"\"\"\u001b[39;00m\n\u001b[0;32m---> 65\u001b[0m     \u001b[39mreturn\u001b[39;00m \u001b[39mself\u001b[39;49m\u001b[39m.\u001b[39;49mvocab[token]\n",
      "\u001b[0;31mRuntimeError\u001b[0m: Token the not found and default index is not set"
     ]
    }
   ],
   "source": [
    "starting_text = \"The quick brown fox\"\n",
    "generated_text = generate_text(model, tokenizer, vocab, starting_text)\n",
    "print(\"Generated Text:\", generated_text)"
   ]
  }
 ],
 "metadata": {
  "kernelspec": {
   "display_name": "Python 3",
   "language": "python",
   "name": "python3"
  },
  "language_info": {
   "codemirror_mode": {
    "name": "ipython",
    "version": 3
   },
   "file_extension": ".py",
   "mimetype": "text/x-python",
   "name": "python",
   "nbconvert_exporter": "python",
   "pygments_lexer": "ipython3",
   "version": "3.8.10"
  },
  "orig_nbformat": 4,
  "vscode": {
   "interpreter": {
    "hash": "916dbcbb3f70747c44a77c7bcd40155683ae19c65e1c03b4aa3499c5328201f1"
   }
  }
 },
 "nbformat": 4,
 "nbformat_minor": 2
}

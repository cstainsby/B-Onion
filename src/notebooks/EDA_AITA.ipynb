{
 "cells": [
  {
   "attachments": {},
   "cell_type": "markdown",
   "metadata": {},
   "source": [
    "# Exploratory Data Analysis on r/AITA\n",
    "I will be exploring this subreddit as well as what makes a \"good\" post on it. \n",
    "\n",
    "\n",
    "Going into this my main thoughts are that "
   ]
  },
  {
   "attachments": {},
   "cell_type": "markdown",
   "metadata": {},
   "source": [
    "### Setup"
   ]
  },
  {
   "cell_type": "code",
   "execution_count": 17,
   "metadata": {},
   "outputs": [],
   "source": [
    "import sys\n",
    "import importlib\n",
    "import graphviz\n",
    "from IPython.display import Image\n",
    "import pandas as pd\n",
    "import numpy as np\n",
    "from pathlib import Path\n",
    "from dotenv import load_dotenv\n",
    "from wordcloud import WordCloud\n",
    "import matplotlib.pyplot as plt\n",
    "from google.cloud import bigquery\n",
    "from google.cloud.exceptions import NotFound"
   ]
  },
  {
   "cell_type": "code",
   "execution_count": 2,
   "metadata": {},
   "outputs": [
    {
     "data": {
      "text/plain": [
       "True"
      ]
     },
     "execution_count": 2,
     "metadata": {},
     "output_type": "execute_result"
    }
   ],
   "source": [
    "sys.path.append(\"..\")\n",
    "\n",
    "load_dotenv(dotenv_path=Path(\"../settings.env\"))"
   ]
  },
  {
   "cell_type": "code",
   "execution_count": 3,
   "metadata": {},
   "outputs": [],
   "source": [
    "client = bigquery.Client()"
   ]
  },
  {
   "cell_type": "code",
   "execution_count": 4,
   "metadata": {},
   "outputs": [],
   "source": [
    "# Remote data definitions\n",
    "PROJ_NAME = \"bonion\"\n",
    "DATASET_NAME = \"AITA_dataset\"\n",
    "post_table_id = \"{}.{}.post_table\".format(PROJ_NAME, DATASET_NAME)\n",
    "comment_table_id = \"{}.{}.comment_table\".format(PROJ_NAME, DATASET_NAME)\n",
    "reply_table_id = \"{}.{}.reply_table\".format(PROJ_NAME, DATASET_NAME)"
   ]
  },
  {
   "attachments": {},
   "cell_type": "markdown",
   "metadata": {},
   "source": [
    "# Ideas\n",
    "1. Most common words\n",
    "1. Most common classifications \n",
    "1. What kind of posts get which kind of classifications "
   ]
  },
  {
   "attachments": {},
   "cell_type": "markdown",
   "metadata": {},
   "source": [
    "## A Look At the Data"
   ]
  },
  {
   "cell_type": "code",
   "execution_count": 10,
   "metadata": {},
   "outputs": [
    {
     "data": {
      "text/plain": [
       "<module 'data.data_utils' from '/home/cstainsby/class/dataProj/bonion/src/notebooks/../data/data_utils.py'>"
      ]
     },
     "execution_count": 10,
     "metadata": {},
     "output_type": "execute_result"
    }
   ],
   "source": [
    "from data import data_utils\n",
    "importlib.reload(data_utils)"
   ]
  },
  {
   "cell_type": "code",
   "execution_count": 5,
   "metadata": {},
   "outputs": [
    {
     "data": {
      "text/html": [
       "<div>\n",
       "<style scoped>\n",
       "    .dataframe tbody tr th:only-of-type {\n",
       "        vertical-align: middle;\n",
       "    }\n",
       "\n",
       "    .dataframe tbody tr th {\n",
       "        vertical-align: top;\n",
       "    }\n",
       "\n",
       "    .dataframe thead th {\n",
       "        text-align: right;\n",
       "    }\n",
       "</style>\n",
       "<table border=\"1\" class=\"dataframe\">\n",
       "  <thead>\n",
       "    <tr style=\"text-align: right;\">\n",
       "      <th></th>\n",
       "      <th>post_id</th>\n",
       "      <th>post_title</th>\n",
       "      <th>post_content</th>\n",
       "      <th>post_upvotes</th>\n",
       "      <th>comment_id</th>\n",
       "      <th>comment_content</th>\n",
       "      <th>comment_upvotes</th>\n",
       "    </tr>\n",
       "  </thead>\n",
       "  <tbody>\n",
       "    <tr>\n",
       "      <th>0</th>\n",
       "      <td>jyk2ac</td>\n",
       "      <td>AITA for leaving the call when my brother anno...</td>\n",
       "      <td>My brother and I do not get on.\\n\\nWhen we wer...</td>\n",
       "      <td>22802</td>\n",
       "      <td>gd4fbhf</td>\n",
       "      <td>Nta. Your kid is gonna grow up with half sibli...</td>\n",
       "      <td>11786</td>\n",
       "    </tr>\n",
       "    <tr>\n",
       "      <th>1</th>\n",
       "      <td>jyk2ac</td>\n",
       "      <td>AITA for leaving the call when my brother anno...</td>\n",
       "      <td>My brother and I do not get on.\\n\\nWhen we wer...</td>\n",
       "      <td>22802</td>\n",
       "      <td>gd4e5me</td>\n",
       "      <td>NTA- id have cut em both out completely. They’...</td>\n",
       "      <td>4036</td>\n",
       "    </tr>\n",
       "    <tr>\n",
       "      <th>2</th>\n",
       "      <td>jyk2ac</td>\n",
       "      <td>AITA for leaving the call when my brother anno...</td>\n",
       "      <td>My brother and I do not get on.\\n\\nWhen we wer...</td>\n",
       "      <td>22802</td>\n",
       "      <td>gd4e513</td>\n",
       "      <td>NTA\\n\\nI think you handled the situation as we...</td>\n",
       "      <td>26273</td>\n",
       "    </tr>\n",
       "    <tr>\n",
       "      <th>3</th>\n",
       "      <td>jyk2ac</td>\n",
       "      <td>AITA for leaving the call when my brother anno...</td>\n",
       "      <td>My brother and I do not get on.\\n\\nWhen we wer...</td>\n",
       "      <td>22802</td>\n",
       "      <td>gd4eips</td>\n",
       "      <td>This is a lot to unpack, but you're definitely...</td>\n",
       "      <td>2271</td>\n",
       "    </tr>\n",
       "  </tbody>\n",
       "</table>\n",
       "</div>"
      ],
      "text/plain": [
       "  post_id                                         post_title  \\\n",
       "0  jyk2ac  AITA for leaving the call when my brother anno...   \n",
       "1  jyk2ac  AITA for leaving the call when my brother anno...   \n",
       "2  jyk2ac  AITA for leaving the call when my brother anno...   \n",
       "3  jyk2ac  AITA for leaving the call when my brother anno...   \n",
       "\n",
       "                                        post_content  post_upvotes comment_id  \\\n",
       "0  My brother and I do not get on.\\n\\nWhen we wer...         22802    gd4fbhf   \n",
       "1  My brother and I do not get on.\\n\\nWhen we wer...         22802    gd4e5me   \n",
       "2  My brother and I do not get on.\\n\\nWhen we wer...         22802    gd4e513   \n",
       "3  My brother and I do not get on.\\n\\nWhen we wer...         22802    gd4eips   \n",
       "\n",
       "                                     comment_content  comment_upvotes  \n",
       "0  Nta. Your kid is gonna grow up with half sibli...            11786  \n",
       "1  NTA- id have cut em both out completely. They’...             4036  \n",
       "2  NTA\\n\\nI think you handled the situation as we...            26273  \n",
       "3  This is a lot to unpack, but you're definitely...             2271  "
      ]
     },
     "execution_count": 5,
     "metadata": {},
     "output_type": "execute_result"
    }
   ],
   "source": [
    "# get data from GCP\n",
    "query_for_post_data = \"\"\"\n",
    "    SELECT reddit_post_id AS post_id, post_title, post_self_text AS post_content, posts.upvotes AS post_upvotes, \n",
    "            comment_id, content AS comment_content, comments.upvotes AS comment_upvotes\n",
    "    FROM {} posts JOIN {} comments ON (posts.reddit_post_id = SUBSTRING(comments.parent_id, 4, 100));\n",
    "\"\"\".format(post_table_id, comment_table_id)\n",
    "\n",
    "post_join_comment_df = pd.read_gbq(query_for_post_data, project_id=PROJ_NAME)\n",
    "\n",
    "post_join_comment_df.head(4)"
   ]
  },
  {
   "attachments": {},
   "cell_type": "markdown",
   "metadata": {},
   "source": [
    "### Number of Rows for each Table"
   ]
  },
  {
   "cell_type": "code",
   "execution_count": 9,
   "metadata": {},
   "outputs": [
    {
     "name": "stdout",
     "output_type": "stream",
     "text": [
      "   rows_in_posts\n",
      "0            998\n",
      "   rows_in_comments\n",
      "0              2796\n",
      "   rows_in_replies\n",
      "0             9518\n"
     ]
    }
   ],
   "source": [
    "print(pd.read_gbq(\"SELECT COUNT(*) AS {} FROM {}\".format(\"rows_in_posts\", post_table_id), project_id=PROJ_NAME))\n",
    "print(pd.read_gbq(\"SELECT COUNT(*) AS {} FROM {}\".format(\"rows_in_comments\", comment_table_id), project_id=PROJ_NAME))\n",
    "print(pd.read_gbq(\"SELECT COUNT(*) AS {} FROM {}\".format(\"rows_in_replies\", reply_table_id), project_id=PROJ_NAME))"
   ]
  },
  {
   "attachments": {},
   "cell_type": "markdown",
   "metadata": {},
   "source": [
    "### How Many of Each Class\n",
    "I'm going to build a dictionary for { post_class &rarr; (comment_class, num_comment_class_occurances) } and another dictionary for { post_class &rarr; num__post_class_occurances }"
   ]
  },
  {
   "cell_type": "code",
   "execution_count": null,
   "metadata": {},
   "outputs": [],
   "source": []
  },
  {
   "attachments": {},
   "cell_type": "markdown",
   "metadata": {},
   "source": [
    "### Graph Showing Distribution of Classes"
   ]
  },
  {
   "cell_type": "code",
   "execution_count": 18,
   "metadata": {},
   "outputs": [
    {
     "data": {
      "image/png": "[encoded data removed]",
      "text/plain": [
       "<IPython.core.display.Image object>"
      ]
     },
     "metadata": {},
     "output_type": "display_data"
    }
   ],
   "source": [
    "classification_graph = graphviz.Digraph(\"Classification Graph\", comment=\"Shows which comment classifications go to which comment classifications based on user voting\")\n",
    "classification_graph.node(\"A\", \"test node\")\n",
    "classification_graph.render(directory=\"static\", format='png')\n",
    "display(Image(filename='static/Classification Graph.gv.png'))"
   ]
  },
  {
   "attachments": {},
   "cell_type": "markdown",
   "metadata": {},
   "source": [
    "## Sentiment Analysis and Classification\n",
    "In the AITA subreddit, how it works is someone posts about something which has happened or might happen in the future. It is then the job of the commenters to tell the original poster what they think of their situation using these possible classifications.\n",
    "- YTA = You're the Asshole\n",
    "- YWBTA = You Would Be the Asshole\n",
    "- NTA = Not the Asshole\n",
    "- YWNBTA = You Would Not be the Asshole\n",
    "- ESH = Everyone Sucks here\n",
    "- NAH = No Assholes here\n",
    "- INFO = Not Enough Info\n",
    "\n",
    "So it is then our job as the data scientist to find out, based on the post contents and title, what the classification will be."
   ]
  },
  {
   "cell_type": "code",
   "execution_count": null,
   "metadata": {},
   "outputs": [],
   "source": []
  }
 ],
 "metadata": {
  "kernelspec": {
   "display_name": "Python 3",
   "language": "python",
   "name": "python3"
  },
  "language_info": {
   "codemirror_mode": {
    "name": "ipython",
    "version": 3
   },
   "file_extension": ".py",
   "mimetype": "text/x-python",
   "name": "python",
   "nbconvert_exporter": "python",
   "pygments_lexer": "ipython3",
   "version": "3.8.10"
  },
  "orig_nbformat": 4
 },
 "nbformat": 4,
 "nbformat_minor": 2
}

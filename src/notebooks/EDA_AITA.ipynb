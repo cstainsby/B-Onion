{
 "cells": [
  {
   "attachments": {},
   "cell_type": "markdown",
   "metadata": {},
   "source": [
    "# Exploratory Data Analysis on AITA Sub-reddit\n",
    "I will be exploring this subreddit as well as what makes a \"good\" post on it. \n",
    "\n",
    "\n",
    "Going into this my main thoughts are that "
   ]
  },
  {
   "cell_type": "code",
   "execution_count": 1,
   "metadata": {},
   "outputs": [],
   "source": [
    "from wordcloud import WordCloud\n",
    "import matplotlib.pyplot as plt"
   ]
  },
  {
   "attachments": {},
   "cell_type": "markdown",
   "metadata": {},
   "source": [
    "# Ideas\n",
    "1. Most common words\n",
    "1. Most common classifications \n",
    "1. What kind of posts get which kind of classifications "
   ]
  },
  {
   "attachments": {},
   "cell_type": "markdown",
   "metadata": {},
   "source": [
    "## Posts"
   ]
  },
  {
   "cell_type": "code",
   "execution_count": null,
   "metadata": {},
   "outputs": [],
   "source": [
    "# get data from GCP\n"
   ]
  },
  {
   "attachments": {},
   "cell_type": "markdown",
   "metadata": {},
   "source": [
    "## Sentiment Analysis and Classification\n",
    "In the AITA subreddit, how it works is someone posts about something which has happened or might happen in the future. It is then the job of the commenters to tell the original poster what they think of their situation using these possible classifications.\n",
    "- YTA = You're the Asshole\n",
    "- YWBTA = You Would Be the Asshole\n",
    "- NTA = Not the Asshole\n",
    "- YWNBTA = You Would Not be the Asshole\n",
    "- ESH = Everyone Sucks here\n",
    "- NAH = No Assholes here\n",
    "- INFO = Not Enough Info\n",
    "\n",
    "So it is then our job as the data scientist to find out, based on the post contents and title, what the classification will be."
   ]
  },
  {
   "cell_type": "code",
   "execution_count": null,
   "metadata": {},
   "outputs": [],
   "source": []
  }
 ],
 "metadata": {
  "kernelspec": {
   "display_name": "Python 3",
   "language": "python",
   "name": "python3"
  },
  "language_info": {
   "codemirror_mode": {
    "name": "ipython",
    "version": 3
   },
   "file_extension": ".py",
   "mimetype": "text/x-python",
   "name": "python",
   "nbconvert_exporter": "python",
   "pygments_lexer": "ipython3",
   "version": "3.8.10"
  },
  "orig_nbformat": 4
 },
 "nbformat": 4,
 "nbformat_minor": 2
}

{
 "cells": [
  {
   "cell_type": "code",
   "execution_count": 6,
   "metadata": {},
   "outputs": [],
   "source": [
    "import os\n",
    "import openai\n",
    "import csv"
   ]
  },
  {
   "cell_type": "code",
   "execution_count": 7,
   "metadata": {},
   "outputs": [],
   "source": [
    "token = \"\"\n",
    "\n",
    "with open('../creds/open_ai_creds.csv', 'r') as file:\n",
    "    reader = csv.DictReader(file)\n",
    "    token = next(reader)[\"APIkey\"]"
   ]
  },
  {
   "cell_type": "code",
   "execution_count": 8,
   "metadata": {},
   "outputs": [
    {
     "data": {
      "text/plain": [
       "<OpenAIObject text_completion id=cmpl-73bSJlCzWJa3lFnxaJ65FGDHE0qSc at 0x7f14c0545680> JSON: {\n",
       "  \"choices\": [\n",
       "    {\n",
       "      \"finish_reason\": \"length\",\n",
       "      \"index\": 0,\n",
       "      \"logprobs\": null,\n",
       "      \"text\": \"\\n\\nIn a shocking turn of events, oranges have been declared the new \\\"superfood\\\" of the decade. Scientists have discovered that oranges contain a mysterious ingredient that can cure any and all ailments, from the common cold to cancer.\\n\\nThe news has sent shockwaves through the health and wellness community, as oranges have long been considered a \\\"junk food\\\" due to their high sugar content. But now, experts are singing a different tune, claiming that oranges are the key to a long\"\n",
       "    }\n",
       "  ],\n",
       "  \"created\": 1681093319,\n",
       "  \"id\": \"cmpl-73bSJlCzWJa3lFnxaJ65FGDHE0qSc\",\n",
       "  \"model\": \"text-davinci-003\",\n",
       "  \"object\": \"text_completion\",\n",
       "  \"usage\": {\n",
       "    \"completion_tokens\": 100,\n",
       "    \"prompt_tokens\": 6,\n",
       "    \"total_tokens\": 106\n",
       "  }\n",
       "}"
      ]
     },
     "execution_count": 8,
     "metadata": {},
     "output_type": "execute_result"
    }
   ],
   "source": [
    "# Load your API key from an environment variable or secret management service\n",
    "openai.api_key = token\n",
    "\n",
    "response = openai.Completion.create(model=\"text-davinci-003\", prompt=\"Make a satirical article about oranges\", temperature=0, max_tokens=100)\n",
    "response"
   ]
  },
  {
   "cell_type": "code",
   "execution_count": 9,
   "metadata": {},
   "outputs": [
    {
     "data": {
      "text/plain": [
       "'\\n\\nIn a shocking turn of events, oranges have been declared the new \"superfood\" of the decade. Scientists have discovered that oranges contain a mysterious ingredient that can cure any and all ailments, from the common cold to cancer.\\n\\nThe news has sent shockwaves through the health and wellness community, as oranges have long been considered a \"junk food\" due to their high sugar content. But now, experts are singing a different tune, claiming that oranges are the key to a long'"
      ]
     },
     "execution_count": 9,
     "metadata": {},
     "output_type": "execute_result"
    }
   ],
   "source": [
    "response[\"choices\"][0].text"
   ]
  }
 ],
 "metadata": {
  "kernelspec": {
   "display_name": "Python 3",
   "language": "python",
   "name": "python3"
  },
  "language_info": {
   "codemirror_mode": {
    "name": "ipython",
    "version": 3
   },
   "file_extension": ".py",
   "mimetype": "text/x-python",
   "name": "python",
   "nbconvert_exporter": "python",
   "pygments_lexer": "ipython3",
   "version": "3.8.10"
  },
  "orig_nbformat": 4
 },
 "nbformat": 4,
 "nbformat_minor": 2
}

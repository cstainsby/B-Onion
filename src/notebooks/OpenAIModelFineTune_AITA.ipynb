{
 "cells": [
  {
   "attachments": {},
   "cell_type": "markdown",
   "metadata": {},
   "source": [
    "# Create and Fine Tune OpenAI Model for r/AITA\n",
    "Using the data we've already uploaded to GCP for posts and comments on r/AITA, we are going to pull said data locally to be converted into the JSONL format that OpenAI prefers. Using this data we will create two models. \n",
    "1. sentiment prediction for the classification label of the first layer comments\n",
    "2. An text blurb generator explaining how the AI arrived at its classification\n",
    "\n",
    "The first will be trained on only the posts and the following comments classifications for now. "
   ]
  },
  {
   "cell_type": "code",
   "execution_count": 19,
   "metadata": {},
   "outputs": [],
   "source": [
    "import openai\n",
    "import sys\n",
    "import importlib\n",
    "import pandas as pd\n",
    "import numpy as np\n",
    "from pathlib import Path\n",
    "from dotenv import load_dotenv\n",
    "from google.cloud import bigquery\n",
    "from google.cloud.exceptions import NotFound"
   ]
  },
  {
   "cell_type": "code",
   "execution_count": 20,
   "metadata": {},
   "outputs": [
    {
     "data": {
      "text/plain": [
       "True"
      ]
     },
     "execution_count": 20,
     "metadata": {},
     "output_type": "execute_result"
    }
   ],
   "source": [
    "sys.path.append(\"..\")\n",
    "\n",
    "# load enviornment variables for praw to work later\n",
    "load_dotenv(dotenv_path=Path(\"../settings.env\"))"
   ]
  },
  {
   "cell_type": "code",
   "execution_count": 21,
   "metadata": {},
   "outputs": [],
   "source": [
    "client = bigquery.Client()"
   ]
  },
  {
   "cell_type": "code",
   "execution_count": 22,
   "metadata": {},
   "outputs": [],
   "source": [
    "# Remote data definitions\n",
    "PROJ_NAME = \"bonion\"\n",
    "DATASET_NAME = \"AITA_dataset\"\n",
    "post_table_id = \"{}.{}.post_table\".format(PROJ_NAME, DATASET_NAME)\n",
    "comment_table_id = \"{}.{}.comment_table\".format(PROJ_NAME, DATASET_NAME)\n",
    "reply_table_id = \"{}.{}.reply_table\".format(PROJ_NAME, DATASET_NAME)"
   ]
  },
  {
   "attachments": {},
   "cell_type": "markdown",
   "metadata": {},
   "source": [
    "## Prepare Sentiment Analysis and Classification Prediction Dataset\n",
    "Convert Posts and their comments to shape."
   ]
  },
  {
   "cell_type": "code",
   "execution_count": 23,
   "metadata": {},
   "outputs": [
    {
     "data": {
      "text/html": [
       "<div>\n",
       "<style scoped>\n",
       "    .dataframe tbody tr th:only-of-type {\n",
       "        vertical-align: middle;\n",
       "    }\n",
       "\n",
       "    .dataframe tbody tr th {\n",
       "        vertical-align: top;\n",
       "    }\n",
       "\n",
       "    .dataframe thead th {\n",
       "        text-align: right;\n",
       "    }\n",
       "</style>\n",
       "<table border=\"1\" class=\"dataframe\">\n",
       "  <thead>\n",
       "    <tr style=\"text-align: right;\">\n",
       "      <th></th>\n",
       "      <th>post_id</th>\n",
       "      <th>post_title</th>\n",
       "      <th>post_content</th>\n",
       "      <th>post_upvotes</th>\n",
       "      <th>comment_id</th>\n",
       "      <th>comment_content</th>\n",
       "      <th>comment_upvotes</th>\n",
       "    </tr>\n",
       "  </thead>\n",
       "  <tbody>\n",
       "    <tr>\n",
       "      <th>0</th>\n",
       "      <td>jyk2ac</td>\n",
       "      <td>AITA for leaving the call when my brother anno...</td>\n",
       "      <td>My brother and I do not get on.\\n\\nWhen we wer...</td>\n",
       "      <td>22802</td>\n",
       "      <td>gd4fbhf</td>\n",
       "      <td>Nta. Your kid is gonna grow up with half sibli...</td>\n",
       "      <td>11786</td>\n",
       "    </tr>\n",
       "    <tr>\n",
       "      <th>1</th>\n",
       "      <td>jyk2ac</td>\n",
       "      <td>AITA for leaving the call when my brother anno...</td>\n",
       "      <td>My brother and I do not get on.\\n\\nWhen we wer...</td>\n",
       "      <td>22802</td>\n",
       "      <td>gd4e5me</td>\n",
       "      <td>NTA- id have cut em both out completely. They’...</td>\n",
       "      <td>4036</td>\n",
       "    </tr>\n",
       "    <tr>\n",
       "      <th>2</th>\n",
       "      <td>jyk2ac</td>\n",
       "      <td>AITA for leaving the call when my brother anno...</td>\n",
       "      <td>My brother and I do not get on.\\n\\nWhen we wer...</td>\n",
       "      <td>22802</td>\n",
       "      <td>gd4e513</td>\n",
       "      <td>NTA\\n\\nI think you handled the situation as we...</td>\n",
       "      <td>26273</td>\n",
       "    </tr>\n",
       "    <tr>\n",
       "      <th>3</th>\n",
       "      <td>jyk2ac</td>\n",
       "      <td>AITA for leaving the call when my brother anno...</td>\n",
       "      <td>My brother and I do not get on.\\n\\nWhen we wer...</td>\n",
       "      <td>22802</td>\n",
       "      <td>gd4eips</td>\n",
       "      <td>This is a lot to unpack, but you're definitely...</td>\n",
       "      <td>2271</td>\n",
       "    </tr>\n",
       "  </tbody>\n",
       "</table>\n",
       "</div>"
      ],
      "text/plain": [
       "  post_id                                         post_title  \\\n",
       "0  jyk2ac  AITA for leaving the call when my brother anno...   \n",
       "1  jyk2ac  AITA for leaving the call when my brother anno...   \n",
       "2  jyk2ac  AITA for leaving the call when my brother anno...   \n",
       "3  jyk2ac  AITA for leaving the call when my brother anno...   \n",
       "\n",
       "                                        post_content  post_upvotes comment_id  \\\n",
       "0  My brother and I do not get on.\\n\\nWhen we wer...         22802    gd4fbhf   \n",
       "1  My brother and I do not get on.\\n\\nWhen we wer...         22802    gd4e5me   \n",
       "2  My brother and I do not get on.\\n\\nWhen we wer...         22802    gd4e513   \n",
       "3  My brother and I do not get on.\\n\\nWhen we wer...         22802    gd4eips   \n",
       "\n",
       "                                     comment_content  comment_upvotes  \n",
       "0  Nta. Your kid is gonna grow up with half sibli...            11786  \n",
       "1  NTA- id have cut em both out completely. They’...             4036  \n",
       "2  NTA\\n\\nI think you handled the situation as we...            26273  \n",
       "3  This is a lot to unpack, but you're definitely...             2271  "
      ]
     },
     "execution_count": 23,
     "metadata": {},
     "output_type": "execute_result"
    }
   ],
   "source": [
    "# get data \n",
    "query_for_post_data = \"\"\"\n",
    "    SELECT reddit_post_id AS post_id, post_title, post_self_text AS post_content, posts.upvotes AS post_upvotes, \n",
    "            comment_id, content AS comment_content, comments.upvotes AS comment_upvotes\n",
    "    FROM {} posts JOIN {} comments ON (posts.reddit_post_id = SUBSTRING(comments.parent_id, 4, 100))\n",
    "    LIMIT 4;\n",
    "\"\"\".format(post_table_id, comment_table_id)\n",
    "\n",
    "post_join_comment_df = pd.read_gbq(query_for_post_data, project_id=PROJ_NAME)\n",
    "\n",
    "post_join_comment_df.head(4)"
   ]
  },
  {
   "cell_type": "code",
   "execution_count": 26,
   "metadata": {},
   "outputs": [
    {
     "data": {
      "text/plain": [
       "\"This is a lot to unpack, but you're definitely NTA. \\n\\nHe purposely seeked out your crazy ex gf, got her pregnant, and expected you to be okay with that news? Id cut all contact with them. NTA!\""
      ]
     },
     "execution_count": 26,
     "metadata": {},
     "output_type": "execute_result"
    }
   ],
   "source": [
    "post_join_comment_df.iloc[3][\"comment_content\"]"
   ]
  },
  {
   "attachments": {},
   "cell_type": "markdown",
   "metadata": {},
   "source": [
    "### Basic Data Modifications\n",
    "Because r/AITA uses acronyms to describe their ratings of the story, it might make it difficult for the model to understand the meanings behind them due to the niche use of them. I'm going to use regex to parse each of the comment_content's for the classification labels:\n",
    "- YTA = You're the Asshole\n",
    "- YWBTA = You Would Be the Asshole\n",
    "- NTA = Not the Asshole\n",
    "- YWNBTA = You Would Not be the Asshole\n",
    "- ESH = Everyone Sucks here\n",
    "- NAH = No Assholes here\n",
    "- INFO = Not Enough Info\n",
    "\n",
    "These labels will be placed in a *class* column within the df. Then I will convert all instances of these acronyms within the comment content to its full \"version\" e.g. YTA -> You're the Asshole."
   ]
  },
  {
   "cell_type": "code",
   "execution_count": null,
   "metadata": {},
   "outputs": [],
   "source": [
    "for post_comment_row in post_join_comment_df.iterrows():\n",
    "    break"
   ]
  },
  {
   "attachments": {},
   "cell_type": "markdown",
   "metadata": {},
   "source": [
    "### Outline of Model Data Inputs\n",
    "Bellow I will show the inputs and outputs of each of the models.\n",
    "\n",
    "1. ClassificationModel(post_title, post_contents) -> classification \n",
    "2. TextGenerationModel(post_title, post_contents, classification) -> completion with classification explicitly stated\n",
    "\n",
    "\n",
    "#### A Note about the initial TextGenerationModel\n",
    "For my first \"naive\" model, I'm going to exapand the classification labels into full words because the acronyms might not have much meaning to open ai's model. "
   ]
  },
  {
   "attachments": {},
   "cell_type": "markdown",
   "metadata": {},
   "source": [
    "### The Classification Model\n",
    "\n",
    "**ClassificationModel(post_title, post_contents) -> classification**\n",
    "\n",
    "For the first example, this would require that the data be placed in the following format:\n",
    "```\n",
    "    {\n",
    "        \"prompt\":\"post_title=<post_title>, post_contents=<post_contents>\"\n",
    "        \"completion\":<class label>\n",
    "    }\n",
    "```"
   ]
  },
  {
   "cell_type": "code",
   "execution_count": 25,
   "metadata": {},
   "outputs": [
    {
     "name": "stdout",
     "output_type": "stream",
     "text": [
      "(0, post_id                                                       jyk2ac\n",
      "post_title         AITA for leaving the call when my brother anno...\n",
      "post_content       My brother and I do not get on.\\n\\nWhen we wer...\n",
      "post_upvotes                                                   22802\n",
      "comment_id                                                   gd4fbhf\n",
      "comment_content    Nta. Your kid is gonna grow up with half sibli...\n",
      "comment_upvotes                                                11786\n",
      "Name: 0, dtype: object)\n"
     ]
    }
   ],
   "source": [
    "# collect data\n",
    "for post_comment_row in post_join_comment_df.iterrows():\n",
    "    print(post_comment_row)\n",
    "    \n",
    "    break"
   ]
  }
 ],
 "metadata": {
  "kernelspec": {
   "display_name": "Python 3",
   "language": "python",
   "name": "python3"
  },
  "language_info": {
   "codemirror_mode": {
    "name": "ipython",
    "version": 3
   },
   "file_extension": ".py",
   "mimetype": "text/x-python",
   "name": "python",
   "nbconvert_exporter": "python",
   "pygments_lexer": "ipython3",
   "version": "3.8.10"
  },
  "orig_nbformat": 4
 },
 "nbformat": 4,
 "nbformat_minor": 2
}

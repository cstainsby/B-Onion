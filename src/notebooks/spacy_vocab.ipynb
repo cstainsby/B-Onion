{
 "cells": [
  {
   "attachments": {},
   "cell_type": "markdown",
   "metadata": {},
   "source": [
    "# Spacy Tokenizer \n",
    "\n",
    "This document is here for me to show basic functionality of spacy as it relates to my project."
   ]
  },
  {
   "cell_type": "code",
   "execution_count": 18,
   "metadata": {},
   "outputs": [],
   "source": [
    "import spacy\n",
    "from spacy.tokenizer import Tokenizer\n",
    "from spacy.lang.en import English\n",
    "\n",
    "import torch\n",
    "from torchtext.vocab import GloVe, vocab, Vocab"
   ]
  },
  {
   "attachments": {},
   "cell_type": "markdown",
   "metadata": {},
   "source": [
    "#### Create Tokenizer"
   ]
  },
  {
   "cell_type": "code",
   "execution_count": 19,
   "metadata": {},
   "outputs": [],
   "source": [
    "nlp = English()\n",
    "# Create a blank Tokenizer with just the English vocab\n",
    "tokenizer = Tokenizer(nlp.vocab)"
   ]
  },
  {
   "attachments": {},
   "cell_type": "markdown",
   "metadata": {},
   "source": [
    "#### Examples of Tokenization\n",
    "Encoding"
   ]
  },
  {
   "cell_type": "code",
   "execution_count": 20,
   "metadata": {},
   "outputs": [
    {
     "name": "stdout",
     "output_type": "stream",
     "text": [
      "<class 'spacy.tokens.doc.Doc'>\n"
     ]
    },
    {
     "data": {
      "text/plain": [
       "This is a sentence"
      ]
     },
     "execution_count": 20,
     "metadata": {},
     "output_type": "execute_result"
    }
   ],
   "source": [
    "tokens = tokenizer(\"This is a sentence\")\n",
    "\n",
    "print(type(tokens))\n",
    "tokens"
   ]
  },
  {
   "attachments": {},
   "cell_type": "markdown",
   "metadata": {},
   "source": [
    "Decoding"
   ]
  },
  {
   "cell_type": "code",
   "execution_count": 21,
   "metadata": {},
   "outputs": [
    {
     "name": "stdout",
     "output_type": "stream",
     "text": [
      "<class 'str'>\n",
      "This is a sentence\n"
     ]
    }
   ],
   "source": [
    "decoded_text = \" \".join(token.text for token in tokens)\n",
    "\n",
    "print(type(decoded_text))\n",
    "print(decoded_text)"
   ]
  },
  {
   "attachments": {},
   "cell_type": "markdown",
   "metadata": {},
   "source": [
    "### Import Glove Embeddings "
   ]
  },
  {
   "cell_type": "code",
   "execution_count": 26,
   "metadata": {},
   "outputs": [],
   "source": [
    "glove = GloVe(name='6B', dim=300)\n",
    "\n",
    "vocab_list = glove.itos\n",
    "vocab_emb_mapping_dict = glove.stoi\n",
    "embeddings = glove.vectors"
   ]
  },
  {
   "cell_type": "code",
   "execution_count": 30,
   "metadata": {},
   "outputs": [],
   "source": [
    "# Create a PyTorch Vocab object using the token frequencies\n",
    "pytorch_vocab = vocab(\n",
    "    ordered_dict=vocab_emb_mapping_dict,\n",
    "    min_freq=1,\n",
    "    specials=['<unk>', '<pad>', '<sos>', '<eos>'],\n",
    "    special_first=True\n",
    ")"
   ]
  },
  {
   "attachments": {},
   "cell_type": "markdown",
   "metadata": {},
   "source": [
    "### Load in Spacy english model\n",
    "\n",
    "Add custom pipeline component with the vocab object we just created."
   ]
  },
  {
   "cell_type": "code",
   "execution_count": 22,
   "metadata": {},
   "outputs": [],
   "source": [
    "nlp = spacy.load('en_core_web_sm')"
   ]
  },
  {
   "attachments": {},
   "cell_type": "markdown",
   "metadata": {},
   "source": [
    "#### Example of tokenization process"
   ]
  },
  {
   "cell_type": "code",
   "execution_count": 39,
   "metadata": {},
   "outputs": [
    {
     "name": "stdout",
     "output_type": "stream",
     "text": [
      "['this', 'is', 'an', 'example', 'sentence', '.']\n",
      "[40, 17, 32, 883, 2425, 5]\n"
     ]
    }
   ],
   "source": [
    "unprocessed_text = \"This is an example sentence.\"\n",
    "\n",
    "# Tokenize the string using spacy\n",
    "tokens = [token.text.lower() for token in nlp(unprocessed_text)]\n",
    "print(tokens)\n",
    "\n",
    "# Map each token to its integer index in the PyTorch Vocab object\n",
    "token_indices = [pytorch_vocab.get_stoi()[token] for token in tokens]\n",
    "\n",
    "print(token_indices)"
   ]
  }
 ],
 "metadata": {
  "kernelspec": {
   "display_name": "Python 3",
   "language": "python",
   "name": "python3"
  },
  "language_info": {
   "codemirror_mode": {
    "name": "ipython",
    "version": 3
   },
   "file_extension": ".py",
   "mimetype": "text/x-python",
   "name": "python",
   "nbconvert_exporter": "python",
   "pygments_lexer": "ipython3",
   "version": "3.8.10"
  },
  "orig_nbformat": 4
 },
 "nbformat": 4,
 "nbformat_minor": 2
}

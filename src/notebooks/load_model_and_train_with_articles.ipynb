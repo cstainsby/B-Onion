{
 "cells": [
  {
   "cell_type": "code",
   "execution_count": 1,
   "metadata": {},
   "outputs": [],
   "source": [
    "import torch\n",
    "import torch.nn as nn\n",
    "from torch import optim\n",
    "\n",
    "import sys"
   ]
  },
  {
   "cell_type": "code",
   "execution_count": 2,
   "metadata": {},
   "outputs": [
    {
     "name": "stderr",
     "output_type": "stream",
     "text": [
      "2023-03-29 13:41:45.508940: I tensorflow/core/platform/cpu_feature_guard.cc:193] This TensorFlow binary is optimized with oneAPI Deep Neural Network Library (oneDNN) to use the following CPU instructions in performance-critical operations:  AVX2 FMA\n",
      "To enable them in other operations, rebuild TensorFlow with the appropriate compiler flags.\n",
      "2023-03-29 13:41:46.910089: W tensorflow/compiler/xla/stream_executor/platform/default/dso_loader.cc:64] Could not load dynamic library 'libnvinfer.so.7'; dlerror: libnvinfer.so.7: cannot open shared object file: No such file or directory\n",
      "2023-03-29 13:41:46.910223: W tensorflow/compiler/xla/stream_executor/platform/default/dso_loader.cc:64] Could not load dynamic library 'libnvinfer_plugin.so.7'; dlerror: libnvinfer_plugin.so.7: cannot open shared object file: No such file or directory\n",
      "2023-03-29 13:41:46.910234: W tensorflow/compiler/tf2tensorrt/utils/py_utils.cc:38] TF-TRT Warning: Cannot dlopen some TensorRT libraries. If you would like to use Nvidia GPU with TensorRT, please make sure the missing libraries mentioned above are installed properly.\n",
      "2023-03-29 13:41:48.254321: W tensorflow/compiler/xla/stream_executor/platform/default/dso_loader.cc:64] Could not load dynamic library 'libcuda.so.1'; dlerror: libcuda.so.1: cannot open shared object file: No such file or directory\n",
      "2023-03-29 13:41:48.254384: W tensorflow/compiler/xla/stream_executor/cuda/cuda_driver.cc:265] failed call to cuInit: UNKNOWN ERROR (303)\n",
      "2023-03-29 13:41:48.254406: I tensorflow/compiler/xla/stream_executor/cuda/cuda_diagnostics.cc:156] kernel driver does not appear to be running on this host (DESKTOP-T093QRC): /proc/driver/nvidia/version does not exist\n"
     ]
    }
   ],
   "source": [
    "# local imports \n",
    "sys.path.append(\"..\")\n",
    "\n",
    "from transformer_model import generate_text, train_model, tokenize_raw_data\n",
    "from data import ArticlesIter, articles_filepath"
   ]
  },
  {
   "attachments": {},
   "cell_type": "markdown",
   "metadata": {},
   "source": [
    "## Setup"
   ]
  },
  {
   "cell_type": "code",
   "execution_count": 3,
   "metadata": {},
   "outputs": [],
   "source": [
    "device = torch.device('cuda' if torch.cuda.is_available() else 'cpu')"
   ]
  },
  {
   "attachments": {},
   "cell_type": "markdown",
   "metadata": {},
   "source": [
    "### Load Vocab"
   ]
  },
  {
   "cell_type": "code",
   "execution_count": 4,
   "metadata": {},
   "outputs": [
    {
     "name": "stdout",
     "output_type": "stream",
     "text": [
      "Vocab size: 400004\n"
     ]
    }
   ],
   "source": [
    "SAVE_PATH = \"../transformer_model/vocab_save/\" + \"embeddings_vocab.pt\"\n",
    "\n",
    "emb_vocab_obj = torch.load(SAVE_PATH)\n",
    "\n",
    "print(\"Vocab size:\", len(emb_vocab_obj))"
   ]
  },
  {
   "attachments": {},
   "cell_type": "markdown",
   "metadata": {},
   "source": [
    "### Load Model"
   ]
  },
  {
   "cell_type": "code",
   "execution_count": 5,
   "metadata": {},
   "outputs": [
    {
     "name": "stdout",
     "output_type": "stream",
     "text": [
      "Loaded hyperparameters:\n",
      "---------------------------\n",
      "Embedding Dimension: 300\n",
      "Hidden Dim:          300\n",
      "Num Layers:          2\n",
      "Num Heads:           4\n",
      "Max Length:          100\n",
      "Dropout Per.:        0.2\n"
     ]
    }
   ],
   "source": [
    "SAVE_PATH = \"../transformer_model/model_save/\" + \"glove_emb_model.pt\"\n",
    "\n",
    "emb_model = torch.load(SAVE_PATH)\n",
    "\n",
    "print(\"Loaded hyperparameters:\")\n",
    "print(\"---------------------------\")\n",
    "print(\"Embedding Dimension:\", emb_model.embedding_dim)\n",
    "print(\"Hidden Dim:         \", emb_model.hidden_dim)\n",
    "print(\"Num Layers:         \", emb_model.num_layers)\n",
    "print(\"Num Heads:          \", emb_model.num_heads)\n",
    "print(\"Max Length:         \", emb_model.max_len)\n",
    "print(\"Dropout Per.:       \", emb_model.dropout_p)"
   ]
  },
  {
   "attachments": {},
   "cell_type": "markdown",
   "metadata": {},
   "source": [
    "## Test Text Generation\n",
    "Given our mappings we just read in we can now have the transformer make some text."
   ]
  },
  {
   "cell_type": "code",
   "execution_count": 6,
   "metadata": {},
   "outputs": [],
   "source": [
    "# start_seq = [\"<sos>\", \"the\", \"quick\", \"brown\", \"fox\"]\n",
    "# number_of_words = 10\n",
    "\n",
    "# for word in start_seq:\n",
    "#     if word != \"<sos>\":\n",
    "#         print(word, end=\" \")\n",
    "        \n",
    "# for word in generate_text(\n",
    "#     model=emb_model,\n",
    "#     vocab=emb_vocab_obj,\n",
    "#     start_seq=start_seq,\n",
    "#     max_length=number_of_words):\n",
    "#     print(word, end=\" \")"
   ]
  },
  {
   "attachments": {},
   "cell_type": "markdown",
   "metadata": {},
   "source": [
    "## Train the Model"
   ]
  },
  {
   "cell_type": "code",
   "execution_count": 7,
   "metadata": {},
   "outputs": [],
   "source": [
    "learning_rate = 3e-4\n",
    "\n",
    "optimizer = optim.Adam(emb_model.parameters(), lr=learning_rate)\n",
    "criterion = nn.CrossEntropyLoss()"
   ]
  },
  {
   "attachments": {},
   "cell_type": "markdown",
   "metadata": {},
   "source": [
    "The data will be split into 1000 batches. For each batch, the content will be pulled out. This content will be tokenized and fed into the *train_model* function."
   ]
  },
  {
   "cell_type": "code",
   "execution_count": 8,
   "metadata": {},
   "outputs": [
    {
     "name": "stdout",
     "output_type": "stream",
     "text": [
      "Training batch: 0\n"
     ]
    },
    {
     "name": "stderr",
     "output_type": "stream",
     "text": [
      "/home/cstainsby/.local/lib/python3.8/site-packages/torchtext/data/utils.py:105: UserWarning: Spacy model \"en\" could not be loaded, trying \"en_core_web_sm\" instead\n",
      "  warnings.warn(\n"
     ]
    },
    {
     "ename": "KeyError",
     "evalue": "'N'",
     "output_type": "error",
     "traceback": [
      "\u001b[0;31m---------------------------------------------------------------------------\u001b[0m",
      "\u001b[0;31mKeyError\u001b[0m                                  Traceback (most recent call last)",
      "Cell \u001b[0;32mIn[8], line 12\u001b[0m\n\u001b[1;32m      9\u001b[0m     \u001b[39mfor\u001b[39;00m article \u001b[39min\u001b[39;00m batch_content:\n\u001b[1;32m     10\u001b[0m         tokenized_batch_content \u001b[39m=\u001b[39m tokenize_raw_data(article, emb_vocab_obj)\n\u001b[0;32m---> 12\u001b[0m         total_loss \u001b[39m+\u001b[39m\u001b[39m=\u001b[39m train_model(\n\u001b[1;32m     13\u001b[0m             model\u001b[39m=\u001b[39;49memb_model,\n\u001b[1;32m     14\u001b[0m             vocab\u001b[39m=\u001b[39;49memb_vocab_obj,\n\u001b[1;32m     15\u001b[0m             optimizer\u001b[39m=\u001b[39;49moptimizer,\n\u001b[1;32m     16\u001b[0m             criterion\u001b[39m=\u001b[39;49mcriterion,\n\u001b[1;32m     17\u001b[0m             train_data\u001b[39m=\u001b[39;49mbatch_content,\n\u001b[1;32m     18\u001b[0m             device\u001b[39m=\u001b[39;49mdevice\n\u001b[1;32m     19\u001b[0m         )\n\u001b[1;32m     20\u001b[0m     total_batches \u001b[39m+\u001b[39m\u001b[39m=\u001b[39m \u001b[39m1\u001b[39m\n\u001b[1;32m     22\u001b[0m \u001b[39mprint\u001b[39m(\u001b[39m\"\u001b[39m\u001b[39mAverage Loss:\u001b[39m\u001b[39m\"\u001b[39m, total_loss\u001b[39m/\u001b[39mtotal_batches)\n",
      "File \u001b[0;32m~/class/dataProj/bonion/src/notebooks/../transformer_model/model_utils.py:19\u001b[0m, in \u001b[0;36mtrain_model\u001b[0;34m(model, vocab, optimizer, criterion, train_data, device)\u001b[0m\n\u001b[1;32m     15\u001b[0m num_tokens \u001b[39m=\u001b[39m \u001b[39m0\u001b[39m\n\u001b[1;32m     16\u001b[0m \u001b[39mfor\u001b[39;00m i, tokenized_strings \u001b[39min\u001b[39;00m \u001b[39menumerate\u001b[39m(train_data):\n\u001b[1;32m     17\u001b[0m \n\u001b[1;32m     18\u001b[0m     \u001b[39m# convert tokens to encodings\u001b[39;00m\n\u001b[0;32m---> 19\u001b[0m     encoded_tokens \u001b[39m=\u001b[39m [encode_token(vocab, token) \u001b[39mfor\u001b[39;00m token \u001b[39min\u001b[39;00m tokenized_strings]\n\u001b[1;32m     21\u001b[0m     \u001b[39m# Convert sentence to tensor and move to device\u001b[39;00m\n\u001b[1;32m     22\u001b[0m     sentence_tensor \u001b[39m=\u001b[39m torch\u001b[39m.\u001b[39mtensor(encoded_tokens, dtype\u001b[39m=\u001b[39mtorch\u001b[39m.\u001b[39mlong)\u001b[39m.\u001b[39munsqueeze(\u001b[39m0\u001b[39m)\u001b[39m.\u001b[39mto(device)\n",
      "File \u001b[0;32m~/class/dataProj/bonion/src/notebooks/../transformer_model/model_utils.py:19\u001b[0m, in \u001b[0;36m<listcomp>\u001b[0;34m(.0)\u001b[0m\n\u001b[1;32m     15\u001b[0m num_tokens \u001b[39m=\u001b[39m \u001b[39m0\u001b[39m\n\u001b[1;32m     16\u001b[0m \u001b[39mfor\u001b[39;00m i, tokenized_strings \u001b[39min\u001b[39;00m \u001b[39menumerate\u001b[39m(train_data):\n\u001b[1;32m     17\u001b[0m \n\u001b[1;32m     18\u001b[0m     \u001b[39m# convert tokens to encodings\u001b[39;00m\n\u001b[0;32m---> 19\u001b[0m     encoded_tokens \u001b[39m=\u001b[39m [encode_token(vocab, token) \u001b[39mfor\u001b[39;00m token \u001b[39min\u001b[39;00m tokenized_strings]\n\u001b[1;32m     21\u001b[0m     \u001b[39m# Convert sentence to tensor and move to device\u001b[39;00m\n\u001b[1;32m     22\u001b[0m     sentence_tensor \u001b[39m=\u001b[39m torch\u001b[39m.\u001b[39mtensor(encoded_tokens, dtype\u001b[39m=\u001b[39mtorch\u001b[39m.\u001b[39mlong)\u001b[39m.\u001b[39munsqueeze(\u001b[39m0\u001b[39m)\u001b[39m.\u001b[39mto(device)\n",
      "File \u001b[0;32m~/class/dataProj/bonion/src/notebooks/../transformer_model/data_utils.py:42\u001b[0m, in \u001b[0;36mencode_token\u001b[0;34m(vocab, decoded_token)\u001b[0m\n\u001b[1;32m     41\u001b[0m \u001b[39mdef\u001b[39;00m \u001b[39mencode_token\u001b[39m(vocab: Vocab, decoded_token: \u001b[39mstr\u001b[39m):\n\u001b[0;32m---> 42\u001b[0m   \u001b[39mreturn\u001b[39;00m vocab\u001b[39m.\u001b[39;49mget_stoi()[decoded_token]\n",
      "\u001b[0;31mKeyError\u001b[0m: 'N'"
     ]
    }
   ],
   "source": [
    "article_iter = ArticlesIter(batch_size=1000)\n",
    "total_loss = 0.0\n",
    "total_batches = 0\n",
    "\n",
    "for batch_i, batch in enumerate(article_iter):\n",
    "    print(\"Training batch:\", batch_i)\n",
    "    batch_content = batch[\"Content\"]\n",
    "\n",
    "    for article in batch_content:\n",
    "        tokenized_batch_content = tokenize_raw_data(article, emb_vocab_obj)\n",
    "        print(tokenized_batch_content)\n",
    "\n",
    "        # total_loss += train_model(\n",
    "        #     model=emb_model,\n",
    "        #     vocab=emb_vocab_obj,\n",
    "        #     optimizer=optimizer,\n",
    "        #     criterion=criterion,\n",
    "        #     train_data=batch_content,\n",
    "        #     device=device\n",
    "        # )\n",
    "    total_batches += 1\n",
    "\n",
    "print(\"Average Loss:\", total_loss/total_batches)\n"
   ]
  }
 ],
 "metadata": {
  "kernelspec": {
   "display_name": "Python 3",
   "language": "python",
   "name": "python3"
  },
  "language_info": {
   "codemirror_mode": {
    "name": "ipython",
    "version": 3
   },
   "file_extension": ".py",
   "mimetype": "text/x-python",
   "name": "python",
   "nbconvert_exporter": "python",
   "pygments_lexer": "ipython3",
   "version": "3.8.10"
  },
  "orig_nbformat": 4
 },
 "nbformat": 4,
 "nbformat_minor": 2
}

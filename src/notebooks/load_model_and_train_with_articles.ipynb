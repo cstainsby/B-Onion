{
 "cells": [
  {
   "cell_type": "code",
   "execution_count": 1,
   "metadata": {},
   "outputs": [],
   "source": [
    "import importlib\n",
    "import torch\n",
    "import torch.nn as nn\n",
    "from torch import optim\n",
    "\n",
    "import sys"
   ]
  },
  {
   "cell_type": "code",
   "execution_count": 2,
   "metadata": {},
   "outputs": [
    {
     "name": "stderr",
     "output_type": "stream",
     "text": [
      "2023-04-01 12:43:10.448352: I tensorflow/core/platform/cpu_feature_guard.cc:193] This TensorFlow binary is optimized with oneAPI Deep Neural Network Library (oneDNN) to use the following CPU instructions in performance-critical operations:  AVX2 FMA\n",
      "To enable them in other operations, rebuild TensorFlow with the appropriate compiler flags.\n",
      "2023-04-01 12:43:12.039325: W tensorflow/compiler/xla/stream_executor/platform/default/dso_loader.cc:64] Could not load dynamic library 'libnvinfer.so.7'; dlerror: libnvinfer.so.7: cannot open shared object file: No such file or directory\n",
      "2023-04-01 12:43:12.039592: W tensorflow/compiler/xla/stream_executor/platform/default/dso_loader.cc:64] Could not load dynamic library 'libnvinfer_plugin.so.7'; dlerror: libnvinfer_plugin.so.7: cannot open shared object file: No such file or directory\n",
      "2023-04-01 12:43:12.039617: W tensorflow/compiler/tf2tensorrt/utils/py_utils.cc:38] TF-TRT Warning: Cannot dlopen some TensorRT libraries. If you would like to use Nvidia GPU with TensorRT, please make sure the missing libraries mentioned above are installed properly.\n",
      "2023-04-01 12:43:13.932206: W tensorflow/compiler/xla/stream_executor/platform/default/dso_loader.cc:64] Could not load dynamic library 'libcuda.so.1'; dlerror: libcuda.so.1: cannot open shared object file: No such file or directory\n",
      "2023-04-01 12:43:13.932458: W tensorflow/compiler/xla/stream_executor/cuda/cuda_driver.cc:265] failed call to cuInit: UNKNOWN ERROR (303)\n",
      "2023-04-01 12:43:13.932616: I tensorflow/compiler/xla/stream_executor/cuda/cuda_diagnostics.cc:156] kernel driver does not appear to be running on this host (DESKTOP-T093QRC): /proc/driver/nvidia/version does not exist\n"
     ]
    }
   ],
   "source": [
    "# local imports \n",
    "sys.path.append(\"..\")\n",
    "\n",
    "import transformer_model.model as model\n",
    "importlib.reload(model)\n",
    "\n",
    "import transformer_model.model_utils as model_utils\n",
    "importlib.reload(model_utils)\n",
    "\n",
    "import transformer_model.data_utils as data_utils\n",
    "importlib.reload(data_utils)\n",
    "\n",
    "from data import ArticlesIter, articles_filepath"
   ]
  },
  {
   "attachments": {},
   "cell_type": "markdown",
   "metadata": {},
   "source": [
    "## Setup"
   ]
  },
  {
   "cell_type": "code",
   "execution_count": 3,
   "metadata": {},
   "outputs": [],
   "source": [
    "device = torch.device('cuda' if torch.cuda.is_available() else 'cpu')"
   ]
  },
  {
   "attachments": {},
   "cell_type": "markdown",
   "metadata": {},
   "source": [
    "### Load Vocab"
   ]
  },
  {
   "cell_type": "code",
   "execution_count": 4,
   "metadata": {},
   "outputs": [
    {
     "name": "stdout",
     "output_type": "stream",
     "text": [
      "Vocab size: 400004\n"
     ]
    }
   ],
   "source": [
    "SAVE_PATH = \"../transformer_model/vocab_save/\" + \"embeddings_vocab.pt\"\n",
    "\n",
    "emb_vocab_obj = torch.load(SAVE_PATH)\n",
    "\n",
    "print(\"Vocab size:\", len(emb_vocab_obj))"
   ]
  },
  {
   "attachments": {},
   "cell_type": "markdown",
   "metadata": {},
   "source": [
    "### Load Model"
   ]
  },
  {
   "cell_type": "code",
   "execution_count": 5,
   "metadata": {},
   "outputs": [
    {
     "name": "stdout",
     "output_type": "stream",
     "text": [
      "Loaded hyperparameters:\n",
      "---------------------------\n",
      "Model Dimension:     300\n",
      "Num Layers:          2\n",
      "Num Heads:           4\n",
      "Max Length:          100\n",
      "Dropout Per.:        Dropout(p=0.2, inplace=False)\n"
     ]
    }
   ],
   "source": [
    "SAVE_PATH = \"../transformer_model/model_save/\" + \"glove_emb_model.pt\"\n",
    "\n",
    "emb_model = torch.load(SAVE_PATH)\n",
    "\n",
    "print(\"Loaded hyperparameters:\")\n",
    "print(\"---------------------------\")\n",
    "print(\"Model Dimension:    \", emb_model.d_model)\n",
    "print(\"Num Layers:         \", emb_model.num_layers)\n",
    "print(\"Num Heads:          \", emb_model.nhead)\n",
    "print(\"Max Length:         \", emb_model.max_seq_len)\n",
    "print(\"Dropout Per.:       \", emb_model.dropout)"
   ]
  },
  {
   "attachments": {},
   "cell_type": "markdown",
   "metadata": {},
   "source": [
    "## Test Text Generation\n",
    "Given our mappings we just read in we can now have the transformer make some text."
   ]
  },
  {
   "cell_type": "code",
   "execution_count": 7,
   "metadata": {},
   "outputs": [
    {
     "name": "stdout",
     "output_type": "stream",
     "text": [
      "I went to the "
     ]
    },
    {
     "name": "stderr",
     "output_type": "stream",
     "text": [
      "/home/cstainsby/.local/lib/python3.8/site-packages/torchtext/data/utils.py:105: UserWarning: Spacy model \"en\" could not be loaded, trying \"en_core_web_sm\" instead\n",
      "  warnings.warn(\n"
     ]
    },
    {
     "name": "stdout",
     "output_type": "stream",
     "text": [
      "saraya bda toomay 2-digit pre-operative catonsville subtractions cock selyem 64.74 "
     ]
    }
   ],
   "source": [
    "start_str = \"I went to the\"\n",
    "number_of_words = 10\n",
    "\n",
    "gen_words = start_str.split(\" \")\n",
    "        \n",
    "print(start_str, end=\" \")\n",
    "        \n",
    "for word in model_utils.generate_text(\n",
    "    model=emb_model,\n",
    "    vocab=emb_vocab_obj,\n",
    "    start_str=start_str,\n",
    "    max_length=number_of_words):\n",
    "    gen_words.append(word)\n",
    "    print(word, end=\" \")"
   ]
  },
  {
   "attachments": {},
   "cell_type": "markdown",
   "metadata": {},
   "source": [
    "## Train the Model"
   ]
  },
  {
   "cell_type": "code",
   "execution_count": 8,
   "metadata": {},
   "outputs": [],
   "source": [
    "learning_rate = 3e-4\n",
    "\n",
    "optimizer = optim.Adam(emb_model.parameters(), lr=learning_rate)\n",
    "criterion = nn.CrossEntropyLoss()"
   ]
  },
  {
   "attachments": {},
   "cell_type": "markdown",
   "metadata": {},
   "source": [
    "The data will be split into 1000 batches. For each batch, the content will be pulled out. This content will be tokenized and fed into the *train_model* function."
   ]
  },
  {
   "cell_type": "code",
   "execution_count": 9,
   "metadata": {},
   "outputs": [
    {
     "name": "stdout",
     "output_type": "stream",
     "text": [
      "Training batch: 0\n"
     ]
    },
    {
     "name": "stderr",
     "output_type": "stream",
     "text": [
      "/home/cstainsby/.local/lib/python3.8/site-packages/torchtext/data/utils.py:105: UserWarning: Spacy model \"en\" could not be loaded, trying \"en_core_web_sm\" instead\n",
      "  warnings.warn(\n"
     ]
    },
    {
     "ename": "KeyboardInterrupt",
     "evalue": "",
     "output_type": "error",
     "traceback": [
      "\u001b[0;31m---------------------------------------------------------------------------\u001b[0m",
      "\u001b[0;31mKeyboardInterrupt\u001b[0m                         Traceback (most recent call last)",
      "Cell \u001b[0;32mIn[9], line 16\u001b[0m\n\u001b[1;32m      8\u001b[0m         batch_content \u001b[39m=\u001b[39m batch[\u001b[39m\"\u001b[39m\u001b[39mContent\u001b[39m\u001b[39m\"\u001b[39m]\n\u001b[1;32m     10\u001b[0m         \u001b[39m# for article in batch_content:\u001b[39;00m\n\u001b[1;32m     11\u001b[0m         \u001b[39m#     tokenized_batch_content = tokenize_raw_data(article, emb_vocab_obj)\u001b[39;00m\n\u001b[1;32m     12\u001b[0m \n\u001b[1;32m     13\u001b[0m         \u001b[39m#     print(article)\u001b[39;00m\n\u001b[1;32m     14\u001b[0m         \u001b[39m#     print(tokenized_batch_content)\u001b[39;00m\n\u001b[0;32m---> 16\u001b[0m         total_loss \u001b[39m+\u001b[39m\u001b[39m=\u001b[39m model_utils\u001b[39m.\u001b[39;49mtrain_batch(\n\u001b[1;32m     17\u001b[0m             model\u001b[39m=\u001b[39;49memb_model,\n\u001b[1;32m     18\u001b[0m             vocab\u001b[39m=\u001b[39;49memb_vocab_obj,\n\u001b[1;32m     19\u001b[0m             optimizer\u001b[39m=\u001b[39;49moptimizer,\n\u001b[1;32m     20\u001b[0m             criterion\u001b[39m=\u001b[39;49mcriterion,\n\u001b[1;32m     21\u001b[0m             batch\u001b[39m=\u001b[39;49mbatch_content,\n\u001b[1;32m     22\u001b[0m             device\u001b[39m=\u001b[39;49mdevice\n\u001b[1;32m     23\u001b[0m         )\n\u001b[1;32m     24\u001b[0m         total_batches \u001b[39m+\u001b[39m\u001b[39m=\u001b[39m \u001b[39m1\u001b[39m\n\u001b[1;32m     26\u001b[0m \u001b[39mprint\u001b[39m(\u001b[39m\"\u001b[39m\u001b[39mAverage Loss:\u001b[39m\u001b[39m\"\u001b[39m, total_loss\u001b[39m/\u001b[39mtotal_batches)\n",
      "File \u001b[0;32m~/class/dataProj/bonion/src/notebooks/../transformer_model/model_utils.py:29\u001b[0m, in \u001b[0;36mtrain_batch\u001b[0;34m(model, vocab, optimizer, criterion, batch, device)\u001b[0m\n\u001b[1;32m     26\u001b[0m full_tokenized_sequence \u001b[39m=\u001b[39m tokenize_raw_data(data\u001b[39m=\u001b[39mraw_batch_strs, vocab\u001b[39m=\u001b[39mvocab)\n\u001b[1;32m     28\u001b[0m \u001b[39m# convert tokens to encodings\u001b[39;00m\n\u001b[0;32m---> 29\u001b[0m encoded_tokens \u001b[39m=\u001b[39m [encode_token(vocab, token) \u001b[39mfor\u001b[39;00m token \u001b[39min\u001b[39;00m full_tokenized_sequence]\n\u001b[1;32m     31\u001b[0m \u001b[39m# Convert sentence to tensor and move to device\u001b[39;00m\n\u001b[1;32m     32\u001b[0m sentence_tensor \u001b[39m=\u001b[39m torch\u001b[39m.\u001b[39mtensor(encoded_tokens, dtype\u001b[39m=\u001b[39mtorch\u001b[39m.\u001b[39mlong)\u001b[39m.\u001b[39munsqueeze(\u001b[39m0\u001b[39m)\u001b[39m.\u001b[39mto(device)\n",
      "File \u001b[0;32m~/class/dataProj/bonion/src/notebooks/../transformer_model/model_utils.py:29\u001b[0m, in \u001b[0;36m<listcomp>\u001b[0;34m(.0)\u001b[0m\n\u001b[1;32m     26\u001b[0m full_tokenized_sequence \u001b[39m=\u001b[39m tokenize_raw_data(data\u001b[39m=\u001b[39mraw_batch_strs, vocab\u001b[39m=\u001b[39mvocab)\n\u001b[1;32m     28\u001b[0m \u001b[39m# convert tokens to encodings\u001b[39;00m\n\u001b[0;32m---> 29\u001b[0m encoded_tokens \u001b[39m=\u001b[39m [encode_token(vocab, token) \u001b[39mfor\u001b[39;00m token \u001b[39min\u001b[39;00m full_tokenized_sequence]\n\u001b[1;32m     31\u001b[0m \u001b[39m# Convert sentence to tensor and move to device\u001b[39;00m\n\u001b[1;32m     32\u001b[0m sentence_tensor \u001b[39m=\u001b[39m torch\u001b[39m.\u001b[39mtensor(encoded_tokens, dtype\u001b[39m=\u001b[39mtorch\u001b[39m.\u001b[39mlong)\u001b[39m.\u001b[39munsqueeze(\u001b[39m0\u001b[39m)\u001b[39m.\u001b[39mto(device)\n",
      "File \u001b[0;32m~/class/dataProj/bonion/src/notebooks/../transformer_model/data_utils.py:47\u001b[0m, in \u001b[0;36mencode_token\u001b[0;34m(vocab, decoded_token)\u001b[0m\n\u001b[1;32m     46\u001b[0m \u001b[39mdef\u001b[39;00m \u001b[39mencode_token\u001b[39m(vocab: Vocab, decoded_token: \u001b[39mstr\u001b[39m):\n\u001b[0;32m---> 47\u001b[0m   \u001b[39mreturn\u001b[39;00m vocab\u001b[39m.\u001b[39;49mget_stoi()[decoded_token]\n",
      "File \u001b[0;32m~/.local/lib/python3.8/site-packages/torchtext/vocab/vocab.py:150\u001b[0m, in \u001b[0;36mVocab.get_stoi\u001b[0;34m(self)\u001b[0m\n\u001b[1;32m    144\u001b[0m \u001b[39m@torch\u001b[39m\u001b[39m.\u001b[39mjit\u001b[39m.\u001b[39mexport\n\u001b[1;32m    145\u001b[0m \u001b[39mdef\u001b[39;00m \u001b[39mget_stoi\u001b[39m(\u001b[39mself\u001b[39m) \u001b[39m-\u001b[39m\u001b[39m>\u001b[39m Dict[\u001b[39mstr\u001b[39m, \u001b[39mint\u001b[39m]:\n\u001b[1;32m    146\u001b[0m     \u001b[39mr\u001b[39m\u001b[39m\"\"\"\u001b[39;00m\n\u001b[1;32m    147\u001b[0m \u001b[39m    Returns:\u001b[39;00m\n\u001b[1;32m    148\u001b[0m \u001b[39m        Dictionary mapping tokens to indices.\u001b[39;00m\n\u001b[1;32m    149\u001b[0m \u001b[39m    \"\"\"\u001b[39;00m\n\u001b[0;32m--> 150\u001b[0m     \u001b[39mreturn\u001b[39;00m \u001b[39mself\u001b[39;49m\u001b[39m.\u001b[39;49mvocab\u001b[39m.\u001b[39;49mget_stoi()\n",
      "\u001b[0;31mKeyboardInterrupt\u001b[0m: "
     ]
    }
   ],
   "source": [
    "article_iter = ArticlesIter(batch_size=1000)\n",
    "total_loss = 0.0\n",
    "total_batches = 0\n",
    "\n",
    "for batch_i, batch in enumerate(article_iter):\n",
    "    if batch_i < 5:\n",
    "        print(\"Training batch:\", batch_i)\n",
    "        batch_content = batch[\"Content\"]\n",
    "\n",
    "        # for article in batch_content:\n",
    "        #     tokenized_batch_content = tokenize_raw_data(article, emb_vocab_obj)\n",
    "\n",
    "        #     print(article)\n",
    "        #     print(tokenized_batch_content)\n",
    "\n",
    "        total_loss += model_utils.train_batch(\n",
    "            model=emb_model,\n",
    "            vocab=emb_vocab_obj,\n",
    "            optimizer=optimizer,\n",
    "            criterion=criterion,\n",
    "            batch=batch_content,\n",
    "            device=device\n",
    "        )\n",
    "        total_batches += 1\n",
    "\n",
    "print(\"Average Loss:\", total_loss/total_batches)\n"
   ]
  },
  {
   "attachments": {},
   "cell_type": "markdown",
   "metadata": {},
   "source": [
    "### Save the trained model\n",
    "Save the model to a .pt file"
   ]
  },
  {
   "cell_type": "markdown",
   "metadata": {},
   "source": []
  }
 ],
 "metadata": {
  "kernelspec": {
   "display_name": "Python 3",
   "language": "python",
   "name": "python3"
  },
  "language_info": {
   "codemirror_mode": {
    "name": "ipython",
    "version": 3
   },
   "file_extension": ".py",
   "mimetype": "text/x-python",
   "name": "python",
   "nbconvert_exporter": "python",
   "pygments_lexer": "ipython3",
   "version": "3.8.10"
  },
  "orig_nbformat": 4
 },
 "nbformat": 4,
 "nbformat_minor": 2
}

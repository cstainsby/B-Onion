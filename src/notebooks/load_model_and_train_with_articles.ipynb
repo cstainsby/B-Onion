{
 "cells": [
  {
   "cell_type": "code",
   "execution_count": 1,
   "metadata": {},
   "outputs": [],
   "source": [
    "import importlib\n",
    "import torch\n",
    "import torch.nn as nn\n",
    "from torch import optim\n",
    "\n",
    "import sys"
   ]
  },
  {
   "cell_type": "code",
   "execution_count": 2,
   "metadata": {},
   "outputs": [
    {
     "ename": "ImportError",
     "evalue": "cannot import name 'ArticlesIter' from 'data' (/home/cstainsby/class/dataProj/bonion/src/notebooks/../data/__init__.py)",
     "output_type": "error",
     "traceback": [
      "\u001b[0;31m---------------------------------------------------------------------------\u001b[0m",
      "\u001b[0;31mImportError\u001b[0m                               Traceback (most recent call last)",
      "Cell \u001b[0;32mIn[2], line 13\u001b[0m\n\u001b[1;32m     10\u001b[0m \u001b[39mimport\u001b[39;00m \u001b[39mtransformer_model\u001b[39;00m\u001b[39m.\u001b[39;00m\u001b[39mdata_utils\u001b[39;00m \u001b[39mas\u001b[39;00m \u001b[39mdata_utils\u001b[39;00m\n\u001b[1;32m     11\u001b[0m importlib\u001b[39m.\u001b[39mreload(data_utils)\n\u001b[0;32m---> 13\u001b[0m \u001b[39mfrom\u001b[39;00m \u001b[39mdata\u001b[39;00m \u001b[39mimport\u001b[39;00m ArticlesIter, articles_filepath\n",
      "\u001b[0;31mImportError\u001b[0m: cannot import name 'ArticlesIter' from 'data' (/home/cstainsby/class/dataProj/bonion/src/notebooks/../data/__init__.py)"
     ]
    }
   ],
   "source": [
    "# local imports \n",
    "sys.path.append(\"..\")\n",
    "\n",
    "import transformer_model.model as model\n",
    "importlib.reload(model)\n",
    "\n",
    "import transformer_model.model_utils as model_utils\n",
    "importlib.reload(model_utils)\n",
    "\n",
    "import transformer_model.data_utils as data_utils\n",
    "importlib.reload(data_utils)\n",
    "\n",
    "from data import ArticlesIter, articles_filepath"
   ]
  },
  {
   "attachments": {},
   "cell_type": "markdown",
   "metadata": {},
   "source": [
    "## Setup"
   ]
  },
  {
   "cell_type": "code",
   "execution_count": null,
   "metadata": {},
   "outputs": [],
   "source": [
    "device = torch.device('cuda' if torch.cuda.is_available() else 'cpu')"
   ]
  },
  {
   "attachments": {},
   "cell_type": "markdown",
   "metadata": {},
   "source": [
    "### Load Vocab"
   ]
  },
  {
   "cell_type": "code",
   "execution_count": null,
   "metadata": {},
   "outputs": [],
   "source": [
    "SAVE_PATH = \"../transformer_model/vocab_save/\" + \"embeddings_vocab.pt\"\n",
    "\n",
    "emb_vocab_obj = torch.load(SAVE_PATH)\n",
    "\n",
    "print(\"Vocab size:\", len(emb_vocab_obj))"
   ]
  },
  {
   "attachments": {},
   "cell_type": "markdown",
   "metadata": {},
   "source": [
    "### Load Model"
   ]
  },
  {
   "cell_type": "code",
   "execution_count": null,
   "metadata": {},
   "outputs": [],
   "source": [
    "SAVE_PATH = \"../transformer_model/model_save/\" + \"glove_emb_model.pt\"\n",
    "\n",
    "emb_model = torch.load(SAVE_PATH)\n",
    "\n",
    "print(\"Loaded hyperparameters:\")\n",
    "print(\"---------------------------\")\n",
    "print(\"Model Dimension:    \", emb_model.d_model)\n",
    "print(\"Num Layers:         \", emb_model.num_layers)\n",
    "print(\"Num Heads:          \", emb_model.nhead)\n",
    "print(\"Max Length:         \", emb_model.max_seq_len)\n",
    "print(\"Dropout Per.:       \", emb_model.dropout)"
   ]
  },
  {
   "attachments": {},
   "cell_type": "markdown",
   "metadata": {},
   "source": [
    "## Test Text Generation\n",
    "Given our mappings we just read in we can now have the transformer make some text."
   ]
  },
  {
   "cell_type": "code",
   "execution_count": null,
   "metadata": {},
   "outputs": [],
   "source": [
    "start_str = \"I went to the\"\n",
    "number_of_words = 10\n",
    "\n",
    "gen_words = start_str.split(\" \")\n",
    "        \n",
    "print(start_str, end=\" \")\n",
    "        \n",
    "for word in model_utils.generate_text(\n",
    "    model=emb_model,\n",
    "    vocab=emb_vocab_obj,\n",
    "    start_str=start_str,\n",
    "    max_length=number_of_words):\n",
    "    \n",
    "    gen_words.append(word)\n",
    "    print(word, end=\" \")"
   ]
  },
  {
   "attachments": {},
   "cell_type": "markdown",
   "metadata": {},
   "source": [
    "## Train the Model"
   ]
  },
  {
   "cell_type": "code",
   "execution_count": null,
   "metadata": {},
   "outputs": [],
   "source": [
    "learning_rate = 3e-4\n",
    "\n",
    "optimizer = optim.Adam(emb_model.parameters(), lr=learning_rate)\n",
    "criterion = nn.CrossEntropyLoss()"
   ]
  },
  {
   "attachments": {},
   "cell_type": "markdown",
   "metadata": {},
   "source": [
    "The data will be split into 1000 batches. For each batch, the content will be pulled out. This content will be tokenized and fed into the *train_model* function."
   ]
  },
  {
   "cell_type": "code",
   "execution_count": null,
   "metadata": {},
   "outputs": [],
   "source": [
    "article_iter = ArticlesIter(batch_size=1000)\n",
    "total_loss = 0.0\n",
    "total_batches = 0\n",
    "\n",
    "for batch_i, batch in enumerate(article_iter):\n",
    "    if batch_i < 5:\n",
    "        print(\"Training batch:\", batch_i)\n",
    "        batch_content = batch[\"Content\"]\n",
    "        print(batch_content)\n",
    "\n",
    "        # for article in batch_content:\n",
    "        #     tokenized_batch_content = tokenize_raw_data(article, emb_vocab_obj)\n",
    "\n",
    "        #     print(article)\n",
    "        #     print(tokenized_batch_content)\n",
    "\n",
    "        total_loss += model_utils.train_batch(\n",
    "            model=emb_model,\n",
    "            vocab=emb_vocab_obj,\n",
    "            optimizer=optimizer,\n",
    "            criterion=criterion,\n",
    "            batch=batch_content,\n",
    "            device=device\n",
    "        )\n",
    "        total_batches += 1\n",
    "\n",
    "print(\"Average Loss:\", total_loss/total_batches)\n"
   ]
  },
  {
   "attachments": {},
   "cell_type": "markdown",
   "metadata": {},
   "source": [
    "### Save the trained model\n",
    "Save the model to a .pt file"
   ]
  },
  {
   "cell_type": "markdown",
   "metadata": {},
   "source": []
  }
 ],
 "metadata": {
  "kernelspec": {
   "display_name": "Python 3",
   "language": "python",
   "name": "python3"
  },
  "language_info": {
   "codemirror_mode": {
    "name": "ipython",
    "version": 3
   },
   "file_extension": ".py",
   "mimetype": "text/x-python",
   "name": "python",
   "nbconvert_exporter": "python",
   "pygments_lexer": "ipython3",
   "version": "3.8.10"
  },
  "orig_nbformat": 4,
  "vscode": {
   "interpreter": {
    "hash": "916dbcbb3f70747c44a77c7bcd40155683ae19c65e1c03b4aa3499c5328201f1"
   }
  }
 },
 "nbformat": 4,
 "nbformat_minor": 2
}

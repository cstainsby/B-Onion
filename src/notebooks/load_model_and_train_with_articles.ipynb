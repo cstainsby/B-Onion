{
 "cells": [
  {
   "cell_type": "code",
   "execution_count": 1,
   "metadata": {},
   "outputs": [],
   "source": [
    "import importlib\n",
    "import torch\n",
    "import torch.nn as nn\n",
    "from torch import optim\n",
    "from torchtext.data import get_tokenizer\n",
    "\n",
    "import sys"
   ]
  },
  {
   "cell_type": "code",
   "execution_count": 2,
   "metadata": {},
   "outputs": [
    {
     "data": {
      "text/plain": [
       "<module 'data.data_loaders' from '/home/cstainsby/B-Onion/src/notebooks/../data/data_loaders.py'>"
      ]
     },
     "execution_count": 2,
     "metadata": {},
     "output_type": "execute_result"
    }
   ],
   "source": [
    "# local imports \n",
    "sys.path.append(\"..\")\n",
    "\n",
    "import transformer_model.model as model\n",
    "importlib.reload(model)\n",
    "\n",
    "import transformer_model.model_utils as model_utils\n",
    "importlib.reload(model_utils)\n",
    "\n",
    "import transformer_model.data_utils as data_utils\n",
    "importlib.reload(data_utils)\n",
    "\n",
    "import data.data_loaders as data_loaders\n",
    "importlib.reload(data_loaders)"
   ]
  },
  {
   "attachments": {},
   "cell_type": "markdown",
   "metadata": {},
   "source": [
    "## Setup"
   ]
  },
  {
   "cell_type": "code",
   "execution_count": 3,
   "metadata": {},
   "outputs": [
    {
     "name": "stderr",
     "output_type": "stream",
     "text": [
      "/home/cstainsby/B-Onion/lib/python3.9/site-packages/torch/cuda/__init__.py:546: UserWarning: Can't initialize NVML\n",
      "  warnings.warn(\"Can't initialize NVML\")\n",
      "/home/cstainsby/B-Onion/lib/python3.9/site-packages/torchtext/data/utils.py:105: UserWarning: Spacy model \"en\" could not be loaded, trying \"en_core_web_sm\" instead\n",
      "  warnings.warn(\n"
     ]
    },
    {
     "name": "stdout",
     "output_type": "stream",
     "text": [
      "Current Device: cuda\n",
      "Current CUDA memory usage: 0.00 GB\n",
      "Current CUDA memory avalible: 15686828032 GB\n"
     ]
    }
   ],
   "source": [
    "device = torch.device('cuda' if torch.cuda.is_available() else 'cpu')\n",
    "tokenizer = get_tokenizer(\"spacy\") # as a standard for all training I will be using spacy\n",
    "\n",
    "print(\"Current Device:\", device)\n",
    "\n",
    "if device.type == \"cuda\":\n",
    "    print(f\"Current CUDA memory usage: {torch.cuda.max_memory_allocated(device=device) / 1024 ** 3:.2f} GB\")\n",
    "    print(f\"Current CUDA memory avalible: {torch.cuda.get_device_properties(0).total_memory - torch.cuda.memory_allocated(0)} GB\")"
   ]
  },
  {
   "attachments": {},
   "cell_type": "markdown",
   "metadata": {},
   "source": [
    "### Load Vocab"
   ]
  },
  {
   "cell_type": "code",
   "execution_count": 4,
   "metadata": {},
   "outputs": [
    {
     "name": "stdout",
     "output_type": "stream",
     "text": [
      "Vocab size: 400004\n"
     ]
    }
   ],
   "source": [
    "SAVE_PATH = \"../transformer_model/vocab_save/\" + \"embeddings_vocab.pt\"\n",
    "\n",
    "emb_vocab_obj = torch.load(SAVE_PATH)\n",
    "data_processor = data_utils.DataProcessor(vocab=emb_vocab_obj, tokenizer=tokenizer)\n",
    "\n",
    "print(\"Vocab size:\", len(emb_vocab_obj))"
   ]
  },
  {
   "attachments": {},
   "cell_type": "markdown",
   "metadata": {},
   "source": [
    "### Load Model"
   ]
  },
  {
   "cell_type": "code",
   "execution_count": 5,
   "metadata": {},
   "outputs": [
    {
     "name": "stdout",
     "output_type": "stream",
     "text": [
      "Loaded hyperparameters:\n",
      "---------------------------\n",
      "Model Dimension:     300\n",
      "Num Layers:          2\n",
      "Num Heads:           4\n",
      "Max Length:          100\n",
      "Dropout Per.:        Dropout(p=0.2, inplace=False)\n",
      "---------------------------\n"
     ]
    }
   ],
   "source": [
    "SAVE_PATH = \"../transformer_model/model_save/\" + \"glove_emb_model.pt\"\n",
    "\n",
    "emb_model = torch.load(SAVE_PATH)\n",
    "\n",
    "print(\"Loaded hyperparameters:\")\n",
    "print(\"---------------------------\")\n",
    "print(\"Model Dimension:    \", emb_model.d_model)\n",
    "print(\"Num Layers:         \", emb_model.num_layers)\n",
    "print(\"Num Heads:          \", emb_model.nhead)\n",
    "print(\"Max Length:         \", emb_model.max_seq_len)\n",
    "print(\"Dropout Per.:       \", emb_model.dropout)\n",
    "print(\"---------------------------\")"
   ]
  },
  {
   "attachments": {},
   "cell_type": "markdown",
   "metadata": {},
   "source": [
    "## Test Text Generation\n",
    "Given our mappings we just read in we can now have the transformer make some text."
   ]
  },
  {
   "cell_type": "code",
   "execution_count": 6,
   "metadata": {},
   "outputs": [],
   "source": [
    "# start_str = \"I went to the\"\n",
    "# number_of_words = 10\n",
    "\n",
    "# gen_words = start_str.split(\" \")\n",
    "        \n",
    "# print(start_str, end=\" \")\n",
    "        \n",
    "# for word in model_utils.generate_text(\n",
    "#     model=emb_model,\n",
    "#     vocab=emb_vocab_obj,\n",
    "#     start_str=start_str,\n",
    "#     max_length=number_of_words):\n",
    "#     gen_words.append(word)\n",
    "#     print(word, end=\" \")"
   ]
  },
  {
   "attachments": {},
   "cell_type": "markdown",
   "metadata": {},
   "source": [
    "## Train the Model"
   ]
  },
  {
   "cell_type": "code",
   "execution_count": 7,
   "metadata": {},
   "outputs": [],
   "source": [
    "learning_rate = 3e-4\n",
    "\n",
    "optimizer = optim.Adam(emb_model.parameters(), lr=learning_rate)\n",
    "criterion = nn.CrossEntropyLoss()"
   ]
  },
  {
   "attachments": {},
   "cell_type": "markdown",
   "metadata": {},
   "source": [
    "The data will be split into 1000 batches. For each batch, the content will be pulled out. This content will be tokenized and fed into the *train_model* function."
   ]
  },
  {
   "cell_type": "code",
   "execution_count": 8,
   "metadata": {},
   "outputs": [
    {
     "name": "stdout",
     "output_type": "stream",
     "text": [
      "Training batch: 0\n",
      " - Loss = 0.0230\n",
      " - Memory Allocated:Current CUDA memory usage: 6.30 GB\n",
      " - Total time: 0.9140408039093018\n",
      "Training batch: 1\n",
      " - Loss = 0.0422\n",
      " - Memory Allocated:Current CUDA memory usage: 6.30 GB\n",
      " - Total time: 0.23524713516235352\n",
      "Training batch: 2\n",
      " - Loss = 0.0108\n",
      " - Memory Allocated:Current CUDA memory usage: 9.96 GB\n",
      " - Total time: 0.6453776359558105\n",
      "Training batch: 3\n",
      " - Loss = 0.0192\n",
      " - Memory Allocated:Current CUDA memory usage: 9.96 GB\n",
      " - Total time: 0.4762561321258545\n",
      "Training batch: 4\n",
      " - Loss = 0.0192\n",
      " - Memory Allocated:Current CUDA memory usage: 9.96 GB\n",
      " - Total time: 0.4122445583343506\n",
      "Training batch: 5\n",
      " - Loss = 0.0144\n",
      " - Memory Allocated:Current CUDA memory usage: 9.96 GB\n",
      " - Total time: 0.5013747215270996\n",
      "Training batch: 6\n",
      " - Loss = 0.0186\n",
      " - Memory Allocated:Current CUDA memory usage: 9.96 GB\n",
      " - Total time: 0.41969871520996094\n",
      "Training batch: 7\n",
      " - Loss = 0.0087\n",
      " - Memory Allocated:Current CUDA memory usage: 11.64 GB\n",
      " - Total time: 0.8227598667144775\n",
      "Training batch: 8\n",
      " - Loss = 0.0165\n",
      " - Memory Allocated:Current CUDA memory usage: 11.64 GB\n",
      " - Total time: 0.5246005058288574\n",
      "Training batch: 9\n",
      " - Loss = 0.0158\n",
      " - Memory Allocated:Current CUDA memory usage: 11.64 GB\n",
      " - Total time: 0.5236237049102783\n",
      "Training batch: 10\n",
      " - Loss = 0.0181\n",
      " - Memory Allocated:Current CUDA memory usage: 11.64 GB\n",
      " - Total time: 0.47165942192077637\n",
      "Training batch: 11\n",
      " - Loss = 0.0117\n",
      " - Memory Allocated:Current CUDA memory usage: 11.64 GB\n",
      " - Total time: 0.6287131309509277\n",
      "Training batch: 12\n",
      " - Loss = 0.0107\n",
      " - Memory Allocated:Current CUDA memory usage: 11.64 GB\n",
      " - Total time: 0.7553622722625732\n",
      "Training batch: 13\n",
      " - Loss = 0.0258\n",
      " - Memory Allocated:Current CUDA memory usage: 11.64 GB\n",
      " - Total time: 0.34903812408447266\n",
      "Training batch: 14\n",
      " - Loss = 0.0297\n",
      " - Memory Allocated:Current CUDA memory usage: 11.64 GB\n",
      " - Total time: 0.29167795181274414\n",
      "Training batch: 15\n",
      " - Loss = 0.0288\n",
      " - Memory Allocated:Current CUDA memory usage: 11.64 GB\n",
      " - Total time: 0.2990422248840332\n",
      "Training batch: 16\n",
      " - Loss = 0.0630\n",
      " - Memory Allocated:Current CUDA memory usage: 11.64 GB\n",
      " - Total time: 0.19266867637634277\n",
      "Training batch: 17\n",
      " - Loss = 0.0144\n",
      " - Memory Allocated:Current CUDA memory usage: 11.64 GB\n",
      " - Total time: 0.5179333686828613\n",
      "Training batch: 18\n",
      " - Loss = 0.0165\n",
      " - Memory Allocated:Current CUDA memory usage: 11.64 GB\n",
      " - Total time: 0.4784834384918213\n",
      "Training batch: 19\n",
      " - Loss = 0.0178\n",
      " - Memory Allocated:Current CUDA memory usage: 11.64 GB\n",
      " - Total time: 0.4391062259674072\n",
      "Training batch: 20\n",
      " - Loss = 0.0170\n",
      " - Memory Allocated:Current CUDA memory usage: 11.64 GB\n",
      " - Total time: 0.45043277740478516\n",
      "Training batch: 21\n",
      " - Loss = 0.0166\n",
      " - Memory Allocated:Current CUDA memory usage: 11.64 GB\n",
      " - Total time: 0.4690408706665039\n",
      "Training batch: 22\n",
      " - Loss = 0.0094\n",
      " - Memory Allocated:Current CUDA memory usage: 11.64 GB\n",
      " - Total time: 0.7749292850494385\n",
      "Training batch: 23\n",
      " - Loss = 0.0262\n",
      " - Memory Allocated:Current CUDA memory usage: 11.64 GB\n",
      " - Total time: 0.3730344772338867\n",
      "Training batch: 24\n",
      " - Loss = 0.1279\n",
      " - Memory Allocated:Current CUDA memory usage: 11.64 GB\n",
      " - Total time: 0.15408921241760254\n",
      "Training batch: 25\n",
      " - Loss = 0.0188\n",
      " - Memory Allocated:Current CUDA memory usage: 11.64 GB\n",
      " - Total time: 0.4128248691558838\n",
      "Training batch: 26\n",
      " - Loss = 0.0174\n",
      " - Memory Allocated:Current CUDA memory usage: 11.64 GB\n",
      " - Total time: 0.4495105743408203\n",
      "Training batch: 27\n",
      " - Loss = 0.0266\n",
      " - Memory Allocated:Current CUDA memory usage: 11.64 GB\n",
      " - Total time: 0.3184342384338379\n",
      "Training batch: 28\n",
      " - Loss = 0.0117\n",
      " - Memory Allocated:Current CUDA memory usage: 11.64 GB\n",
      " - Total time: 0.6121206283569336\n",
      "Training batch: 29\n",
      " - Loss = 0.0110\n",
      " - Memory Allocated:Current CUDA memory usage: 11.64 GB\n",
      " - Total time: 0.6980366706848145\n",
      "Training batch: 30\n",
      " - Loss = 0.0827\n",
      " - Memory Allocated:Current CUDA memory usage: 11.64 GB\n",
      " - Total time: 0.19018864631652832\n",
      "Training batch: 31\n",
      " - Loss = 0.0150\n",
      " - Memory Allocated:Current CUDA memory usage: 11.64 GB\n",
      " - Total time: 0.49655675888061523\n",
      "Training batch: 32\n",
      " - Loss = 0.0078\n",
      " - Memory Allocated:Current CUDA memory usage: 12.75 GB\n",
      " - Total time: 0.9521956443786621\n",
      "Training batch: 33\n",
      " - Loss = 0.0208\n",
      " - Memory Allocated:Current CUDA memory usage: 12.75 GB\n",
      " - Total time: 0.4110867977142334\n",
      "Training batch: 34\n",
      " - Loss = 0.0370\n",
      " - Memory Allocated:Current CUDA memory usage: 12.75 GB\n",
      " - Total time: 0.24750280380249023\n",
      "Training batch: 35\n",
      " - Loss = 0.0116\n",
      " - Memory Allocated:Current CUDA memory usage: 12.75 GB\n",
      " - Total time: 0.6071653366088867\n",
      "Training batch: 36\n",
      " - Loss = 0.0210\n",
      " - Memory Allocated:Current CUDA memory usage: 12.75 GB\n",
      " - Total time: 0.41515088081359863\n",
      "Training batch: 37\n",
      " - Loss = 0.0092\n",
      " - Memory Allocated:Current CUDA memory usage: 12.75 GB\n",
      " - Total time: 0.7553150653839111\n",
      "Training batch: 38\n",
      " - Loss = 0.0191\n",
      " - Memory Allocated:Current CUDA memory usage: 12.75 GB\n",
      " - Total time: 0.42949652671813965\n",
      "Training batch: 39\n",
      " - Loss = 0.0251\n",
      " - Memory Allocated:Current CUDA memory usage: 12.75 GB\n",
      " - Total time: 0.33855557441711426\n",
      "Training batch: 40\n",
      " - Loss = 0.0210\n",
      " - Memory Allocated:Current CUDA memory usage: 12.75 GB\n",
      " - Total time: 0.38347387313842773\n",
      "Training batch: 41\n"
     ]
    },
    {
     "ename": "OutOfMemoryError",
     "evalue": "CUDA out of memory. Tried to allocate 3.54 GiB (GPU 0; 14.61 GiB total capacity; 13.53 GiB already allocated; 151.12 MiB free; 13.78 GiB reserved in total by PyTorch) If reserved memory is >> allocated memory try setting max_split_size_mb to avoid fragmentation.  See documentation for Memory Management and PYTORCH_CUDA_ALLOC_CONF",
     "output_type": "error",
     "traceback": [
      "\u001b[0;31m---------------------------------------------------------------------------\u001b[0m",
      "\u001b[0;31mOutOfMemoryError\u001b[0m                          Traceback (most recent call last)",
      "Cell \u001b[0;32mIn[8], line 8\u001b[0m\n\u001b[1;32m      5\u001b[0m     \u001b[39mprint\u001b[39m(\u001b[39m\"\u001b[39m\u001b[39mTraining batch:\u001b[39m\u001b[39m\"\u001b[39m, batch_i)\n\u001b[1;32m      6\u001b[0m     batch_content \u001b[39m=\u001b[39m batch[\u001b[39m\"\u001b[39m\u001b[39mContent\u001b[39m\u001b[39m\"\u001b[39m]\n\u001b[0;32m----> 8\u001b[0m     total_loss \u001b[39m+\u001b[39m\u001b[39m=\u001b[39m model_utils\u001b[39m.\u001b[39;49mtrain_batch(\n\u001b[1;32m      9\u001b[0m         model\u001b[39m=\u001b[39;49memb_model,\n\u001b[1;32m     10\u001b[0m         data_processor\u001b[39m=\u001b[39;49mdata_processor,\n\u001b[1;32m     11\u001b[0m         optimizer\u001b[39m=\u001b[39;49moptimizer,\n\u001b[1;32m     12\u001b[0m         criterion\u001b[39m=\u001b[39;49mcriterion,\n\u001b[1;32m     13\u001b[0m         batch\u001b[39m=\u001b[39;49mbatch_content,\n\u001b[1;32m     14\u001b[0m         device\u001b[39m=\u001b[39;49mdevice\n\u001b[1;32m     15\u001b[0m     )\n\u001b[1;32m     16\u001b[0m     total_batches \u001b[39m+\u001b[39m\u001b[39m=\u001b[39m \u001b[39m1\u001b[39m\n\u001b[1;32m     18\u001b[0m \u001b[39mprint\u001b[39m(\u001b[39m\"\u001b[39m\u001b[39mAverage Loss:\u001b[39m\u001b[39m\"\u001b[39m, total_loss\u001b[39m/\u001b[39mtotal_batches)\n",
      "File \u001b[0;32m~/B-Onion/src/notebooks/../transformer_model/model_utils.py:49\u001b[0m, in \u001b[0;36mtrain_batch\u001b[0;34m(model, data_processor, optimizer, criterion, batch, device)\u001b[0m\n\u001b[1;32m     46\u001b[0m loss \u001b[39m=\u001b[39m criterion(output, target)\n\u001b[1;32m     48\u001b[0m \u001b[39m# Backward pass\u001b[39;00m\n\u001b[0;32m---> 49\u001b[0m loss\u001b[39m.\u001b[39;49mbackward()\n\u001b[1;32m     51\u001b[0m \u001b[39m# Clip gradients to prevent exploding gradients\u001b[39;00m\n\u001b[1;32m     52\u001b[0m torch\u001b[39m.\u001b[39mnn\u001b[39m.\u001b[39mutils\u001b[39m.\u001b[39mclip_grad_norm_(model\u001b[39m.\u001b[39mparameters(), \u001b[39m0.5\u001b[39m)\n",
      "File \u001b[0;32m~/B-Onion/lib/python3.9/site-packages/torch/_tensor.py:487\u001b[0m, in \u001b[0;36mTensor.backward\u001b[0;34m(self, gradient, retain_graph, create_graph, inputs)\u001b[0m\n\u001b[1;32m    477\u001b[0m \u001b[39mif\u001b[39;00m has_torch_function_unary(\u001b[39mself\u001b[39m):\n\u001b[1;32m    478\u001b[0m     \u001b[39mreturn\u001b[39;00m handle_torch_function(\n\u001b[1;32m    479\u001b[0m         Tensor\u001b[39m.\u001b[39mbackward,\n\u001b[1;32m    480\u001b[0m         (\u001b[39mself\u001b[39m,),\n\u001b[0;32m   (...)\u001b[0m\n\u001b[1;32m    485\u001b[0m         inputs\u001b[39m=\u001b[39minputs,\n\u001b[1;32m    486\u001b[0m     )\n\u001b[0;32m--> 487\u001b[0m torch\u001b[39m.\u001b[39;49mautograd\u001b[39m.\u001b[39;49mbackward(\n\u001b[1;32m    488\u001b[0m     \u001b[39mself\u001b[39;49m, gradient, retain_graph, create_graph, inputs\u001b[39m=\u001b[39;49minputs\n\u001b[1;32m    489\u001b[0m )\n",
      "File \u001b[0;32m~/B-Onion/lib/python3.9/site-packages/torch/autograd/__init__.py:200\u001b[0m, in \u001b[0;36mbackward\u001b[0;34m(tensors, grad_tensors, retain_graph, create_graph, grad_variables, inputs)\u001b[0m\n\u001b[1;32m    195\u001b[0m     retain_graph \u001b[39m=\u001b[39m create_graph\n\u001b[1;32m    197\u001b[0m \u001b[39m# The reason we repeat same the comment below is that\u001b[39;00m\n\u001b[1;32m    198\u001b[0m \u001b[39m# some Python versions print out the first line of a multi-line function\u001b[39;00m\n\u001b[1;32m    199\u001b[0m \u001b[39m# calls in the traceback and some print out the last line\u001b[39;00m\n\u001b[0;32m--> 200\u001b[0m Variable\u001b[39m.\u001b[39;49m_execution_engine\u001b[39m.\u001b[39;49mrun_backward(  \u001b[39m# Calls into the C++ engine to run the backward pass\u001b[39;49;00m\n\u001b[1;32m    201\u001b[0m     tensors, grad_tensors_, retain_graph, create_graph, inputs,\n\u001b[1;32m    202\u001b[0m     allow_unreachable\u001b[39m=\u001b[39;49m\u001b[39mTrue\u001b[39;49;00m, accumulate_grad\u001b[39m=\u001b[39;49m\u001b[39mTrue\u001b[39;49;00m)\n",
      "\u001b[0;31mOutOfMemoryError\u001b[0m: CUDA out of memory. Tried to allocate 3.54 GiB (GPU 0; 14.61 GiB total capacity; 13.53 GiB already allocated; 151.12 MiB free; 13.78 GiB reserved in total by PyTorch) If reserved memory is >> allocated memory try setting max_split_size_mb to avoid fragmentation.  See documentation for Memory Management and PYTORCH_CUDA_ALLOC_CONF"
     ]
    }
   ],
   "source": [
    "total_loss = 0.0\n",
    "total_batches = 0\n",
    "\n",
    "for batch_i, batch in enumerate(data_loaders.generate_articles(batch_size=1)):\n",
    "    print(\"Training batch:\", batch_i)\n",
    "    batch_content = batch[\"Content\"]\n",
    "\n",
    "    total_loss += model_utils.train_batch(\n",
    "        model=emb_model,\n",
    "        data_processor=data_processor,\n",
    "        optimizer=optimizer,\n",
    "        criterion=criterion,\n",
    "        batch=batch_content,\n",
    "        device=device\n",
    "    )\n",
    "    total_batches += 1\n",
    "\n",
    "print(\"Average Loss:\", total_loss/total_batches)\n"
   ]
  },
  {
   "attachments": {},
   "cell_type": "markdown",
   "metadata": {},
   "source": [
    "### Save the trained model\n",
    "Save the model to a .pt file"
   ]
  },
  {
   "cell_type": "markdown",
   "metadata": {},
   "source": []
  }
 ],
 "metadata": {
  "kernelspec": {
   "display_name": "Python 3",
   "language": "python",
   "name": "python3"
  },
  "language_info": {
   "codemirror_mode": {
    "name": "ipython",
    "version": 3
   },
   "file_extension": ".py",
   "mimetype": "text/x-python",
   "name": "python",
   "nbconvert_exporter": "python",
   "pygments_lexer": "ipython3",
   "version": "3.9.7"
  },
  "orig_nbformat": 4
 },
 "nbformat": 4,
 "nbformat_minor": 2
}

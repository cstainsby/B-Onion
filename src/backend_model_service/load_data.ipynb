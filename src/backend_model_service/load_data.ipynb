{
 "cells": [
  {
   "cell_type": "code",
   "execution_count": 1,
   "metadata": {},
   "outputs": [],
   "source": [
    "import os\n",
    "import sys\n",
    "import importlib\n",
    "import pandas as pd\n",
    "import numpy as np\n",
    "from pathlib import Path\n",
    "from dotenv import load_dotenv\n",
    "from google.cloud import bigquery\n",
    "from google.cloud.exceptions import NotFound"
   ]
  },
  {
   "cell_type": "code",
   "execution_count": 2,
   "metadata": {},
   "outputs": [],
   "source": [
    "client = bigquery.Client()"
   ]
  },
  {
   "cell_type": "code",
   "execution_count": 3,
   "metadata": {},
   "outputs": [],
   "source": [
    "# Remote data definitions\n",
    "PROJ_NAME = \"bonion\"\n",
    "DATASET_NAME = \"AITA_dataset\"\n",
    "post_table_id = \"{}.{}.post_table\".format(PROJ_NAME, DATASET_NAME)\n",
    "comment_table_id = \"{}.{}.comment_table\".format(PROJ_NAME, DATASET_NAME)\n",
    "reply_table_id = \"{}.{}.reply_table\".format(PROJ_NAME, DATASET_NAME)"
   ]
  },
  {
   "cell_type": "code",
   "execution_count": 4,
   "metadata": {},
   "outputs": [
    {
     "data": {
      "text/html": [
       "<div>\n",
       "<style scoped>\n",
       "    .dataframe tbody tr th:only-of-type {\n",
       "        vertical-align: middle;\n",
       "    }\n",
       "\n",
       "    .dataframe tbody tr th {\n",
       "        vertical-align: top;\n",
       "    }\n",
       "\n",
       "    .dataframe thead th {\n",
       "        text-align: right;\n",
       "    }\n",
       "</style>\n",
       "<table border=\"1\" class=\"dataframe\">\n",
       "  <thead>\n",
       "    <tr style=\"text-align: right;\">\n",
       "      <th></th>\n",
       "      <th>post_id</th>\n",
       "      <th>post_title</th>\n",
       "      <th>post_content</th>\n",
       "      <th>post_upvotes</th>\n",
       "      <th>comment_id</th>\n",
       "      <th>comment_content</th>\n",
       "      <th>comment_upvotes</th>\n",
       "    </tr>\n",
       "  </thead>\n",
       "  <tbody>\n",
       "    <tr>\n",
       "      <th>0</th>\n",
       "      <td>jyk2ac</td>\n",
       "      <td>AITA for leaving the call when my brother anno...</td>\n",
       "      <td>My brother and I do not get on.\\n\\nWhen we wer...</td>\n",
       "      <td>22802</td>\n",
       "      <td>gd4fbhf</td>\n",
       "      <td>Nta. Your kid is gonna grow up with half sibli...</td>\n",
       "      <td>11786</td>\n",
       "    </tr>\n",
       "    <tr>\n",
       "      <th>1</th>\n",
       "      <td>jyk2ac</td>\n",
       "      <td>AITA for leaving the call when my brother anno...</td>\n",
       "      <td>My brother and I do not get on.\\n\\nWhen we wer...</td>\n",
       "      <td>22802</td>\n",
       "      <td>gd4e5me</td>\n",
       "      <td>NTA- id have cut em both out completely. They’...</td>\n",
       "      <td>4036</td>\n",
       "    </tr>\n",
       "    <tr>\n",
       "      <th>2</th>\n",
       "      <td>jyk2ac</td>\n",
       "      <td>AITA for leaving the call when my brother anno...</td>\n",
       "      <td>My brother and I do not get on.\\n\\nWhen we wer...</td>\n",
       "      <td>22802</td>\n",
       "      <td>gd4e513</td>\n",
       "      <td>NTA\\n\\nI think you handled the situation as we...</td>\n",
       "      <td>26273</td>\n",
       "    </tr>\n",
       "    <tr>\n",
       "      <th>3</th>\n",
       "      <td>jyk2ac</td>\n",
       "      <td>AITA for leaving the call when my brother anno...</td>\n",
       "      <td>My brother and I do not get on.\\n\\nWhen we wer...</td>\n",
       "      <td>22802</td>\n",
       "      <td>gd4eips</td>\n",
       "      <td>This is a lot to unpack, but you're definitely...</td>\n",
       "      <td>2271</td>\n",
       "    </tr>\n",
       "  </tbody>\n",
       "</table>\n",
       "</div>"
      ],
      "text/plain": [
       "  post_id                                         post_title  \\\n",
       "0  jyk2ac  AITA for leaving the call when my brother anno...   \n",
       "1  jyk2ac  AITA for leaving the call when my brother anno...   \n",
       "2  jyk2ac  AITA for leaving the call when my brother anno...   \n",
       "3  jyk2ac  AITA for leaving the call when my brother anno...   \n",
       "\n",
       "                                        post_content  post_upvotes comment_id  \\\n",
       "0  My brother and I do not get on.\\n\\nWhen we wer...         22802    gd4fbhf   \n",
       "1  My brother and I do not get on.\\n\\nWhen we wer...         22802    gd4e5me   \n",
       "2  My brother and I do not get on.\\n\\nWhen we wer...         22802    gd4e513   \n",
       "3  My brother and I do not get on.\\n\\nWhen we wer...         22802    gd4eips   \n",
       "\n",
       "                                     comment_content  comment_upvotes  \n",
       "0  Nta. Your kid is gonna grow up with half sibli...            11786  \n",
       "1  NTA- id have cut em both out completely. They’...             4036  \n",
       "2  NTA\\n\\nI think you handled the situation as we...            26273  \n",
       "3  This is a lot to unpack, but you're definitely...             2271  "
      ]
     },
     "execution_count": 4,
     "metadata": {},
     "output_type": "execute_result"
    }
   ],
   "source": [
    "# get data \n",
    "query_for_post_data = \"\"\"\n",
    "    SELECT reddit_post_id AS post_id, post_title, post_self_text AS post_content, posts.upvotes AS post_upvotes, \n",
    "            comment_id, content AS comment_content, comments.upvotes AS comment_upvotes\n",
    "    FROM {} posts JOIN {} comments ON (posts.reddit_post_id = SUBSTRING(comments.parent_id, 4, 100));\n",
    "\"\"\".format(post_table_id, comment_table_id)\n",
    "\n",
    "post_join_comment_df = pd.read_gbq(query_for_post_data, project_id=PROJ_NAME)\n",
    "\n",
    "post_join_comment_df.head(4)"
   ]
  },
  {
   "cell_type": "code",
   "execution_count": 8,
   "metadata": {},
   "outputs": [],
   "source": [
    "post_join_comment_df.to_csv(path_or_buf= \"./saved_data/post_join_comment.csv\", index=False)"
   ]
  }
 ],
 "metadata": {
  "kernelspec": {
   "display_name": "Python 3",
   "language": "python",
   "name": "python3"
  },
  "language_info": {
   "codemirror_mode": {
    "name": "ipython",
    "version": 3
   },
   "file_extension": ".py",
   "mimetype": "text/x-python",
   "name": "python",
   "nbconvert_exporter": "python",
   "pygments_lexer": "ipython3",
   "version": "3.8.10"
  },
  "orig_nbformat": 4
 },
 "nbformat": 4,
 "nbformat_minor": 2
}

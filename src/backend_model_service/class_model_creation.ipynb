{
 "cells": [
  {
   "attachments": {},
   "cell_type": "markdown",
   "metadata": {},
   "source": [
    "# Fine Tune BERT for Multi-label Classification\n",
    "**Based on work from:** [here](https://github.com/NielsRogge/Transformers-Tutorials/blob/master/BERT/Fine_tuning_BERT_(and_friends)_for_multi_label_text_classification.ipynb)\n",
    "\n",
    "Using hugging faces' BERT model, I will be training it to classify a string based on multiples classes."
   ]
  },
  {
   "cell_type": "code",
   "execution_count": 1,
   "metadata": {},
   "outputs": [
    {
     "name": "stderr",
     "output_type": "stream",
     "text": [
      "/home/cstainsby/class/dataProj/bonion/src/backend_model_service/model_env/lib/python3.8/site-packages/tqdm/auto.py:21: TqdmWarning: IProgress not found. Please update jupyter and ipywidgets. See https://ipywidgets.readthedocs.io/en/stable/user_install.html\n",
      "  from .autonotebook import tqdm as notebook_tqdm\n"
     ]
    }
   ],
   "source": [
    "from text_gen_model import TextGenModelManager\n",
    "from transformers import AutoModelForCausalLM, GenerationConfig, PreTrainedTokenizerFast, AutoTokenizer\n",
    "from datasets import load_dataset, DatasetDict\n",
    "import pandas as pd\n",
    "import numpy as np"
   ]
  },
  {
   "attachments": {},
   "cell_type": "markdown",
   "metadata": {},
   "source": [
    "## Load Dataset"
   ]
  },
  {
   "cell_type": "code",
   "execution_count": 2,
   "metadata": {},
   "outputs": [
    {
     "data": {
      "text/html": [
       "<div>\n",
       "<style scoped>\n",
       "    .dataframe tbody tr th:only-of-type {\n",
       "        vertical-align: middle;\n",
       "    }\n",
       "\n",
       "    .dataframe tbody tr th {\n",
       "        vertical-align: top;\n",
       "    }\n",
       "\n",
       "    .dataframe thead th {\n",
       "        text-align: right;\n",
       "    }\n",
       "</style>\n",
       "<table border=\"1\" class=\"dataframe\">\n",
       "  <thead>\n",
       "    <tr style=\"text-align: right;\">\n",
       "      <th></th>\n",
       "      <th>prompt</th>\n",
       "      <th>nta</th>\n",
       "      <th>yta</th>\n",
       "      <th>info</th>\n",
       "      <th>nah</th>\n",
       "      <th>esh</th>\n",
       "      <th>ywbta</th>\n",
       "    </tr>\n",
       "  </thead>\n",
       "  <tbody>\n",
       "    <tr>\n",
       "      <th>0</th>\n",
       "      <td>title: (UPDATE) AITA for telling my step-daugh...</td>\n",
       "      <td>1</td>\n",
       "      <td>0</td>\n",
       "      <td>0</td>\n",
       "      <td>0</td>\n",
       "      <td>0</td>\n",
       "      <td>0</td>\n",
       "    </tr>\n",
       "    <tr>\n",
       "      <th>1</th>\n",
       "      <td>title: AITA (22M) for telling my mom (46F) to ...</td>\n",
       "      <td>1</td>\n",
       "      <td>0</td>\n",
       "      <td>0</td>\n",
       "      <td>0</td>\n",
       "      <td>0</td>\n",
       "      <td>0</td>\n",
       "    </tr>\n",
       "    <tr>\n",
       "      <th>2</th>\n",
       "      <td>title: AITA (31F) for not wanting to go out dr...</td>\n",
       "      <td>1</td>\n",
       "      <td>0</td>\n",
       "      <td>0</td>\n",
       "      <td>0</td>\n",
       "      <td>0</td>\n",
       "      <td>0</td>\n",
       "    </tr>\n",
       "    <tr>\n",
       "      <th>3</th>\n",
       "      <td>title: AITA (39F) for NOT wanting to move to L...</td>\n",
       "      <td>1</td>\n",
       "      <td>0</td>\n",
       "      <td>0</td>\n",
       "      <td>0</td>\n",
       "      <td>0</td>\n",
       "      <td>0</td>\n",
       "    </tr>\n",
       "    <tr>\n",
       "      <th>4</th>\n",
       "      <td>title: AITA (F25) for telling my bridesmaid (F...</td>\n",
       "      <td>1</td>\n",
       "      <td>0</td>\n",
       "      <td>0</td>\n",
       "      <td>0</td>\n",
       "      <td>0</td>\n",
       "      <td>0</td>\n",
       "    </tr>\n",
       "  </tbody>\n",
       "</table>\n",
       "</div>"
      ],
      "text/plain": [
       "                                              prompt  nta  yta  info  nah   \n",
       "0  title: (UPDATE) AITA for telling my step-daugh...    1    0     0    0  \\\n",
       "1  title: AITA (22M) for telling my mom (46F) to ...    1    0     0    0   \n",
       "2  title: AITA (31F) for not wanting to go out dr...    1    0     0    0   \n",
       "3  title: AITA (39F) for NOT wanting to move to L...    1    0     0    0   \n",
       "4  title: AITA (F25) for telling my bridesmaid (F...    1    0     0    0   \n",
       "\n",
       "   esh  ywbta  \n",
       "0    0      0  \n",
       "1    0      0  \n",
       "2    0      0  \n",
       "3    0      0  \n",
       "4    0      0  "
      ]
     },
     "execution_count": 2,
     "metadata": {},
     "output_type": "execute_result"
    }
   ],
   "source": [
    "# just to view the head of the data\n",
    "class_df = pd.read_csv(\"./saved_data/hot_encoded_class.csv\")\n",
    "class_df.head()"
   ]
  },
  {
   "cell_type": "code",
   "execution_count": 3,
   "metadata": {},
   "outputs": [],
   "source": [
    "del class_df"
   ]
  },
  {
   "cell_type": "code",
   "execution_count": 4,
   "metadata": {},
   "outputs": [
    {
     "name": "stderr",
     "output_type": "stream",
     "text": [
      "Found cached dataset csv (/home/cstainsby/.cache/huggingface/datasets/csv/default-76333b3cc915cf8c/0.0.0/6954658bab30a358235fa864b05cf819af0e179325c740e4bc853bcc7ec513e1)\n",
      "100%|██████████| 1/1 [00:00<00:00, 442.20it/s]\n"
     ]
    }
   ],
   "source": [
    "dataset = load_dataset(\"csv\", data_files=\"./saved_data/hot_encoded_class.csv\")"
   ]
  },
  {
   "cell_type": "code",
   "execution_count": 5,
   "metadata": {},
   "outputs": [
    {
     "data": {
      "text/plain": [
       "DatasetDict({\n",
       "    train: Dataset({\n",
       "        features: ['prompt', 'nta', 'yta', 'info', 'nah', 'esh', 'ywbta'],\n",
       "        num_rows: 920\n",
       "    })\n",
       "})"
      ]
     },
     "execution_count": 5,
     "metadata": {},
     "output_type": "execute_result"
    }
   ],
   "source": [
    "dataset"
   ]
  },
  {
   "cell_type": "code",
   "execution_count": 6,
   "metadata": {},
   "outputs": [
    {
     "data": {
      "text/plain": [
       "{'prompt': 'title: (UPDATE) AITA for telling my step-daughter to “go ask her real dad” when she asked me to pay for her plane tickets?\\ncontent: [Original post ](https://www.reddit.com/r/AmItheAsshole/comments/irxyza/aita_for_telling_my_stepdaughter_to_go_ask_her/?utm_source=share&utm_medium=ios_app&utm_name=iossmf)\\n\\nHey guys. It’s been a good 2 weeks since I’ve posted and I figured you guys would like an update. A lot has happened since the last time I posted\\n\\nSo that night, I did what many of the comments suggested I do, which was to apologize. I told her that I’m sorry that implying that I’m not her real father, but like it or not that I consider her MY daughter. That I loved her and will always be there for her. She started to cry and sob uncontrollably and said “Why doesn’t he [her biological father] love me?” I held her and told her she didn’t need to fight for his approval. I also apologized for looking through her phone; that I’ve come to accept that it’s not an appropriate punishment for a teenage girl, and I was going to find other alternatives. Lastly I brought up therapy and while she was hesitant at first I let her know it was nothing to be ashamed of, that everything she said at therapy would be entirely confidential, and that it could help to have a confidant to help her sort through her feelings. She sat on this for the day, but the next day let me know that she was ready so I set up the soonest appointment (which was last Friday and her second appointment this afternoon)\\n\\nIt’s only been a week so I don’t want to get too optimistic but honestly I feel like I’m noticing an improvement already. She’s actually been engaging back in small talk when normally she wouldn’t give me the time of day. She’s been following all of the rules, coming home at a reasonable hour, she’s been less withdrawn and more social even to the point where her brother commented on the change today! But the most exciting news of them all is when getting out the car on her way home from therapy, she said and I quote “thanks dad”. She’s never called me dad before so honestly I’ve been riding off that high for the last two hours \\n\\nI’m not delusional enough to think everything’s peachy but honestly the behavior change in the last week was the most progress we’ve had since, well, ever. I’m cautiously optimistic going forward. \\n\\nThanks again everyone for your comments, especially the ones who gave me the kick in the ass I needed.',\n",
       " 'nta': 1,\n",
       " 'yta': 0,\n",
       " 'info': 0,\n",
       " 'nah': 0,\n",
       " 'esh': 0,\n",
       " 'ywbta': 0}"
      ]
     },
     "execution_count": 6,
     "metadata": {},
     "output_type": "execute_result"
    }
   ],
   "source": [
    "example_row = dataset[\"train\"][0]\n",
    "example_row"
   ]
  },
  {
   "cell_type": "code",
   "execution_count": 7,
   "metadata": {},
   "outputs": [
    {
     "data": {
      "text/plain": [
       "Dataset({\n",
       "    features: ['prompt', 'nta', 'yta', 'info', 'nah', 'esh', 'ywbta'],\n",
       "    num_rows: 920\n",
       "})"
      ]
     },
     "execution_count": 7,
     "metadata": {},
     "output_type": "execute_result"
    }
   ],
   "source": [
    "dataset[\"train\"]"
   ]
  },
  {
   "cell_type": "code",
   "execution_count": 8,
   "metadata": {},
   "outputs": [
    {
     "data": {
      "text/plain": [
       "['nta', 'yta', 'info', 'nah', 'esh', 'ywbta']"
      ]
     },
     "execution_count": 8,
     "metadata": {},
     "output_type": "execute_result"
    }
   ],
   "source": [
    "labels = [label for label in dataset[\"train\"].features.keys() if label not in [\"prompt\"]]\n",
    "id2label = {idx:label for idx, label in enumerate(labels)}\n",
    "label2id = {label:idx for idx, label in enumerate(labels)}\n",
    "labels"
   ]
  },
  {
   "attachments": {},
   "cell_type": "markdown",
   "metadata": {},
   "source": [
    "## Preprocess Data\n",
    "You cant pass direct text into BERT, it takes input ids. To get these, we must tokenize the data."
   ]
  },
  {
   "cell_type": "code",
   "execution_count": 9,
   "metadata": {},
   "outputs": [],
   "source": [
    "tokenizer = AutoTokenizer.from_pretrained(\"bert-base-uncased\")"
   ]
  },
  {
   "cell_type": "code",
   "execution_count": 10,
   "metadata": {},
   "outputs": [
    {
     "name": "stdout",
     "output_type": "stream",
     "text": [
      "<class 'str'>\n"
     ]
    },
    {
     "data": {
      "text/plain": [
       "[101,\n",
       " 2516,\n",
       " 1024,\n",
       " 1006,\n",
       " 10651,\n",
       " 1007,\n",
       " 9932,\n",
       " 2696,\n",
       " 2005,\n",
       " 4129,\n",
       " 2026,\n",
       " 3357,\n",
       " 1011,\n",
       " 2684,\n",
       " 2000,\n",
       " 1523,\n",
       " 2175,\n",
       " 3198,\n",
       " 2014,\n",
       " 2613,\n",
       " 3611,\n",
       " 1524,\n",
       " 2043,\n",
       " 2016,\n",
       " 2356,\n",
       " 2033,\n",
       " 2000,\n",
       " 3477,\n",
       " 2005,\n",
       " 2014,\n",
       " 4946,\n",
       " 9735,\n",
       " 1029,\n",
       " 4180,\n",
       " 1024,\n",
       " 1031,\n",
       " 2434,\n",
       " 2695,\n",
       " 1033,\n",
       " 1006,\n",
       " 16770,\n",
       " 1024,\n",
       " 1013,\n",
       " 1013,\n",
       " 7479,\n",
       " 1012,\n",
       " 2417,\n",
       " 23194,\n",
       " 1012,\n",
       " 4012,\n",
       " 1013,\n",
       " 1054,\n",
       " 1013,\n",
       " 26445,\n",
       " 10760,\n",
       " 12054,\n",
       " 11484,\n",
       " 1013,\n",
       " 7928,\n",
       " 1013,\n",
       " 20868,\n",
       " 18037,\n",
       " 4143,\n",
       " 1013,\n",
       " 9932,\n",
       " 2696,\n",
       " 1035,\n",
       " 2005,\n",
       " 1035,\n",
       " 4129,\n",
       " 1035,\n",
       " 2026,\n",
       " 1035,\n",
       " 3357,\n",
       " 2850,\n",
       " 18533,\n",
       " 2121,\n",
       " 1035,\n",
       " 2000,\n",
       " 1035,\n",
       " 2175,\n",
       " 1035,\n",
       " 3198,\n",
       " 1035,\n",
       " 2014,\n",
       " 1013,\n",
       " 1029,\n",
       " 21183,\n",
       " 2213,\n",
       " 1035,\n",
       " 3120,\n",
       " 1027,\n",
       " 3745,\n",
       " 1004,\n",
       " 21183,\n",
       " 2213,\n",
       " 1035,\n",
       " 5396,\n",
       " 1027,\n",
       " 16380,\n",
       " 1035,\n",
       " 10439,\n",
       " 1004,\n",
       " 21183,\n",
       " 2213,\n",
       " 1035,\n",
       " 2171,\n",
       " 1027,\n",
       " 16380,\n",
       " 6491,\n",
       " 2546,\n",
       " 1007,\n",
       " 4931,\n",
       " 4364,\n",
       " 1012,\n",
       " 2009,\n",
       " 1521,\n",
       " 1055,\n",
       " 2042,\n",
       " 1037,\n",
       " 2204,\n",
       " 1016,\n",
       " 3134,\n",
       " 2144,\n",
       " 1045,\n",
       " 1521,\n",
       " 2310,\n",
       " 102]"
      ]
     },
     "execution_count": 10,
     "metadata": {},
     "output_type": "execute_result"
    }
   ],
   "source": [
    "text = example_row[\"prompt\"]\n",
    "print(type(text))\n",
    "encoding = tokenizer.encode(text, padding=\"max_length\", truncation=True, max_length=128)\n",
    "encoding"
   ]
  },
  {
   "cell_type": "code",
   "execution_count": 11,
   "metadata": {},
   "outputs": [
    {
     "data": {
      "text/plain": [
       "'[CLS] title : ( update ) aita for telling my step - daughter to “ go ask her real dad ” when she asked me to pay for her plane tickets? content : [ original post ] ( https : / / www. reddit. com / r / amitheasshole / comments / irxyza / aita _ for _ telling _ my _ stepdaughter _ to _ go _ ask _ her /? utm _ source = share & utm _ medium = ios _ app & utm _ name = iossmf ) hey guys. it ’ s been a good 2 weeks since i ’ ve [SEP]'"
      ]
     },
     "execution_count": 11,
     "metadata": {},
     "output_type": "execute_result"
    }
   ],
   "source": [
    "tokenizer.decode(encoding)"
   ]
  },
  {
   "cell_type": "code",
   "execution_count": 12,
   "metadata": {},
   "outputs": [],
   "source": [
    "def preprocess_data(examples):\n",
    "  # take a batch of texts\n",
    "  text = examples[\"prompt\"]\n",
    "  # encode them\n",
    "  encoding = tokenizer(text, padding=\"max_length\", truncation=True, max_length=128)\n",
    "  # add labels\n",
    "  labels_batch = {k: examples[k] for k in examples.keys() if k in labels}\n",
    "  # create numpy array of shape (batch_size, num_labels)\n",
    "  labels_matrix = np.zeros((len(text), len(labels)))\n",
    "  # fill numpy array\n",
    "  for idx, label in enumerate(labels):\n",
    "    labels_matrix[:, idx] = labels_batch[label]\n",
    "\n",
    "  encoding[\"labels\"] = labels_matrix.tolist()\n",
    "  \n",
    "  return encoding"
   ]
  },
  {
   "cell_type": "code",
   "execution_count": 13,
   "metadata": {},
   "outputs": [
    {
     "name": "stderr",
     "output_type": "stream",
     "text": [
      "Loading cached processed dataset at /home/cstainsby/.cache/huggingface/datasets/csv/default-76333b3cc915cf8c/0.0.0/6954658bab30a358235fa864b05cf819af0e179325c740e4bc853bcc7ec513e1/cache-36e0aed07e129960.arrow\n"
     ]
    }
   ],
   "source": [
    "encoded_dataset = dataset.map(preprocess_data, batched=True, remove_columns=dataset['train'].column_names)"
   ]
  },
  {
   "cell_type": "code",
   "execution_count": 14,
   "metadata": {},
   "outputs": [
    {
     "data": {
      "text/plain": [
       "DatasetDict({\n",
       "    train: Dataset({\n",
       "        features: ['input_ids', 'token_type_ids', 'attention_mask', 'labels'],\n",
       "        num_rows: 920\n",
       "    })\n",
       "})"
      ]
     },
     "execution_count": 14,
     "metadata": {},
     "output_type": "execute_result"
    }
   ],
   "source": [
    "encoded_dataset"
   ]
  },
  {
   "attachments": {},
   "cell_type": "markdown",
   "metadata": {},
   "source": [
    "### Split Dataset\n",
    "Split the dataset into a training, validation, and testing dataset "
   ]
  },
  {
   "cell_type": "code",
   "execution_count": 15,
   "metadata": {},
   "outputs": [
    {
     "data": {
      "text/plain": [
       "DatasetDict({\n",
       "    train: Dataset({\n",
       "        features: ['input_ids', 'token_type_ids', 'attention_mask', 'labels'],\n",
       "        num_rows: 736\n",
       "    })\n",
       "    test: Dataset({\n",
       "        features: ['input_ids', 'token_type_ids', 'attention_mask', 'labels'],\n",
       "        num_rows: 184\n",
       "    })\n",
       "    validation: Dataset({\n",
       "        features: ['input_ids', 'token_type_ids', 'attention_mask', 'labels'],\n",
       "        num_rows: 74\n",
       "    })\n",
       "})"
      ]
     },
     "execution_count": 15,
     "metadata": {},
     "output_type": "execute_result"
    }
   ],
   "source": [
    "# 90% train + valid, 10% test\n",
    "trainvalid_test_dataset = encoded_dataset[\"train\"].train_test_split(test_size=0.2)\n",
    "\n",
    "trainvalid_dataset = trainvalid_test_dataset[\"train\"]\n",
    "train_valid_dataset =  trainvalid_dataset.train_test_split(test_size=0.1)\n",
    "\n",
    "\n",
    "train_test_valid_dataset = DatasetDict({\n",
    "   'train': trainvalid_test_dataset[\"train\"],\n",
    "   'test': trainvalid_test_dataset['test'],\n",
    "   'validation': train_valid_dataset['test']})\n",
    "train_test_valid_dataset"
   ]
  },
  {
   "attachments": {},
   "cell_type": "markdown",
   "metadata": {},
   "source": [
    "## Define the Model"
   ]
  },
  {
   "cell_type": "code",
   "execution_count": 16,
   "metadata": {},
   "outputs": [
    {
     "name": "stderr",
     "output_type": "stream",
     "text": [
      "Some weights of the model checkpoint at bert-base-uncased were not used when initializing BertForSequenceClassification: ['cls.predictions.decoder.weight', 'cls.seq_relationship.weight', 'cls.predictions.transform.LayerNorm.bias', 'cls.predictions.bias', 'cls.predictions.transform.dense.bias', 'cls.seq_relationship.bias', 'cls.predictions.transform.LayerNorm.weight', 'cls.predictions.transform.dense.weight']\n",
      "- This IS expected if you are initializing BertForSequenceClassification from the checkpoint of a model trained on another task or with another architecture (e.g. initializing a BertForSequenceClassification model from a BertForPreTraining model).\n",
      "- This IS NOT expected if you are initializing BertForSequenceClassification from the checkpoint of a model that you expect to be exactly identical (initializing a BertForSequenceClassification model from a BertForSequenceClassification model).\n",
      "Some weights of BertForSequenceClassification were not initialized from the model checkpoint at bert-base-uncased and are newly initialized: ['classifier.bias', 'classifier.weight']\n",
      "You should probably TRAIN this model on a down-stream task to be able to use it for predictions and inference.\n"
     ]
    }
   ],
   "source": [
    "from transformers import AutoModelForSequenceClassification\n",
    "\n",
    "model = AutoModelForSequenceClassification.from_pretrained(\"bert-base-uncased\", \n",
    "                                                           problem_type=\"multi_label_classification\", \n",
    "                                                           num_labels=len(labels),\n",
    "                                                           id2label=id2label,\n",
    "                                                           label2id=label2id)"
   ]
  },
  {
   "attachments": {},
   "cell_type": "markdown",
   "metadata": {},
   "source": [
    "## Train the Model"
   ]
  },
  {
   "cell_type": "code",
   "execution_count": 17,
   "metadata": {},
   "outputs": [],
   "source": [
    "batch_size = 8\n",
    "metric_name = \"f1\""
   ]
  },
  {
   "cell_type": "code",
   "execution_count": 18,
   "metadata": {},
   "outputs": [],
   "source": [
    "from transformers import TrainingArguments, Trainer\n",
    "\n",
    "args = TrainingArguments(\n",
    "    f\"bert-finetuned-sem_eval-english\",\n",
    "    evaluation_strategy = \"epoch\",\n",
    "    save_strategy = \"epoch\",\n",
    "    learning_rate=2e-5,\n",
    "    per_device_train_batch_size=batch_size,\n",
    "    per_device_eval_batch_size=batch_size,\n",
    "    num_train_epochs=5,\n",
    "    weight_decay=0.01,\n",
    "    load_best_model_at_end=True,\n",
    "    metric_for_best_model=metric_name,\n",
    "    #push_to_hub=True,\n",
    ")"
   ]
  },
  {
   "cell_type": "code",
   "execution_count": 19,
   "metadata": {},
   "outputs": [],
   "source": [
    "from sklearn.metrics import f1_score, roc_auc_score, accuracy_score\n",
    "from transformers import EvalPrediction\n",
    "import torch\n",
    "\n",
    "# source: https://jesusleal.io/2021/04/21/Longformer-multilabel-classification/\n",
    "def multi_label_metrics(predictions, labels, threshold=0.5):\n",
    "    # first, apply sigmoid on predictions which are of shape (batch_size, num_labels)\n",
    "    sigmoid = torch.nn.Sigmoid()\n",
    "    probs = sigmoid(torch.Tensor(predictions))\n",
    "    # next, use threshold to turn them into integer predictions\n",
    "    y_pred = np.zeros(probs.shape)\n",
    "    y_pred[np.where(probs >= threshold)] = 1\n",
    "    # finally, compute metrics\n",
    "    y_true = labels\n",
    "    f1_micro_average = f1_score(y_true=y_true, y_pred=y_pred, average='micro')\n",
    "    roc_auc = roc_auc_score(y_true, y_pred, average = 'micro')\n",
    "    accuracy = accuracy_score(y_true, y_pred)\n",
    "    # return as dictionary\n",
    "    metrics = {'f1': f1_micro_average,\n",
    "               'roc_auc': roc_auc,\n",
    "               'accuracy': accuracy}\n",
    "    return metrics\n",
    "\n",
    "def compute_metrics(p: EvalPrediction):\n",
    "    preds = p.predictions[0] if isinstance(p.predictions, \n",
    "            tuple) else p.predictions\n",
    "    result = multi_label_metrics(\n",
    "        predictions=preds, \n",
    "        labels=p.label_ids)\n",
    "    return result"
   ]
  },
  {
   "cell_type": "code",
   "execution_count": 20,
   "metadata": {},
   "outputs": [
    {
     "data": {
      "text/plain": [
       "[1.0, 0.0, 0.0, 0.0, 0.0, 0.0]"
      ]
     },
     "execution_count": 20,
     "metadata": {},
     "output_type": "execute_result"
    }
   ],
   "source": [
    "encoded_dataset['train'][0]['labels']"
   ]
  },
  {
   "cell_type": "code",
   "execution_count": 21,
   "metadata": {},
   "outputs": [
    {
     "data": {
      "text/plain": [
       "[101,\n",
       " 2516,\n",
       " 1024,\n",
       " 1006,\n",
       " 10651,\n",
       " 1007,\n",
       " 9932,\n",
       " 2696,\n",
       " 2005,\n",
       " 4129,\n",
       " 2026,\n",
       " 3357,\n",
       " 1011,\n",
       " 2684,\n",
       " 2000,\n",
       " 1523,\n",
       " 2175,\n",
       " 3198,\n",
       " 2014,\n",
       " 2613,\n",
       " 3611,\n",
       " 1524,\n",
       " 2043,\n",
       " 2016,\n",
       " 2356,\n",
       " 2033,\n",
       " 2000,\n",
       " 3477,\n",
       " 2005,\n",
       " 2014,\n",
       " 4946,\n",
       " 9735,\n",
       " 1029,\n",
       " 4180,\n",
       " 1024,\n",
       " 1031,\n",
       " 2434,\n",
       " 2695,\n",
       " 1033,\n",
       " 1006,\n",
       " 16770,\n",
       " 1024,\n",
       " 1013,\n",
       " 1013,\n",
       " 7479,\n",
       " 1012,\n",
       " 2417,\n",
       " 23194,\n",
       " 1012,\n",
       " 4012,\n",
       " 1013,\n",
       " 1054,\n",
       " 1013,\n",
       " 26445,\n",
       " 10760,\n",
       " 12054,\n",
       " 11484,\n",
       " 1013,\n",
       " 7928,\n",
       " 1013,\n",
       " 20868,\n",
       " 18037,\n",
       " 4143,\n",
       " 1013,\n",
       " 9932,\n",
       " 2696,\n",
       " 1035,\n",
       " 2005,\n",
       " 1035,\n",
       " 4129,\n",
       " 1035,\n",
       " 2026,\n",
       " 1035,\n",
       " 3357,\n",
       " 2850,\n",
       " 18533,\n",
       " 2121,\n",
       " 1035,\n",
       " 2000,\n",
       " 1035,\n",
       " 2175,\n",
       " 1035,\n",
       " 3198,\n",
       " 1035,\n",
       " 2014,\n",
       " 1013,\n",
       " 1029,\n",
       " 21183,\n",
       " 2213,\n",
       " 1035,\n",
       " 3120,\n",
       " 1027,\n",
       " 3745,\n",
       " 1004,\n",
       " 21183,\n",
       " 2213,\n",
       " 1035,\n",
       " 5396,\n",
       " 1027,\n",
       " 16380,\n",
       " 1035,\n",
       " 10439,\n",
       " 1004,\n",
       " 21183,\n",
       " 2213,\n",
       " 1035,\n",
       " 2171,\n",
       " 1027,\n",
       " 16380,\n",
       " 6491,\n",
       " 2546,\n",
       " 1007,\n",
       " 4931,\n",
       " 4364,\n",
       " 1012,\n",
       " 2009,\n",
       " 1521,\n",
       " 1055,\n",
       " 2042,\n",
       " 1037,\n",
       " 2204,\n",
       " 1016,\n",
       " 3134,\n",
       " 2144,\n",
       " 1045,\n",
       " 1521,\n",
       " 2310,\n",
       " 102]"
      ]
     },
     "execution_count": 21,
     "metadata": {},
     "output_type": "execute_result"
    }
   ],
   "source": [
    "encoded_dataset['train']['input_ids'][0]"
   ]
  },
  {
   "cell_type": "code",
   "execution_count": 22,
   "metadata": {},
   "outputs": [],
   "source": [
    "trainer = Trainer(\n",
    "    model,\n",
    "    args,\n",
    "    train_dataset=train_test_valid_dataset[\"train\"],\n",
    "    eval_dataset=train_test_valid_dataset[\"validation\"],\n",
    "    tokenizer=tokenizer,\n",
    "    compute_metrics=compute_metrics\n",
    ")"
   ]
  },
  {
   "cell_type": "code",
   "execution_count": 23,
   "metadata": {},
   "outputs": [
    {
     "name": "stderr",
     "output_type": "stream",
     "text": [
      "/home/cstainsby/class/dataProj/bonion/src/backend_model_service/model_env/lib/python3.8/site-packages/transformers/optimization.py:391: FutureWarning: This implementation of AdamW is deprecated and will be removed in a future version. Use the PyTorch implementation torch.optim.AdamW instead, or set `no_deprecation_warning=True` to disable this warning\n",
      "  warnings.warn(\n",
      "You're using a BertTokenizerFast tokenizer. Please note that with a fast tokenizer, using the `__call__` method is faster than using a method to encode the text followed by a call to the `pad` method to get a padded encoding.\n"
     ]
    },
    {
     "data": {
      "text/html": [
       "\n",
       "    <div>\n",
       "      \n",
       "      <progress value='93' max='460' style='width:300px; height:20px; vertical-align: middle;'></progress>\n",
       "      [ 93/460 04:49 < 19:28, 0.31 it/s, Epoch 1/5]\n",
       "    </div>\n",
       "    <table border=\"1\" class=\"dataframe\">\n",
       "  <thead>\n",
       " <tr style=\"text-align: left;\">\n",
       "      <th>Epoch</th>\n",
       "      <th>Training Loss</th>\n",
       "      <th>Validation Loss</th>\n",
       "    </tr>\n",
       "  </thead>\n",
       "  <tbody>\n",
       "  </tbody>\n",
       "</table><p>\n",
       "    <div>\n",
       "      \n",
       "      <progress value='9' max='10' style='width:300px; height:20px; vertical-align: middle;'></progress>\n",
       "      [ 9/10 00:07 < 00:00, 1.05 it/s]\n",
       "    </div>\n",
       "    "
      ],
      "text/plain": [
       "<IPython.core.display.HTML object>"
      ]
     },
     "metadata": {},
     "output_type": "display_data"
    },
    {
     "data": {
      "text/plain": [
       "TrainOutput(global_step=460, training_loss=0.2872388756793478, metrics={'train_runtime': 1497.1631, 'train_samples_per_second': 2.458, 'train_steps_per_second': 0.307, 'total_flos': 242070864445440.0, 'train_loss': 0.2872388756793478, 'epoch': 5.0})"
      ]
     },
     "execution_count": 23,
     "metadata": {},
     "output_type": "execute_result"
    }
   ],
   "source": [
    "trainer.train()"
   ]
  },
  {
   "cell_type": "code",
   "execution_count": 24,
   "metadata": {},
   "outputs": [
    {
     "data": {
      "text/html": [
       "\n",
       "    <div>\n",
       "      \n",
       "      <progress value='11' max='10' style='width:300px; height:20px; vertical-align: middle;'></progress>\n",
       "      [10/10 00:08]\n",
       "    </div>\n",
       "    "
      ],
      "text/plain": [
       "<IPython.core.display.HTML object>"
      ]
     },
     "metadata": {},
     "output_type": "display_data"
    },
    {
     "data": {
      "text/plain": [
       "{'eval_loss': 0.2376590222120285,\n",
       " 'eval_f1': 0.6666666666666667,\n",
       " 'eval_roc_auc': 0.7824324324324324,\n",
       " 'eval_accuracy': 0.6081081081081081,\n",
       " 'eval_runtime': 8.2922,\n",
       " 'eval_samples_per_second': 8.924,\n",
       " 'eval_steps_per_second': 1.206,\n",
       " 'epoch': 5.0}"
      ]
     },
     "execution_count": 24,
     "metadata": {},
     "output_type": "execute_result"
    }
   ],
   "source": [
    "trainer.evaluate()"
   ]
  },
  {
   "cell_type": "code",
   "execution_count": 25,
   "metadata": {},
   "outputs": [],
   "source": [
    "predictions, label_ids, metrics = trainer.predict(train_test_valid_dataset[\"test\"])"
   ]
  },
  {
   "cell_type": "code",
   "execution_count": 26,
   "metadata": {},
   "outputs": [],
   "source": [
    "import matplotlib.pyplot as plt \n"
   ]
  },
  {
   "cell_type": "code",
   "execution_count": 27,
   "metadata": {},
   "outputs": [],
   "source": [
    "def id_matrix_to_label_list(label_matrix):\n",
    "    id_list = []\n",
    "    for label_pred_row in label_matrix:\n",
    "        index = list(label_pred_row).index(1)\n",
    "        id = id2label[index]\n",
    "        id_list.append(id)\n",
    "    return id_list\n",
    "\n",
    "def count_frequency(lst):\n",
    "    freq_dict = {}\n",
    "    for value in lst:\n",
    "        if value in freq_dict:\n",
    "            freq_dict[value] += 1\n",
    "        else:\n",
    "            freq_dict[value] = 1\n",
    "    return freq_dict\n",
    "\n",
    "def merge_dicts(dict1, dict2):\n",
    "    merged_dict = dict1.copy()\n",
    "    for key, value in dict2.items():\n",
    "        if key in merged_dict:\n",
    "            merged_dict[key] = (merged_dict[key], value)\n",
    "        else:\n",
    "            merged_dict[key] = value\n",
    "    return merged_dict\n"
   ]
  },
  {
   "cell_type": "code",
   "execution_count": 41,
   "metadata": {},
   "outputs": [],
   "source": [
    "real = np.array(id_matrix_to_label_list(train_test_valid_dataset[\"test\"][\"labels\"]))\n",
    "predicted = np.array(id_matrix_to_label_list(label_ids))\n",
    "\n",
    "real_freq = count_frequency(real)\n",
    "predicted_freq = count_frequency(predicted)\n",
    "\n",
    "total_freqs = merge_dicts(real_freq, predicted_freq)"
   ]
  },
  {
   "cell_type": "code",
   "execution_count": 37,
   "metadata": {},
   "outputs": [
    {
     "data": {
      "text/plain": [
       "Text(0.5, 1.0, 'Frequency of Values in Predicted')"
      ]
     },
     "execution_count": 37,
     "metadata": {},
     "output_type": "execute_result"
    },
    {
     "data": {
      "image/png": "[encoded data removed]",
      "text/plain": [
       "<Figure size 1000x500 with 2 Axes>"
      ]
     },
     "metadata": {},
     "output_type": "display_data"
    }
   ],
   "source": [
    "unique_values1, value_counts1 = np.unique(real, return_counts=True)\n",
    "\n",
    "# Find unique values and their frequencies in arr2\n",
    "unique_values2, value_counts2 = np.unique(predicted, return_counts=True)\n",
    "\n",
    "# Plot the histograms side-by-side\n",
    "fig, axs = plt.subplots(1, 2, figsize=(10, 5))\n",
    "axs[0].bar(unique_values1, value_counts1, color='b', alpha=0.8)\n",
    "axs[1].bar(unique_values2, value_counts2, color='g', alpha=0.8)\n",
    "\n",
    "# Add labels and title\n",
    "axs[0].set_xlabel('Values')\n",
    "axs[0].set_ylabel('Frequency')\n",
    "axs[0].set_title('Frequency of Values in Real')\n",
    "\n",
    "axs[1].set_xlabel('Values')\n",
    "axs[1].set_ylabel('Frequency')\n",
    "axs[1].set_title('Frequency of Values in Predicted')"
   ]
  },
  {
   "cell_type": "code",
   "execution_count": 40,
   "metadata": {},
   "outputs": [
    {
     "data": {
      "image/png": "[encoded data removed]",
      "text/plain": [
       "<Figure size 640x480 with 2 Axes>"
      ]
     },
     "metadata": {},
     "output_type": "display_data"
    }
   ],
   "source": [
    "import matplotlib.pyplot as plt\n",
    "from sklearn.metrics import confusion_matrix\n",
    "\n",
    "# Example true labels and predicted labels\n",
    "\n",
    "# Compute the confusion matrix\n",
    "cm = confusion_matrix(real, predicted)\n",
    "cm_labels = [\"esh\", \"info\", \"nah\", \"nta\", \"yta\"]\n",
    "\n",
    "# Define class labels\n",
    "class_names = cm_labels\n",
    "\n",
    "# Plot the confusion matrix\n",
    "plt.imshow(cm, interpolation='nearest', cmap=plt.cm.Blues)\n",
    "plt.title('Confusion matrix')\n",
    "plt.colorbar()\n",
    "tick_marks = np.arange(len(class_names))\n",
    "plt.xticks(tick_marks, class_names, rotation=45)\n",
    "plt.yticks(tick_marks, class_names)\n",
    "plt.tight_layout()\n",
    "plt.ylabel('True label')\n",
    "plt.xlabel('Predicted label')\n",
    "\n",
    "# Show the plot\n",
    "plt.show()\n"
   ]
  },
  {
   "attachments": {},
   "cell_type": "markdown",
   "metadata": {},
   "source": [
    "## Test it Out"
   ]
  },
  {
   "cell_type": "code",
   "execution_count": 46,
   "metadata": {},
   "outputs": [],
   "source": [
    "text = \"\"\"On Friday after my workout I was on FaceTime with my girlfriend. After my shower I was brushing my teeth and other hygiene stuff. Out of nowhere she says something like “put some clothes on you still look tiny” and I said if I’m skinny then she is fat. We are both pretty much the opposite of those things so obviously they were jokes. Even though both jokes were ass I at least gave her a little ahhaha before I said what I said. What do I get for my joke??? Called childish and Blocked. Literally until a couple hours ago I was blocked the whole weekend.\n",
    "\n",
    "So now today we were on our way to our first period class and she was ignoring me and wouldn’t talk to me in the hallway. When we got in the classroom she goes and tells the teacher that I’m harassing her. The teacher sends me to the office and she literal smirks at me on my way out while the teacher is calling the office so I know she was being petty.\n",
    "\n",
    "I’m in the office and the principal and counselor are giving me this pointless ass lecture trying to make it seem like I was creeping on her or something. Anyway I had in school suspension(ISS) and detention after school for today.\n",
    "\n",
    "She unblocked me and said if I had apologized she wouldn’t be mad anymore and it wasn’t actually what I said it was how I said it. I left her on read because I had no idea wtf she was talking abt at the end that doesn’t even make sense and I will admit that I was kinda in my feelings about the whole harassing thing. Anyway, I came here because when I was telling my boys I got nothing but horrible takes and the advice was even worse. It was so bad that I literally left the gc.\n",
    "\n",
    "Btw I’m about to go to her house in about less than 2 hours. So we may or may not talk in person tonight.\"\"\""
   ]
  },
  {
   "cell_type": "code",
   "execution_count": 47,
   "metadata": {},
   "outputs": [],
   "source": [
    "encoding = tokenizer(text, padding=\"max_length\", truncation=True, max_length=128, return_tensors=\"pt\")\n",
    "encoding = {k: v.to(trainer.model.device) for k,v in encoding.items()}\n",
    "\n",
    "outputs = trainer.model(**encoding)"
   ]
  },
  {
   "cell_type": "code",
   "execution_count": 48,
   "metadata": {},
   "outputs": [
    {
     "data": {
      "text/plain": [
       "torch.Size([1, 6])"
      ]
     },
     "execution_count": 48,
     "metadata": {},
     "output_type": "execute_result"
    }
   ],
   "source": [
    "logits = outputs.logits\n",
    "logits.shape"
   ]
  },
  {
   "cell_type": "code",
   "execution_count": 49,
   "metadata": {},
   "outputs": [
    {
     "name": "stdout",
     "output_type": "stream",
     "text": [
      "['nta']\n"
     ]
    }
   ],
   "source": [
    "# apply sigmoid + threshold\n",
    "sigmoid = torch.nn.Sigmoid()\n",
    "probs = sigmoid(logits.squeeze().cpu())\n",
    "predictions = np.zeros(probs.shape)\n",
    "predictions[np.where(probs >= 0.5)] = 1\n",
    "# turn predicted id's into actual label names\n",
    "predicted_labels = [id2label[idx] for idx, label in enumerate(predictions) if label == 1.0]\n",
    "print(predicted_labels)"
   ]
  },
  {
   "attachments": {},
   "cell_type": "markdown",
   "metadata": {},
   "source": [
    "## Save the Model For Later Use"
   ]
  },
  {
   "cell_type": "code",
   "execution_count": 50,
   "metadata": {},
   "outputs": [],
   "source": [
    "trainer.save_model(\"./saved_models/store/AITAclassmodel/\")"
   ]
  }
 ],
 "metadata": {
  "kernelspec": {
   "display_name": "model_env",
   "language": "python",
   "name": "python3"
  },
  "language_info": {
   "codemirror_mode": {
    "name": "ipython",
    "version": 3
   },
   "file_extension": ".py",
   "mimetype": "text/x-python",
   "name": "python",
   "nbconvert_exporter": "python",
   "pygments_lexer": "ipython3",
   "version": "3.8.10"
  },
  "orig_nbformat": 4
 },
 "nbformat": 4,
 "nbformat_minor": 2
}

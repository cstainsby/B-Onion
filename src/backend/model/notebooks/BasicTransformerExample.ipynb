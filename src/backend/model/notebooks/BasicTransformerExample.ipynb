{
 "cells": [
  {
   "cell_type": "code",
   "execution_count": 1,
   "metadata": {},
   "outputs": [
    {
     "name": "stderr",
     "output_type": "stream",
     "text": [
      "/home/cstainsby/.local/lib/python3.8/site-packages/tqdm/auto.py:22: TqdmWarning: IProgress not found. Please update jupyter and ipywidgets. See https://ipywidgets.readthedocs.io/en/stable/user_install.html\n",
      "  from .autonotebook import tqdm as notebook_tqdm\n"
     ]
    }
   ],
   "source": [
    "import sys\n",
    "import torch\n",
    "from torch import nn"
   ]
  },
  {
   "attachments": {},
   "cell_type": "markdown",
   "metadata": {},
   "source": [
    "### Pull in my modules"
   ]
  },
  {
   "cell_type": "code",
   "execution_count": 2,
   "metadata": {},
   "outputs": [
    {
     "name": "stdout",
     "output_type": "stream",
     "text": [
      "562 batches of size 16\n",
      "187 batches of size 16\n"
     ]
    }
   ],
   "source": [
    "# import my modules \n",
    "from path import get_model_folder_path\n",
    "sys.path.append(get_model_folder_path())\n",
    "\n",
    "from basicModel import Transformer\n",
    "\n",
    "from data_utils import Batch, data_gen\n",
    "from model_utils import fit_model"
   ]
  },
  {
   "attachments": {},
   "cell_type": "markdown",
   "metadata": {},
   "source": [
    "### Basic Model creation"
   ]
  },
  {
   "cell_type": "code",
   "execution_count": 3,
   "metadata": {},
   "outputs": [],
   "source": [
    "device = \"cuda\" if torch.cuda.is_available() else \"cpu\"\n",
    "model = Transformer(\n",
    "    num_tokens=4, dim_model=8, num_heads=2, num_encoder_layers=3, num_decoder_layers=3, dropout_p=0.1\n",
    ").to(device)\n",
    "opt = torch.optim.SGD(model.parameters(), lr=0.01)\n",
    "loss_fn = nn.CrossEntropyLoss()"
   ]
  },
  {
   "attachments": {},
   "cell_type": "markdown",
   "metadata": {},
   "source": [
    "### Create Random Data"
   ]
  },
  {
   "cell_type": "code",
   "execution_count": 4,
   "metadata": {},
   "outputs": [
    {
     "ename": "NameError",
     "evalue": "name 'generate_random_data' is not defined",
     "output_type": "error",
     "traceback": [
      "\u001b[0;31m---------------------------------------------------------------------------\u001b[0m",
      "\u001b[0;31mNameError\u001b[0m                                 Traceback (most recent call last)",
      "Cell \u001b[0;32mIn[4], line 1\u001b[0m\n\u001b[0;32m----> 1\u001b[0m train_data \u001b[39m=\u001b[39m generate_random_data(\u001b[39m9000\u001b[39m)\n\u001b[1;32m      2\u001b[0m test_data \u001b[39m=\u001b[39m generate_random_data(\u001b[39m3000\u001b[39m)\n",
      "\u001b[0;31mNameError\u001b[0m: name 'generate_random_data' is not defined"
     ]
    }
   ],
   "source": [
    "train_data = generate_random_data(9000)\n",
    "test_data = generate_random_data(3000)"
   ]
  },
  {
   "attachments": {},
   "cell_type": "markdown",
   "metadata": {},
   "source": [
    "#### Batchify the data"
   ]
  },
  {
   "cell_type": "code",
   "execution_count": null,
   "metadata": {},
   "outputs": [],
   "source": [
    "Batch()"
   ]
  },
  {
   "attachments": {},
   "cell_type": "markdown",
   "metadata": {},
   "source": [
    "### Training"
   ]
  },
  {
   "cell_type": "code",
   "execution_count": null,
   "metadata": {},
   "outputs": [
    {
     "name": "stdout",
     "output_type": "stream",
     "text": [
      "EPOCH: 0\n"
     ]
    },
    {
     "ename": "TypeError",
     "evalue": "run_epoch() got an unexpected keyword argument 'optimizer'",
     "output_type": "error",
     "traceback": [
      "\u001b[0;31m---------------------------------------------------------------------------\u001b[0m",
      "\u001b[0;31mTypeError\u001b[0m                                 Traceback (most recent call last)",
      "Cell \u001b[0;32mIn[6], line 1\u001b[0m\n\u001b[0;32m----> 1\u001b[0m fit_model(model, opt, loss_fn, \u001b[39m5\u001b[39;49m)\n",
      "File \u001b[0;32m~/class/dataProj/bonion/src/backend/model/model_utils.py:49\u001b[0m, in \u001b[0;36mfit_model\u001b[0;34m(model, optimizer, loss_fn, num_epochs)\u001b[0m\n\u001b[1;32m     46\u001b[0m \u001b[39mprint\u001b[39m(\u001b[39m\"\u001b[39m\u001b[39mEPOCH: \u001b[39m\u001b[39m{}\u001b[39;00m\u001b[39m\"\u001b[39m\u001b[39m.\u001b[39mformat(epoch))\n\u001b[1;32m     47\u001b[0m model\u001b[39m.\u001b[39mtrain() \u001b[39m# pytorch provided function\u001b[39;00m\n\u001b[0;32m---> 49\u001b[0m run_epoch(\n\u001b[1;32m     50\u001b[0m     data_iter\u001b[39m=\u001b[39;49m\u001b[39m7\u001b[39;49m,\n\u001b[1;32m     51\u001b[0m     model\u001b[39m=\u001b[39;49mmodel,\n\u001b[1;32m     52\u001b[0m     loss_function\u001b[39m=\u001b[39;49mloss_fn,\n\u001b[1;32m     53\u001b[0m     optimizer\u001b[39m=\u001b[39;49moptimizer\n\u001b[1;32m     54\u001b[0m )\n\u001b[1;32m     56\u001b[0m model\u001b[39m.\u001b[39meval()\n\u001b[1;32m     57\u001b[0m \u001b[39mprint\u001b[39m()\n",
      "\u001b[0;31mTypeError\u001b[0m: run_epoch() got an unexpected keyword argument 'optimizer'"
     ]
    }
   ],
   "source": [
    "fit_model(model, opt, loss_fn, 5)"
   ]
  }
 ],
 "metadata": {
  "kernelspec": {
   "display_name": "Python 3",
   "language": "python",
   "name": "python3"
  },
  "language_info": {
   "codemirror_mode": {
    "name": "ipython",
    "version": 3
   },
   "file_extension": ".py",
   "mimetype": "text/x-python",
   "name": "python",
   "nbconvert_exporter": "python",
   "pygments_lexer": "ipython3",
   "version": "3.8.10"
  },
  "orig_nbformat": 4,
  "vscode": {
   "interpreter": {
    "hash": "916dbcbb3f70747c44a77c7bcd40155683ae19c65e1c03b4aa3499c5328201f1"
   }
  }
 },
 "nbformat": 4,
 "nbformat_minor": 2
}

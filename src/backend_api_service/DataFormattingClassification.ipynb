{
 "cells": [
  {
   "attachments": {},
   "cell_type": "markdown",
   "metadata": {},
   "source": [
    "# Format Data OpenAI Model for Classification of r/AITA Comments\n",
    "Using the data we've already uploaded to GCP for posts and comments on r/AITA, we are going to pull said data locally to be converted into the JSONL format that OpenAI prefers. Using this data we will create two models. \n",
    "1. sentiment prediction for the classification label of the first layer comments\n",
    "2. An text blurb generator explaining how the AI arrived at its classification\n",
    "\n",
    "The first will be trained on only the posts and the following comments classifications for now. "
   ]
  },
  {
   "cell_type": "code",
   "execution_count": 1,
   "metadata": {},
   "outputs": [],
   "source": [
    "import openai\n",
    "import os\n",
    "import sys\n",
    "import importlib\n",
    "import pandas as pd\n",
    "import numpy as np\n",
    "from pathlib import Path\n",
    "from dotenv import load_dotenv\n",
    "from google.cloud import bigquery\n",
    "from google.cloud.exceptions import NotFound"
   ]
  },
  {
   "cell_type": "code",
   "execution_count": 2,
   "metadata": {},
   "outputs": [
    {
     "data": {
      "text/plain": [
       "True"
      ]
     },
     "execution_count": 2,
     "metadata": {},
     "output_type": "execute_result"
    }
   ],
   "source": [
    "sys.path.append(\"..\")\n",
    "\n",
    "# load enviornment variables for praw to work later\n",
    "load_dotenv(dotenv_path=Path(\"./settings.env\"))"
   ]
  },
  {
   "cell_type": "code",
   "execution_count": 3,
   "metadata": {},
   "outputs": [],
   "source": [
    "client = bigquery.Client()"
   ]
  },
  {
   "cell_type": "code",
   "execution_count": 4,
   "metadata": {},
   "outputs": [],
   "source": [
    "# Remote data definitions\n",
    "PROJ_NAME = \"bonion\"\n",
    "DATASET_NAME = \"AITA_dataset\"\n",
    "post_table_id = \"{}.{}.post_table\".format(PROJ_NAME, DATASET_NAME)\n",
    "comment_table_id = \"{}.{}.comment_table\".format(PROJ_NAME, DATASET_NAME)\n",
    "reply_table_id = \"{}.{}.reply_table\".format(PROJ_NAME, DATASET_NAME)"
   ]
  },
  {
   "attachments": {},
   "cell_type": "markdown",
   "metadata": {},
   "source": [
    "## Prepare Sentiment Analysis and Classification Prediction Dataset\n",
    "Convert Posts and their comments to shape."
   ]
  },
  {
   "cell_type": "code",
   "execution_count": 5,
   "metadata": {},
   "outputs": [
    {
     "data": {
      "text/html": [
       "<div>\n",
       "<style scoped>\n",
       "    .dataframe tbody tr th:only-of-type {\n",
       "        vertical-align: middle;\n",
       "    }\n",
       "\n",
       "    .dataframe tbody tr th {\n",
       "        vertical-align: top;\n",
       "    }\n",
       "\n",
       "    .dataframe thead th {\n",
       "        text-align: right;\n",
       "    }\n",
       "</style>\n",
       "<table border=\"1\" class=\"dataframe\">\n",
       "  <thead>\n",
       "    <tr style=\"text-align: right;\">\n",
       "      <th></th>\n",
       "      <th>post_id</th>\n",
       "      <th>post_title</th>\n",
       "      <th>post_content</th>\n",
       "      <th>post_upvotes</th>\n",
       "      <th>comment_id</th>\n",
       "      <th>comment_content</th>\n",
       "      <th>comment_upvotes</th>\n",
       "    </tr>\n",
       "  </thead>\n",
       "  <tbody>\n",
       "    <tr>\n",
       "      <th>0</th>\n",
       "      <td>jyk2ac</td>\n",
       "      <td>AITA for leaving the call when my brother anno...</td>\n",
       "      <td>My brother and I do not get on.\\n\\nWhen we wer...</td>\n",
       "      <td>22802</td>\n",
       "      <td>gd4fbhf</td>\n",
       "      <td>Nta. Your kid is gonna grow up with half sibli...</td>\n",
       "      <td>11786</td>\n",
       "    </tr>\n",
       "    <tr>\n",
       "      <th>1</th>\n",
       "      <td>jyk2ac</td>\n",
       "      <td>AITA for leaving the call when my brother anno...</td>\n",
       "      <td>My brother and I do not get on.\\n\\nWhen we wer...</td>\n",
       "      <td>22802</td>\n",
       "      <td>gd4e5me</td>\n",
       "      <td>NTA- id have cut em both out completely. They’...</td>\n",
       "      <td>4036</td>\n",
       "    </tr>\n",
       "    <tr>\n",
       "      <th>2</th>\n",
       "      <td>jyk2ac</td>\n",
       "      <td>AITA for leaving the call when my brother anno...</td>\n",
       "      <td>My brother and I do not get on.\\n\\nWhen we wer...</td>\n",
       "      <td>22802</td>\n",
       "      <td>gd4e513</td>\n",
       "      <td>NTA\\n\\nI think you handled the situation as we...</td>\n",
       "      <td>26273</td>\n",
       "    </tr>\n",
       "    <tr>\n",
       "      <th>3</th>\n",
       "      <td>jyk2ac</td>\n",
       "      <td>AITA for leaving the call when my brother anno...</td>\n",
       "      <td>My brother and I do not get on.\\n\\nWhen we wer...</td>\n",
       "      <td>22802</td>\n",
       "      <td>gd4eips</td>\n",
       "      <td>This is a lot to unpack, but you're definitely...</td>\n",
       "      <td>2271</td>\n",
       "    </tr>\n",
       "  </tbody>\n",
       "</table>\n",
       "</div>"
      ],
      "text/plain": [
       "  post_id                                         post_title  \\\n",
       "0  jyk2ac  AITA for leaving the call when my brother anno...   \n",
       "1  jyk2ac  AITA for leaving the call when my brother anno...   \n",
       "2  jyk2ac  AITA for leaving the call when my brother anno...   \n",
       "3  jyk2ac  AITA for leaving the call when my brother anno...   \n",
       "\n",
       "                                        post_content  post_upvotes comment_id  \\\n",
       "0  My brother and I do not get on.\\n\\nWhen we wer...         22802    gd4fbhf   \n",
       "1  My brother and I do not get on.\\n\\nWhen we wer...         22802    gd4e5me   \n",
       "2  My brother and I do not get on.\\n\\nWhen we wer...         22802    gd4e513   \n",
       "3  My brother and I do not get on.\\n\\nWhen we wer...         22802    gd4eips   \n",
       "\n",
       "                                     comment_content  comment_upvotes  \n",
       "0  Nta. Your kid is gonna grow up with half sibli...            11786  \n",
       "1  NTA- id have cut em both out completely. They’...             4036  \n",
       "2  NTA\\n\\nI think you handled the situation as we...            26273  \n",
       "3  This is a lot to unpack, but you're definitely...             2271  "
      ]
     },
     "execution_count": 5,
     "metadata": {},
     "output_type": "execute_result"
    }
   ],
   "source": [
    "# get data \n",
    "query_for_post_data = \"\"\"\n",
    "    SELECT reddit_post_id AS post_id, post_title, post_self_text AS post_content, posts.upvotes AS post_upvotes, \n",
    "            comment_id, content AS comment_content, comments.upvotes AS comment_upvotes\n",
    "    FROM {} posts JOIN {} comments ON (posts.reddit_post_id = SUBSTRING(comments.parent_id, 4, 100));\n",
    "\"\"\".format(post_table_id, comment_table_id)\n",
    "\n",
    "post_join_comment_df = pd.read_gbq(query_for_post_data, project_id=PROJ_NAME)\n",
    "\n",
    "post_join_comment_df.head(4)"
   ]
  },
  {
   "cell_type": "code",
   "execution_count": 6,
   "metadata": {},
   "outputs": [
    {
     "name": "stdout",
     "output_type": "stream",
     "text": [
      "<class 'pandas.core.frame.DataFrame'>\n",
      "RangeIndex: 8090 entries, 0 to 8089\n",
      "Data columns (total 7 columns):\n",
      " #   Column           Non-Null Count  Dtype \n",
      "---  ------           --------------  ----- \n",
      " 0   post_id          8090 non-null   object\n",
      " 1   post_title       8090 non-null   object\n",
      " 2   post_content     8090 non-null   object\n",
      " 3   post_upvotes     8090 non-null   Int64 \n",
      " 4   comment_id       8090 non-null   object\n",
      " 5   comment_content  8090 non-null   object\n",
      " 6   comment_upvotes  8090 non-null   Int64 \n",
      "dtypes: Int64(2), object(5)\n",
      "memory usage: 458.3+ KB\n"
     ]
    }
   ],
   "source": [
    "post_join_comment_df.info()"
   ]
  },
  {
   "cell_type": "code",
   "execution_count": 169,
   "metadata": {},
   "outputs": [],
   "source": [
    "# post_join_comment_df.iloc[3][\"comment_content\"]"
   ]
  },
  {
   "attachments": {},
   "cell_type": "markdown",
   "metadata": {},
   "source": [
    "### Outline of Model Data Inputs\n",
    "Bellow I will show the inputs and outputs of each of the models.\n",
    "\n",
    "1. ClassificationModel(post_title, post_contents) -> classification \n",
    "2. TextGenerationModel(post_title, post_contents, classification) -> completion with classification explicitly stated\n",
    "\n",
    "\n",
    "#### A Note about the initial TextGenerationModel\n",
    "For my first \"naive\" model, I'm going to exapand the classification labels into full words because the acronyms might not have much meaning to open ai's model. "
   ]
  },
  {
   "attachments": {},
   "cell_type": "markdown",
   "metadata": {},
   "source": [
    "### Basic Data Modifications\n",
    "Because r/AITA uses acronyms to describe their ratings of the story, it might make it difficult for the model to understand the meanings behind them due to the niche use of them. I'm going to use regex to parse each of the comment_content's for the classification labels:\n",
    "- YTA = You're the Asshole\n",
    "- YWBTA = You Would Be the Asshole\n",
    "- NTA = Not the Asshole\n",
    "- YWNBTA = You Would Not be the Asshole\n",
    "- ESH = Everyone Sucks here\n",
    "- NAH = No Assholes here\n",
    "- INFO = Not Enough Info\n",
    "\n",
    "These labels will be placed in a *class* column within the df. Then I will convert all instances of these acronyms within the comment content to its full \"version\" e.g. YTA -> You're the Asshole."
   ]
  },
  {
   "cell_type": "code",
   "execution_count": 20,
   "metadata": {},
   "outputs": [
    {
     "data": {
      "text/plain": [
       "<module 'data.data_utils' from '/home/cstainsby/class/dataProj/bonion/src/backend_api_service/../data/data_utils.py'>"
      ]
     },
     "execution_count": 20,
     "metadata": {},
     "output_type": "execute_result"
    }
   ],
   "source": [
    "from data import DataClasses\n",
    "importlib.reload(DataClasses)\n",
    "from data import data_utils\n",
    "importlib.reload(data_utils)"
   ]
  },
  {
   "cell_type": "code",
   "execution_count": 8,
   "metadata": {},
   "outputs": [
    {
     "data": {
      "text/html": [
       "<div>\n",
       "<style scoped>\n",
       "    .dataframe tbody tr th:only-of-type {\n",
       "        vertical-align: middle;\n",
       "    }\n",
       "\n",
       "    .dataframe tbody tr th {\n",
       "        vertical-align: top;\n",
       "    }\n",
       "\n",
       "    .dataframe thead th {\n",
       "        text-align: right;\n",
       "    }\n",
       "</style>\n",
       "<table border=\"1\" class=\"dataframe\">\n",
       "  <thead>\n",
       "    <tr style=\"text-align: right;\">\n",
       "      <th></th>\n",
       "      <th>post_title</th>\n",
       "      <th>post_content</th>\n",
       "      <th>comment_content</th>\n",
       "    </tr>\n",
       "  </thead>\n",
       "  <tbody>\n",
       "    <tr>\n",
       "      <th>0</th>\n",
       "      <td>AITA for leaving the call when my brother anno...</td>\n",
       "      <td>My brother and I do not get on.\\n\\nWhen we wer...</td>\n",
       "      <td>Nta. Your kid is gonna grow up with half sibli...</td>\n",
       "    </tr>\n",
       "    <tr>\n",
       "      <th>1</th>\n",
       "      <td>AITA for leaving the call when my brother anno...</td>\n",
       "      <td>My brother and I do not get on.\\n\\nWhen we wer...</td>\n",
       "      <td>NTA- id have cut em both out completely. They’...</td>\n",
       "    </tr>\n",
       "    <tr>\n",
       "      <th>2</th>\n",
       "      <td>AITA for leaving the call when my brother anno...</td>\n",
       "      <td>My brother and I do not get on.\\n\\nWhen we wer...</td>\n",
       "      <td>NTA\\n\\nI think you handled the situation as we...</td>\n",
       "    </tr>\n",
       "    <tr>\n",
       "      <th>3</th>\n",
       "      <td>AITA for leaving the call when my brother anno...</td>\n",
       "      <td>My brother and I do not get on.\\n\\nWhen we wer...</td>\n",
       "      <td>This is a lot to unpack, but you're definitely...</td>\n",
       "    </tr>\n",
       "  </tbody>\n",
       "</table>\n",
       "</div>"
      ],
      "text/plain": [
       "                                          post_title  \\\n",
       "0  AITA for leaving the call when my brother anno...   \n",
       "1  AITA for leaving the call when my brother anno...   \n",
       "2  AITA for leaving the call when my brother anno...   \n",
       "3  AITA for leaving the call when my brother anno...   \n",
       "\n",
       "                                        post_content  \\\n",
       "0  My brother and I do not get on.\\n\\nWhen we wer...   \n",
       "1  My brother and I do not get on.\\n\\nWhen we wer...   \n",
       "2  My brother and I do not get on.\\n\\nWhen we wer...   \n",
       "3  My brother and I do not get on.\\n\\nWhen we wer...   \n",
       "\n",
       "                                     comment_content  \n",
       "0  Nta. Your kid is gonna grow up with half sibli...  \n",
       "1  NTA- id have cut em both out completely. They’...  \n",
       "2  NTA\\n\\nI think you handled the situation as we...  \n",
       "3  This is a lot to unpack, but you're definitely...  "
      ]
     },
     "execution_count": 8,
     "metadata": {},
     "output_type": "execute_result"
    }
   ],
   "source": [
    "# create a subset with only the necessary data for training \n",
    "post_join_comment_subset_df = post_join_comment_df[[\"post_title\", \"post_content\", \"comment_content\"]]\n",
    "post_join_comment_subset_df.head(4)"
   ]
  },
  {
   "cell_type": "code",
   "execution_count": 9,
   "metadata": {},
   "outputs": [
    {
     "name": "stderr",
     "output_type": "stream",
     "text": [
      "/tmp/ipykernel_23648/3127693624.py:6: SettingWithCopyWarning: \n",
      "A value is trying to be set on a copy of a slice from a DataFrame.\n",
      "Try using .loc[row_indexer,col_indexer] = value instead\n",
      "\n",
      "See the caveats in the documentation: https://pandas.pydata.org/pandas-docs/stable/user_guide/indexing.html#returning-a-view-versus-a-copy\n",
      "  post_join_comment_subset_df[\"class\"] = classifications\n"
     ]
    },
    {
     "data": {
      "text/html": [
       "<div>\n",
       "<style scoped>\n",
       "    .dataframe tbody tr th:only-of-type {\n",
       "        vertical-align: middle;\n",
       "    }\n",
       "\n",
       "    .dataframe tbody tr th {\n",
       "        vertical-align: top;\n",
       "    }\n",
       "\n",
       "    .dataframe thead th {\n",
       "        text-align: right;\n",
       "    }\n",
       "</style>\n",
       "<table border=\"1\" class=\"dataframe\">\n",
       "  <thead>\n",
       "    <tr style=\"text-align: right;\">\n",
       "      <th></th>\n",
       "      <th>post_title</th>\n",
       "      <th>post_content</th>\n",
       "      <th>comment_content</th>\n",
       "      <th>class</th>\n",
       "    </tr>\n",
       "  </thead>\n",
       "  <tbody>\n",
       "    <tr>\n",
       "      <th>0</th>\n",
       "      <td>AITA for leaving the call when my brother anno...</td>\n",
       "      <td>My brother and I do not get on.\\n\\nWhen we wer...</td>\n",
       "      <td>Nta. Your kid is gonna grow up with half sibli...</td>\n",
       "      <td>nta</td>\n",
       "    </tr>\n",
       "    <tr>\n",
       "      <th>1</th>\n",
       "      <td>AITA for leaving the call when my brother anno...</td>\n",
       "      <td>My brother and I do not get on.\\n\\nWhen we wer...</td>\n",
       "      <td>NTA- id have cut em both out completely. They’...</td>\n",
       "      <td>nta</td>\n",
       "    </tr>\n",
       "    <tr>\n",
       "      <th>2</th>\n",
       "      <td>AITA for leaving the call when my brother anno...</td>\n",
       "      <td>My brother and I do not get on.\\n\\nWhen we wer...</td>\n",
       "      <td>NTA\\n\\nI think you handled the situation as we...</td>\n",
       "      <td>nta</td>\n",
       "    </tr>\n",
       "    <tr>\n",
       "      <th>3</th>\n",
       "      <td>AITA for leaving the call when my brother anno...</td>\n",
       "      <td>My brother and I do not get on.\\n\\nWhen we wer...</td>\n",
       "      <td>This is a lot to unpack, but you're definitely...</td>\n",
       "      <td>nta</td>\n",
       "    </tr>\n",
       "  </tbody>\n",
       "</table>\n",
       "</div>"
      ],
      "text/plain": [
       "                                          post_title  \\\n",
       "0  AITA for leaving the call when my brother anno...   \n",
       "1  AITA for leaving the call when my brother anno...   \n",
       "2  AITA for leaving the call when my brother anno...   \n",
       "3  AITA for leaving the call when my brother anno...   \n",
       "\n",
       "                                        post_content  \\\n",
       "0  My brother and I do not get on.\\n\\nWhen we wer...   \n",
       "1  My brother and I do not get on.\\n\\nWhen we wer...   \n",
       "2  My brother and I do not get on.\\n\\nWhen we wer...   \n",
       "3  My brother and I do not get on.\\n\\nWhen we wer...   \n",
       "\n",
       "                                     comment_content class  \n",
       "0  Nta. Your kid is gonna grow up with half sibli...   nta  \n",
       "1  NTA- id have cut em both out completely. They’...   nta  \n",
       "2  NTA\\n\\nI think you handled the situation as we...   nta  \n",
       "3  This is a lot to unpack, but you're definitely...   nta  "
      ]
     },
     "execution_count": 9,
     "metadata": {},
     "output_type": "execute_result"
    }
   ],
   "source": [
    "classifications = []\n",
    "for _, post_comment_row in post_join_comment_subset_df.iterrows():\n",
    "    row_class = data_utils.parse_class_label_from_AITA_comment(post_comment_row[\"comment_content\"])\n",
    "    classifications.append(row_class)\n",
    "\n",
    "post_join_comment_subset_df[\"class\"] = classifications\n",
    "post_join_comment_subset_df.head(4)"
   ]
  },
  {
   "attachments": {},
   "cell_type": "markdown",
   "metadata": {},
   "source": [
    "### Voting System\n",
    "Currently our data now has multiple occurances of post_titles and post_contents for each comment. In order to give our model only one classification per post_title and post_content, we will have to create some sort of voting system for determining the \"correct\" class. Because we have the comments with classifications provided, we will assume they know what they're talking about. There are multiple approaches to how we can account for these votes.\n",
    "\n",
    "**For now we will stick to a majority vote**\n",
    "\n",
    "It may be necessary to drop instances which are highly contested to improve performance."
   ]
  },
  {
   "cell_type": "code",
   "execution_count": 11,
   "metadata": {},
   "outputs": [
    {
     "data": {
      "text/html": [
       "<div>\n",
       "<style scoped>\n",
       "    .dataframe tbody tr th:only-of-type {\n",
       "        vertical-align: middle;\n",
       "    }\n",
       "\n",
       "    .dataframe tbody tr th {\n",
       "        vertical-align: top;\n",
       "    }\n",
       "\n",
       "    .dataframe thead th {\n",
       "        text-align: right;\n",
       "    }\n",
       "</style>\n",
       "<table border=\"1\" class=\"dataframe\">\n",
       "  <thead>\n",
       "    <tr style=\"text-align: right;\">\n",
       "      <th></th>\n",
       "      <th>post_title</th>\n",
       "      <th>post_content</th>\n",
       "      <th>class</th>\n",
       "    </tr>\n",
       "  </thead>\n",
       "  <tbody>\n",
       "    <tr>\n",
       "      <th>0</th>\n",
       "      <td>(UPDATE) AITA for telling my step-daughter to ...</td>\n",
       "      <td>[Original post ](https://www.reddit.com/r/AmIt...</td>\n",
       "      <td>[None, nta]</td>\n",
       "    </tr>\n",
       "    <tr>\n",
       "      <th>1</th>\n",
       "      <td>AITA (22M) for telling my mom (46F) to fuck off?</td>\n",
       "      <td>I lost my job two weeks ago due to redundancy....</td>\n",
       "      <td>[None, nta, esh]</td>\n",
       "    </tr>\n",
       "    <tr>\n",
       "      <th>2</th>\n",
       "      <td>AITA (31F) for not wanting to go out drinking ...</td>\n",
       "      <td>Me and my girlfriend Karla (fake name) live in...</td>\n",
       "      <td>[None, nta, nah]</td>\n",
       "    </tr>\n",
       "    <tr>\n",
       "      <th>3</th>\n",
       "      <td>AITA (39F) for NOT wanting to move to Las Vega...</td>\n",
       "      <td>Hello there. I've been with my husband for 12 ...</td>\n",
       "      <td>[None, nta, info, esh, nah]</td>\n",
       "    </tr>\n",
       "    <tr>\n",
       "      <th>4</th>\n",
       "      <td>AITA (F25) for telling my bridesmaid (F22) tha...</td>\n",
       "      <td>I’m going to try my best to detail this as cle...</td>\n",
       "      <td>[None, nta]</td>\n",
       "    </tr>\n",
       "    <tr>\n",
       "      <th>...</th>\n",
       "      <td>...</td>\n",
       "      <td>...</td>\n",
       "      <td>...</td>\n",
       "    </tr>\n",
       "    <tr>\n",
       "      <th>944</th>\n",
       "      <td>WIBTA if i told my ride off for texting while ...</td>\n",
       "      <td>My (17f ) family moved into a new neighborhood...</td>\n",
       "      <td>[None, nta, ywbta]</td>\n",
       "    </tr>\n",
       "    <tr>\n",
       "      <th>945</th>\n",
       "      <td>WIBTAH if I go against my husband and respond ...</td>\n",
       "      <td>I (27f) and my husband (26m) are back once aga...</td>\n",
       "      <td>[yta, None, ywbta]</td>\n",
       "    </tr>\n",
       "    <tr>\n",
       "      <th>946</th>\n",
       "      <td>WIBTAH if we didn't return the sofa to my dad'...</td>\n",
       "      <td>Hello all. I'll try and keep this as short as ...</td>\n",
       "      <td>[None, nta, ywbta]</td>\n",
       "    </tr>\n",
       "    <tr>\n",
       "      <th>947</th>\n",
       "      <td>[UPDATE] AITA for asking my boyfriend to charg...</td>\n",
       "      <td>\\nOriginal Post: \\n\\nhttps://www.reddit.com/r/...</td>\n",
       "      <td>[None]</td>\n",
       "    </tr>\n",
       "    <tr>\n",
       "      <th>948</th>\n",
       "      <td>[UPDATE] for yelling at my ex's GF in front of...</td>\n",
       "      <td>[Here](https://www.reddit.com/r/AmItheAsshole/...</td>\n",
       "      <td>[None]</td>\n",
       "    </tr>\n",
       "  </tbody>\n",
       "</table>\n",
       "<p>949 rows × 3 columns</p>\n",
       "</div>"
      ],
      "text/plain": [
       "                                            post_title  \\\n",
       "0    (UPDATE) AITA for telling my step-daughter to ...   \n",
       "1     AITA (22M) for telling my mom (46F) to fuck off?   \n",
       "2    AITA (31F) for not wanting to go out drinking ...   \n",
       "3    AITA (39F) for NOT wanting to move to Las Vega...   \n",
       "4    AITA (F25) for telling my bridesmaid (F22) tha...   \n",
       "..                                                 ...   \n",
       "944  WIBTA if i told my ride off for texting while ...   \n",
       "945  WIBTAH if I go against my husband and respond ...   \n",
       "946  WIBTAH if we didn't return the sofa to my dad'...   \n",
       "947  [UPDATE] AITA for asking my boyfriend to charg...   \n",
       "948  [UPDATE] for yelling at my ex's GF in front of...   \n",
       "\n",
       "                                          post_content  \\\n",
       "0    [Original post ](https://www.reddit.com/r/AmIt...   \n",
       "1    I lost my job two weeks ago due to redundancy....   \n",
       "2    Me and my girlfriend Karla (fake name) live in...   \n",
       "3    Hello there. I've been with my husband for 12 ...   \n",
       "4    I’m going to try my best to detail this as cle...   \n",
       "..                                                 ...   \n",
       "944  My (17f ) family moved into a new neighborhood...   \n",
       "945  I (27f) and my husband (26m) are back once aga...   \n",
       "946  Hello all. I'll try and keep this as short as ...   \n",
       "947  \\nOriginal Post: \\n\\nhttps://www.reddit.com/r/...   \n",
       "948  [Here](https://www.reddit.com/r/AmItheAsshole/...   \n",
       "\n",
       "                           class  \n",
       "0                    [None, nta]  \n",
       "1               [None, nta, esh]  \n",
       "2               [None, nta, nah]  \n",
       "3    [None, nta, info, esh, nah]  \n",
       "4                    [None, nta]  \n",
       "..                           ...  \n",
       "944           [None, nta, ywbta]  \n",
       "945           [yta, None, ywbta]  \n",
       "946           [None, nta, ywbta]  \n",
       "947                       [None]  \n",
       "948                       [None]  \n",
       "\n",
       "[949 rows x 3 columns]"
      ]
     },
     "execution_count": 11,
     "metadata": {},
     "output_type": "execute_result"
    }
   ],
   "source": [
    "# group the \n",
    "pjc_group_by_class = post_join_comment_subset_df.groupby([\"post_title\", \"post_content\"]).agg({\n",
    "    \"class\": lambda x: list(set(x))\n",
    "}).reset_index()\n",
    "pjc_group_by_class"
   ]
  },
  {
   "cell_type": "code",
   "execution_count": 21,
   "metadata": {},
   "outputs": [
    {
     "data": {
      "text/html": [
       "<div>\n",
       "<style scoped>\n",
       "    .dataframe tbody tr th:only-of-type {\n",
       "        vertical-align: middle;\n",
       "    }\n",
       "\n",
       "    .dataframe tbody tr th {\n",
       "        vertical-align: top;\n",
       "    }\n",
       "\n",
       "    .dataframe thead th {\n",
       "        text-align: right;\n",
       "    }\n",
       "</style>\n",
       "<table border=\"1\" class=\"dataframe\">\n",
       "  <thead>\n",
       "    <tr style=\"text-align: right;\">\n",
       "      <th></th>\n",
       "      <th>post_title</th>\n",
       "      <th>post_content</th>\n",
       "      <th>class</th>\n",
       "    </tr>\n",
       "  </thead>\n",
       "  <tbody>\n",
       "    <tr>\n",
       "      <th>0</th>\n",
       "      <td>(UPDATE) AITA for telling my step-daughter to ...</td>\n",
       "      <td>[Original post ](https://www.reddit.com/r/AmIt...</td>\n",
       "      <td>nta</td>\n",
       "    </tr>\n",
       "    <tr>\n",
       "      <th>1</th>\n",
       "      <td>AITA (22M) for telling my mom (46F) to fuck off?</td>\n",
       "      <td>I lost my job two weeks ago due to redundancy....</td>\n",
       "      <td>nta</td>\n",
       "    </tr>\n",
       "    <tr>\n",
       "      <th>2</th>\n",
       "      <td>AITA (31F) for not wanting to go out drinking ...</td>\n",
       "      <td>Me and my girlfriend Karla (fake name) live in...</td>\n",
       "      <td>nta</td>\n",
       "    </tr>\n",
       "    <tr>\n",
       "      <th>3</th>\n",
       "      <td>AITA (39F) for NOT wanting to move to Las Vega...</td>\n",
       "      <td>Hello there. I've been with my husband for 12 ...</td>\n",
       "      <td>nta</td>\n",
       "    </tr>\n",
       "  </tbody>\n",
       "</table>\n",
       "</div>"
      ],
      "text/plain": [
       "                                          post_title  \\\n",
       "0  (UPDATE) AITA for telling my step-daughter to ...   \n",
       "1   AITA (22M) for telling my mom (46F) to fuck off?   \n",
       "2  AITA (31F) for not wanting to go out drinking ...   \n",
       "3  AITA (39F) for NOT wanting to move to Las Vega...   \n",
       "\n",
       "                                        post_content class  \n",
       "0  [Original post ](https://www.reddit.com/r/AmIt...   nta  \n",
       "1  I lost my job two weeks ago due to redundancy....   nta  \n",
       "2  Me and my girlfriend Karla (fake name) live in...   nta  \n",
       "3  Hello there. I've been with my husband for 12 ...   nta  "
      ]
     },
     "execution_count": 21,
     "metadata": {},
     "output_type": "execute_result"
    }
   ],
   "source": [
    "pjc_with_class_votes = pd.DataFrame({\n",
    "    \"post_title\": pjc_group_by_class[\"post_title\"],\n",
    "    \"post_content\": pjc_group_by_class[\"post_content\"]\n",
    "})\n",
    "votes = []\n",
    "\n",
    "for _, pjc_row in pjc_group_by_class.iterrows():\n",
    "    most_common_vote = data_utils.get_AITA_most_common_vote(pjc_row[\"class\"])\n",
    "    votes.append(most_common_vote)\n",
    "\n",
    "pjc_with_class_votes[\"class\"] = votes\n",
    "pjc_with_class_votes.head(4)"
   ]
  },
  {
   "attachments": {},
   "cell_type": "markdown",
   "metadata": {},
   "source": [
    "### Drop Emtpy rows\n",
    "I'm going to be dropping any posts which have made it to this point if their class is None to make sure training works fine."
   ]
  },
  {
   "cell_type": "code",
   "execution_count": 22,
   "metadata": {},
   "outputs": [],
   "source": [
    "pjc_with_class_votes = pjc_with_class_votes.dropna()"
   ]
  },
  {
   "cell_type": "code",
   "execution_count": 23,
   "metadata": {},
   "outputs": [
    {
     "name": "stdout",
     "output_type": "stream",
     "text": [
      "<class 'pandas.core.frame.DataFrame'>\n",
      "Int64Index: 920 entries, 0 to 946\n",
      "Data columns (total 3 columns):\n",
      " #   Column        Non-Null Count  Dtype \n",
      "---  ------        --------------  ----- \n",
      " 0   post_title    920 non-null    object\n",
      " 1   post_content  920 non-null    object\n",
      " 2   class         920 non-null    object\n",
      "dtypes: object(3)\n",
      "memory usage: 28.8+ KB\n"
     ]
    }
   ],
   "source": [
    "pjc_with_class_votes.info()"
   ]
  },
  {
   "attachments": {},
   "cell_type": "markdown",
   "metadata": {},
   "source": [
    "### Put the data in a CSV\n",
    "For openai's tooling to be able to convert the data into JSONL"
   ]
  },
  {
   "cell_type": "code",
   "execution_count": 24,
   "metadata": {},
   "outputs": [],
   "source": [
    "aita_data_obj = DataClasses.AITAData()"
   ]
  },
  {
   "cell_type": "code",
   "execution_count": 25,
   "metadata": {},
   "outputs": [],
   "source": [
    "aita_data_obj.store_post_to_class_data(\"post_comment_class\", pjc_with_class_votes)"
   ]
  },
  {
   "attachments": {},
   "cell_type": "markdown",
   "metadata": {},
   "source": [
    "### Remove Excessivly long rows\n",
    "For classification purposes there is a limit on the ammount of tokens which can be input"
   ]
  },
  {
   "cell_type": "code",
   "execution_count": 26,
   "metadata": {},
   "outputs": [
    {
     "name": "stdout",
     "output_type": "stream",
     "text": [
      "<class 'pandas.core.frame.DataFrame'>\n",
      "Int64Index: 920 entries, 0 to 946\n",
      "Data columns (total 3 columns):\n",
      " #   Column        Non-Null Count  Dtype \n",
      "---  ------        --------------  ----- \n",
      " 0   post_title    920 non-null    object\n",
      " 1   post_content  920 non-null    object\n",
      " 2   class         920 non-null    object\n",
      "dtypes: object(3)\n",
      "memory usage: 28.8+ KB\n"
     ]
    },
    {
     "data": {
      "text/html": [
       "<div>\n",
       "<style scoped>\n",
       "    .dataframe tbody tr th:only-of-type {\n",
       "        vertical-align: middle;\n",
       "    }\n",
       "\n",
       "    .dataframe tbody tr th {\n",
       "        vertical-align: top;\n",
       "    }\n",
       "\n",
       "    .dataframe thead th {\n",
       "        text-align: right;\n",
       "    }\n",
       "</style>\n",
       "<table border=\"1\" class=\"dataframe\">\n",
       "  <thead>\n",
       "    <tr style=\"text-align: right;\">\n",
       "      <th></th>\n",
       "      <th>post_title</th>\n",
       "      <th>post_content</th>\n",
       "      <th>class</th>\n",
       "    </tr>\n",
       "  </thead>\n",
       "  <tbody>\n",
       "    <tr>\n",
       "      <th>0</th>\n",
       "      <td>(UPDATE) AITA for telling my step-daughter to ...</td>\n",
       "      <td>[Original post ](https://www.reddit.com/r/AmIt...</td>\n",
       "      <td>nta</td>\n",
       "    </tr>\n",
       "    <tr>\n",
       "      <th>1</th>\n",
       "      <td>AITA (22M) for telling my mom (46F) to fuck off?</td>\n",
       "      <td>I lost my job two weeks ago due to redundancy....</td>\n",
       "      <td>nta</td>\n",
       "    </tr>\n",
       "    <tr>\n",
       "      <th>2</th>\n",
       "      <td>AITA (31F) for not wanting to go out drinking ...</td>\n",
       "      <td>Me and my girlfriend Karla (fake name) live in...</td>\n",
       "      <td>nta</td>\n",
       "    </tr>\n",
       "    <tr>\n",
       "      <th>3</th>\n",
       "      <td>AITA (39F) for NOT wanting to move to Las Vega...</td>\n",
       "      <td>Hello there. I've been with my husband for 12 ...</td>\n",
       "      <td>nta</td>\n",
       "    </tr>\n",
       "  </tbody>\n",
       "</table>\n",
       "</div>"
      ],
      "text/plain": [
       "                                          post_title  \\\n",
       "0  (UPDATE) AITA for telling my step-daughter to ...   \n",
       "1   AITA (22M) for telling my mom (46F) to fuck off?   \n",
       "2  AITA (31F) for not wanting to go out drinking ...   \n",
       "3  AITA (39F) for NOT wanting to move to Las Vega...   \n",
       "\n",
       "                                        post_content class  \n",
       "0  [Original post ](https://www.reddit.com/r/AmIt...   nta  \n",
       "1  I lost my job two weeks ago due to redundancy....   nta  \n",
       "2  Me and my girlfriend Karla (fake name) live in...   nta  \n",
       "3  Hello there. I've been with my husband for 12 ...   nta  "
      ]
     },
     "execution_count": 26,
     "metadata": {},
     "output_type": "execute_result"
    }
   ],
   "source": [
    "pjc_with_class_votes.info()\n",
    "pjc_with_class_votes.head(4)"
   ]
  },
  {
   "attachments": {},
   "cell_type": "markdown",
   "metadata": {},
   "source": [
    "### Prepare Data with OpenAI tooling\n",
    "Run the following and follow the recommended procedures for produing JSONL for training the model.\n",
    "\n",
    "        openai tools fine_tunes.prepare_data -f <LOCAL_FILE>"
   ]
  },
  {
   "attachments": {},
   "cell_type": "markdown",
   "metadata": {},
   "source": [
    "## Data Formatting For Comment Generation"
   ]
  },
  {
   "cell_type": "code",
   "execution_count": 11,
   "metadata": {},
   "outputs": [
    {
     "data": {
      "text/html": [
       "<div>\n",
       "<style scoped>\n",
       "    .dataframe tbody tr th:only-of-type {\n",
       "        vertical-align: middle;\n",
       "    }\n",
       "\n",
       "    .dataframe tbody tr th {\n",
       "        vertical-align: top;\n",
       "    }\n",
       "\n",
       "    .dataframe thead th {\n",
       "        text-align: right;\n",
       "    }\n",
       "</style>\n",
       "<table border=\"1\" class=\"dataframe\">\n",
       "  <thead>\n",
       "    <tr style=\"text-align: right;\">\n",
       "      <th></th>\n",
       "      <th>post_title</th>\n",
       "      <th>post_content</th>\n",
       "      <th>comment_content</th>\n",
       "      <th>class</th>\n",
       "    </tr>\n",
       "  </thead>\n",
       "  <tbody>\n",
       "    <tr>\n",
       "      <th>0</th>\n",
       "      <td>AITA for leaving the call when my brother anno...</td>\n",
       "      <td>My brother and I do not get on.\\n\\nWhen we wer...</td>\n",
       "      <td>Nta. Your kid is gonna grow up with half sibli...</td>\n",
       "      <td>nta</td>\n",
       "    </tr>\n",
       "    <tr>\n",
       "      <th>1</th>\n",
       "      <td>AITA for leaving the call when my brother anno...</td>\n",
       "      <td>My brother and I do not get on.\\n\\nWhen we wer...</td>\n",
       "      <td>NTA- id have cut em both out completely. They’...</td>\n",
       "      <td>nta</td>\n",
       "    </tr>\n",
       "    <tr>\n",
       "      <th>2</th>\n",
       "      <td>AITA for leaving the call when my brother anno...</td>\n",
       "      <td>My brother and I do not get on.\\n\\nWhen we wer...</td>\n",
       "      <td>NTA\\n\\nI think you handled the situation as we...</td>\n",
       "      <td>nta</td>\n",
       "    </tr>\n",
       "    <tr>\n",
       "      <th>3</th>\n",
       "      <td>AITA for leaving the call when my brother anno...</td>\n",
       "      <td>My brother and I do not get on.\\n\\nWhen we wer...</td>\n",
       "      <td>This is a lot to unpack, but you're definitely...</td>\n",
       "      <td>nta</td>\n",
       "    </tr>\n",
       "  </tbody>\n",
       "</table>\n",
       "</div>"
      ],
      "text/plain": [
       "                                          post_title  \\\n",
       "0  AITA for leaving the call when my brother anno...   \n",
       "1  AITA for leaving the call when my brother anno...   \n",
       "2  AITA for leaving the call when my brother anno...   \n",
       "3  AITA for leaving the call when my brother anno...   \n",
       "\n",
       "                                        post_content  \\\n",
       "0  My brother and I do not get on.\\n\\nWhen we wer...   \n",
       "1  My brother and I do not get on.\\n\\nWhen we wer...   \n",
       "2  My brother and I do not get on.\\n\\nWhen we wer...   \n",
       "3  My brother and I do not get on.\\n\\nWhen we wer...   \n",
       "\n",
       "                                     comment_content class  \n",
       "0  Nta. Your kid is gonna grow up with half sibli...   nta  \n",
       "1  NTA- id have cut em both out completely. They’...   nta  \n",
       "2  NTA\\n\\nI think you handled the situation as we...   nta  \n",
       "3  This is a lot to unpack, but you're definitely...   nta  "
      ]
     },
     "execution_count": 11,
     "metadata": {},
     "output_type": "execute_result"
    }
   ],
   "source": [
    "post_join_comment_subset_df.head(4)"
   ]
  },
  {
   "cell_type": "code",
   "execution_count": 14,
   "metadata": {},
   "outputs": [],
   "source": [
    "post_join_comment_subset_df = post_join_comment_subset_df.dropna()"
   ]
  },
  {
   "cell_type": "code",
   "execution_count": 16,
   "metadata": {},
   "outputs": [
    {
     "name": "stdout",
     "output_type": "stream",
     "text": [
      "class labels present: ['nta', 'info', 'yta', 'esh', 'ywbta', 'nah', 'ywnbta']\n"
     ]
    }
   ],
   "source": [
    "print(\"class labels present:\", list(post_join_comment_subset_df[\"class\"].unique()))"
   ]
  },
  {
   "cell_type": "code",
   "execution_count": 23,
   "metadata": {},
   "outputs": [],
   "source": [
    "aita_data_obj.store_post_and_class_to_text_data(\"post_and_class_to_gen_text\", post_join_comment_subset_df)"
   ]
  },
  {
   "cell_type": "code",
   "execution_count": 27,
   "metadata": {},
   "outputs": [
    {
     "data": {
      "text/plain": [
       "'title: AITA for leaving the call when my brother announced that his gf is pregnant?\\ncontent: My brother and I do not get on.\\n\\nWhen we were younger he\\'d go out of his way to make my life a living hell. To my parent\\'s credit they did tell him off for it when they caught him but they both worked long hours and didn\\'t have the energy to deal with our arguments. This continued into adulthood. He was salty that he failed his college course the first time around.\\n\\nThere was a bad argument in our family a while ago and, I shit you not, it all started because I refused the decorate my brothers living room. I wont go into too much detail but he wanted a pretty hefty discount, I said no and he threw a tantrum.\\n\\nYou really need to meet my brother to understand just how bad he is. But hopefully this post will do it some justice. Instead of being a grown up and talking to me, he decided to hook up with my toxic ex girlfriend and the mother of my child. Due to the rules here I can\\'t go into a lot of detail about what she was like but she was not a nice person. She never really bonded with our son when he was born and I was left to do everything by myself. She eventually walked out on us and refused to have any contact with our son. She\\'ll post on Facebook now and then about her beautiful baby boy to get sympathy votes but that\\'s about it.\\n\\nI have been a single dad for almost three years now and I absolutely adore my son but it hurts to think that one day he might question why his mum didn\\'t want anything to do with him. How am I supposed to explain that to him?\\n\\nAnyway, it bothered me when my brother told me they\\'d hooked up together. It hurt even more when he started dating her. It had taken me so long to get over what she did to me and my child and now my own brother was bringing her back into my life.\\n\\nYesterday we had a family video call (parents are high risk and we\\'re not taking any chances) when my brother decided to announce that he and my ex were expecting.\\n\\nI just froze, I didn\\'t know what to do or think. I could feel myself starting to cry a little bit and it got a bit harder to breathe. Eventually I decided to just congratulate them and then made up some lie about needing to put my son down for a nap and left.\\n\\nI received a bunch of messages from my brother and his gf telling me that I stole their thunder. After I left, my parents and some other family members started worrying if I was okay and not really focusing on their news. My uncle told me that I should\\'ve just \"been a man\" and stuck it out instead of making excuses to get out of it, after all it was expected that our kids would be raised around each other.\\n\\nI feel like maybe I shouldn\\'t have left the call but at the same time it would\\'ve been worse if I\\'d stayed and had a full blown panic attack in front of everyone. Some of the family members are split and have argued that I won\\'t be able to avoid my brother and his family forever but others believe I was in the right to leave that situation. I don\\'t know what to think\\n\\nEDIT\\n\\nI just wanted to say thank you first of all for all the support. I fell asleep last night and woke up to so many kind and supportive comments.  \\n\\nA lot of people have been asking how my parents feel about this. They aren\\'t happy but they don\\'t have the energy to deal with all the hassle my brother would cause. They actually cut him off for a little wile when he started dating my ex but he phoned them constantly and, again can\\'t go into much detail, but he said he\\'d do something not so good. They keep him at arms length but I have told them not to cut contact because of me. If they want to cut contact on their own accord then that\\'s fine but I do not want to be the reason that they have to deal with his tantrums.\\n\\nThe rest of the family, for the most part, weren\\'t happy about it but accepted it (or pretended to) when they started getting a bit more serious. My uncle )who told me to be a man) thought it was funny, that\\'s just the kind of person he is.\\n\\nI think as hard as it might be, I am going to cut off contact with my brother and ex. As a lot of people pointed out, not for my sake but for the sake of my son. I don\\'t want to put him through all that.\\n\\nSorry I can\\'t reply to all your comments but I\\'ve been trying to read them all. Thanks again Reddit.\\nclassification: nta'"
      ]
     },
     "execution_count": 27,
     "metadata": {},
     "output_type": "execute_result"
    }
   ],
   "source": [
    "temp_df = pd.read_csv(\"../data/store/post_and_class_to_gen_text.csv\").head(4)\n",
    "\n",
    "temp_df.iloc[3][\"prompt\"]"
   ]
  }
 ],
 "metadata": {
  "kernelspec": {
   "display_name": "Python 3",
   "language": "python",
   "name": "python3"
  },
  "language_info": {
   "codemirror_mode": {
    "name": "ipython",
    "version": 3
   },
   "file_extension": ".py",
   "mimetype": "text/x-python",
   "name": "python",
   "nbconvert_exporter": "python",
   "pygments_lexer": "ipython3",
   "version": "3.8.10"
  },
  "orig_nbformat": 4
 },
 "nbformat": 4,
 "nbformat_minor": 2
}
